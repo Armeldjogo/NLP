{
  "nbformat": 4,
  "nbformat_minor": 0,
  "metadata": {
    "colab": {
      "name": "Exam_2.ipynb",
      "provenance": [],
      "mount_file_id": "1EJrCr_1txqFsUId9-Ws6n5CMHU05p8Xj",
      "authorship_tag": "ABX9TyOsiCwZPQSIRSNybPBe6sce",
      "include_colab_link": true
    },
    "kernelspec": {
      "name": "python3",
      "display_name": "Python 3"
    },
    "language_info": {
      "name": "python"
    },
    "accelerator": "GPU"
  },
  "cells": [
    {
      "cell_type": "markdown",
      "metadata": {
        "id": "view-in-github",
        "colab_type": "text"
      },
      "source": [
        "<a href=\"https://colab.research.google.com/github/Armeldjogo/NLP/blob/main/Exam_2.ipynb\" target=\"_parent\"><img src=\"https://colab.research.google.com/assets/colab-badge.svg\" alt=\"Open In Colab\"/></a>"
      ]
    },
    {
      "cell_type": "markdown",
      "metadata": {
        "id": "W2DZhfwmABMH"
      },
      "source": [
        "Name: Armel Nsiangani\n",
        "\n",
        "Student ID#: 001-99-1988\n",
        "\n",
        "\n",
        "NLP - Exam 2"
      ]
    },
    {
      "cell_type": "code",
      "metadata": {
        "colab": {
          "base_uri": "https://localhost:8080/",
          "height": 0
        },
        "id": "FlbgWBDbN3pe",
        "outputId": "7a1ca2ff-6c6b-4bc4-b628-a402b5238191"
      },
      "source": [
        "# Downloading packages\n",
        "%matplotlib inline\n",
        "from sklearn.metrics import classification_report\n",
        "from nltk.tokenize import word_tokenize\n",
        "from keras.preprocessing.text import Tokenizer\n",
        "import tensorflow_hub as hub\n",
        "import zipfile\n",
        "import spacy\n",
        "import numpy as np\n",
        "import pandas as pd\n",
        "import matplotlib.pyplot as plt\n",
        "import seaborn as sns; sns.set() \n",
        "from sklearn.feature_extraction.text import CountVectorizer # Bag of words\n",
        "from sklearn.feature_extraction.text import TfidfVectorizer # TF-IDF\n",
        "from sklearn.naive_bayes import MultinomialNB # Bayes\n",
        "from sklearn.ensemble import RandomForestClassifier # RF\n",
        "from sklearn.svm import SVC # SVC\n",
        "from sklearn.svm import LinearSVC\n",
        "from sklearn.pipeline import make_pipeline\n",
        "from sklearn.model_selection import train_test_split\n",
        "import sklearn.metrics \n",
        "from sklearn.metrics import confusion_matrix\n",
        "import sklearn.metrics \n",
        "from sklearn.feature_extraction.text import CountVectorizer\n",
        "from sklearn.feature_extraction.text import TfidfTransformer\n",
        "from sklearn.feature_extraction.text import TfidfVectorizer\n",
        "from collections import Counter\n",
        "from nltk.corpus import stopwords\n",
        "from nltk.sentiment.vader import SentimentIntensityAnalyzer as SIA\n",
        "import nltk\n",
        "nltk.download('stopwords')\n",
        "nltk.download('punkt')\n",
        "nltk.download('vader_lexicon')\n",
        "nltk.download('movie_reviews')\n",
        "nltk.download('punkt')\n",
        "# Random seed\n",
        "from numpy.random import seed\n",
        "seed(12345)\n",
        "\n",
        "import spacy.cli\n",
        "import en_core_web_sm\n",
        "spacy.cli.download('en_core_web_lg')\n",
        "spacy.cli.download('en')"
      ],
      "execution_count": 1,
      "outputs": [
        {
          "output_type": "stream",
          "text": [
            "/usr/local/lib/python3.7/dist-packages/nltk/twitter/__init__.py:20: UserWarning: The twython library has not been installed. Some functionality from the twitter package will not be available.\n",
            "  warnings.warn(\"The twython library has not been installed. \"\n"
          ],
          "name": "stderr"
        },
        {
          "output_type": "stream",
          "text": [
            "[nltk_data] Downloading package stopwords to /root/nltk_data...\n",
            "[nltk_data]   Unzipping corpora/stopwords.zip.\n",
            "[nltk_data] Downloading package punkt to /root/nltk_data...\n",
            "[nltk_data]   Unzipping tokenizers/punkt.zip.\n",
            "[nltk_data] Downloading package vader_lexicon to /root/nltk_data...\n",
            "[nltk_data] Downloading package movie_reviews to /root/nltk_data...\n",
            "[nltk_data]   Unzipping corpora/movie_reviews.zip.\n",
            "[nltk_data] Downloading package punkt to /root/nltk_data...\n",
            "[nltk_data]   Package punkt is already up-to-date!\n",
            "\u001b[38;5;2m✔ Download and installation successful\u001b[0m\n",
            "You can now load the model via spacy.load('en_core_web_lg')\n",
            "\u001b[38;5;2m✔ Download and installation successful\u001b[0m\n",
            "You can now load the model via spacy.load('en_core_web_sm')\n",
            "\u001b[38;5;2m✔ Linking successful\u001b[0m\n",
            "/usr/local/lib/python3.7/dist-packages/en_core_web_sm -->\n",
            "/usr/local/lib/python3.7/dist-packages/spacy/data/en\n",
            "You can now load the model via spacy.load('en')\n"
          ],
          "name": "stdout"
        }
      ]
    },
    {
      "cell_type": "markdown",
      "metadata": {
        "id": "58Uzq0hgAVJk"
      },
      "source": [
        "Question 1: \n",
        "\n",
        "Write a function that takes a List of five words: [‘apple’, ‘house’, ‘pear’,\n",
        "‘dog’, ‘doctor’] and returns a list of lists with each element being a word and a list of the top five\n",
        "most similar words."
      ]
    },
    {
      "cell_type": "code",
      "metadata": {
        "colab": {
          "base_uri": "https://localhost:8080/"
        },
        "id": "Cwzt4jjNam-o",
        "outputId": "e8793f93-2734-47c8-f413-be551af67e78"
      },
      "source": [
        "# Question 1\n",
        "\n",
        " nlp = spacy.load('en_core_web_lg')\n",
        "\n",
        "def returnSimByN(word,n):\n",
        "  w = nlp.vocab[str(word)]\n",
        "  q = [ x for x in w.vocab \n",
        "        if x.is_lower == w.is_lower and x.prob >= -15 and np.count_nonzero(x.vector)]\n",
        "  by_sim = sorted(q, key=lambda wr: w.similarity(wr), reverse=True)\n",
        "  final_set = []\n",
        "  for wrd in by_sim[:n+2]:\n",
        "    if wrd.lower_ != word and wrd.lower_ != word+'s':\n",
        "      final_set.append(wrd.lower_)\n",
        "  return final_set\n",
        "\n",
        "def retunSimMultiple(arrayWords):\n",
        "  # Takes list of five words\n",
        "  nlp = spacy.load('en_core_web_lg')\n",
        "  sim = []\n",
        "  for k in arrayWords:\n",
        "    foundSim = returnSimByN(k,5)\n",
        "    sim.append(foundSim)\n",
        "\n",
        "  simMultiple = [arrayWords[0],sim[0],\n",
        "                 arrayWords[1],sim[1],\n",
        "                 arrayWords[2],sim[2],\n",
        "                 arrayWords[3],sim[3],\n",
        "                 arrayWords[4],sim[4]]\n",
        "\n",
        "  return simMultiple\n",
        "    \n",
        "list_original = ['apple', 'house', 'pear','dog', 'doctor']\n",
        "list_with_sim = retunSimMultiple(list_original)\n",
        "\n",
        "print(list_with_sim[:2])\n",
        "print(list_with_sim[2:4])\n",
        "print(list_with_sim[4:6])\n",
        "print(list_with_sim[6:8])\n",
        "print(list_with_sim[8:10])"
      ],
      "execution_count": null,
      "outputs": [
        {
          "output_type": "stream",
          "text": [
            "['apple', ['blackberry', 'iphone', 'fruit', 'blueberry', 'strawberry']]\n",
            "['house', ['home', 'apartment', 'bedroom', 'residence', 'homes']]\n",
            "['pear', ['peach', 'raspberry', 'pineapple', 'plum', 'mango']]\n",
            "['dog', ['puppy', 'pet', 'cat', 'puppies', 'canine']]\n",
            "['doctor', ['physician', 'pharmacist', 'surgeon', 'medical', 'nurse']]\n"
          ],
          "name": "stdout"
        }
      ]
    },
    {
      "cell_type": "markdown",
      "metadata": {
        "id": "VI_RjDqmA76u"
      },
      "source": [
        "Question: Are these similar words actually similar?\n",
        "\n",
        "Yes, the words are really similar. Although, it also the fruit \"apple\" to the tech company \"apple\"."
      ]
    },
    {
      "cell_type": "markdown",
      "metadata": {
        "id": "UpFkAxWuBjkU"
      },
      "source": [
        "Question 2:\n",
        "\n",
        "Using the Homework 2 dataset, also attached in the Exam 2 files,\n",
        "shakespeares-works_TXT_FolgerShakespeare.zip. Find the document to document similarity\n",
        "using:"
      ]
    },
    {
      "cell_type": "code",
      "metadata": {
        "id": "kVHyLLn45hcc"
      },
      "source": [
        "# Question 2\n",
        "\n",
        "# Unzip files uploaded\n",
        "import zipfile\n",
        "import glob, os\n",
        "\n",
        "path_to_zip_file = \"/content/shakespeares-works_TXT_FolgerShakespeare.zip\"\n",
        "directory_to_extract_to = \"/content/\"\n",
        "with zipfile.ZipFile(path_to_zip_file, 'r') as zip_ref:\n",
        "    zip_ref.extractall(directory_to_extract_to)\n",
        "\n",
        "# Saving the data\n",
        "os.chdir(\"/content/\")\n",
        "filesName = []\n",
        "for namefile in glob.glob(\"*.txt\"):\n",
        "    filesName.append(namefile)\n",
        "\n",
        "\n",
        "allDocuments = []\n",
        "for i in range(0,len(filesName)):\n",
        "  with open(\"/content/\" + filesName[i]) as openfile:\n",
        "    data = openfile.read()\n",
        "    allDocuments.append(data)\n"
      ],
      "execution_count": 2,
      "outputs": []
    },
    {
      "cell_type": "code",
      "metadata": {
        "id": "W_1tN0K8P02V"
      },
      "source": [
        "# Computing cosine similarities + display heatMap\n",
        "stopWords = stopwords.words('english')\n",
        "vect = TfidfVectorizer(min_df=1, stop_words = stopWords)                                                                                                                                                                                                   \n",
        "tfidf = vect.fit_transform(allDocuments)                                                                                                                                                                                                                       \n",
        "pair_similarity = sklearn.metrics.pairwise.cosine_similarity(tfidf)"
      ],
      "execution_count": 3,
      "outputs": []
    },
    {
      "cell_type": "code",
      "metadata": {
        "colab": {
          "base_uri": "https://localhost:8080/",
          "height": 301
        },
        "id": "4XG0NZFzRTXq",
        "outputId": "431600f4-30c8-4d33-9180-17308d51824f"
      },
      "source": [
        "plt.imshow(pair_similarity)\n",
        "plt.grid(False)\n",
        "plt.set_cmap('hot')\n",
        "plt.colorbar(orientation='vertical')\n",
        "plt.title('HeatMap - Cosine similarity')\n",
        "plt.xlabel('Literature 1 - 47')\n",
        "plt.ylabel('Literature 1 - 47')\n",
        "plt.show()"
      ],
      "execution_count": 11,
      "outputs": [
        {
          "output_type": "display_data",
          "data": {
            "image/png": "[encoded data removed]",
            "text/plain": [
              "<Figure size 432x288 with 2 Axes>"
            ]
          },
          "metadata": {
            "tags": [],
            "needs_background": "light"
          }
        }
      ]
    },
    {
      "cell_type": "code",
      "metadata": {
        "colab": {
          "base_uri": "https://localhost:8080/",
          "height": 0
        },
        "id": "8oNlKPkISTrc",
        "outputId": "c792e229-45a5-4184-84f5-e6b4d795c618"
      },
      "source": [
        "# heat map with Doc2Vec\n",
        "from nltk.stem import SnowballStemmer\n",
        "import re\n",
        "from gensim import utils\n",
        "from gensim.models.doc2vec import LabeledSentence\n",
        "from gensim.models.doc2vec import TaggedDocument\n",
        "from gensim.models import Doc2Vec\n",
        "from gensim.test.utils import common_texts\n",
        "from gensim.models.doc2vec import Doc2Vec, TaggedDocument\n",
        "from gensim.test.utils import get_tmpfile\n",
        "from sklearn.metrics.pairwise import cosine_similarity\n",
        "from sklearn.metrics import accuracy_score\n",
        "from scipy import spatial \n",
        "\n",
        "# Train a model\n",
        "dmts = [TaggedDocument(doc, [k]) for k, doc in enumerate(common_texts)]\n",
        "model = Doc2Vec(dmts, vector_size=5, window=2, min_count=1, workers=4)\n",
        "\n",
        "def cosDistanceDoc2Vec(sent_1, sent_2,model):\n",
        "  v_1 = model.infer_vector(sent_1.split())\n",
        "  v_2 = model.infer_vector(sent_2.split())\n",
        "  cos_distance = spatial.distance.cosine(v_1, v_2)\n",
        "  return cos_distance\n",
        "\n",
        "# Create Matrix\n",
        "sim_matrix = np.ones(shape=(len(allDocuments),len(allDocuments))) \n",
        "\n",
        "for i in range(0,len(allDocuments)):\n",
        "  for k in range(0,len(allDocuments)):\n",
        "    sim_matrix[k,i] = cosDistanceDoc2Vec(allDocuments[i],allDocuments[k],model)\n",
        "print(sim_matrix)"
      ],
      "execution_count": 8,
      "outputs": [
        {
          "output_type": "stream",
          "text": [
            "[[1.07288361e-06 1.43945524e+00 3.27416122e-01 ... 4.83564913e-01\n",
            "  7.24068671e-01 1.56241107e+00]\n",
            " [1.43927050e+00 1.25169754e-06 1.48107085e+00 ... 8.28926370e-01\n",
            "  9.64353602e-01 1.00464658e+00]\n",
            " [3.28028321e-01 1.48192838e+00 1.07288361e-06 ... 4.55707729e-01\n",
            "  8.04922685e-01 1.27939457e+00]\n",
            " ...\n",
            " [4.82137263e-01 8.28985095e-01 4.56567407e-01 ... 7.74860382e-07\n",
            "  2.34854996e-01 9.24862258e-01]\n",
            " [7.22783118e-01 9.63229079e-01 8.04755449e-01 ... 2.35585690e-01\n",
            "  1.37090683e-06 4.98070359e-01]\n",
            " [1.56282663e+00 1.00573711e+00 1.28001842e+00 ... 9.27780926e-01\n",
            "  4.99973297e-01 5.90085983e-06]]\n"
          ],
          "name": "stdout"
        }
      ]
    },
    {
      "cell_type": "code",
      "metadata": {
        "colab": {
          "base_uri": "https://localhost:8080/",
          "height": 301
        },
        "id": "I7ImOnXEes73",
        "outputId": "cef42330-db9c-45ab-fb29-e9e6f82d2cf5"
      },
      "source": [
        "plt.imshow(sim_matrix)\n",
        "plt.grid(False)\n",
        "plt.set_cmap('hot')\n",
        "plt.colorbar(orientation='vertical')\n",
        "plt.title('HeatMap - Doc2Vec')\n",
        "plt.xlabel('Literature 1 - 47')\n",
        "plt.ylabel('Literature 1 - 47')\n",
        "plt.show()"
      ],
      "execution_count": 10,
      "outputs": [
        {
          "output_type": "display_data",
          "data": {
            "image/png": "[encoded data removed]",
            "text/plain": [
              "<Figure size 432x288 with 2 Axes>"
            ]
          },
          "metadata": {
            "tags": [],
            "needs_background": "light"
          }
        }
      ]
    },
    {
      "cell_type": "markdown",
      "metadata": {
        "id": "TUP0M5YeEuit"
      },
      "source": [
        "Question: What are the differences between the methods?\n",
        "\n",
        "I found the Cosine approach to be less noiser. As shown on the cosine similarity heatmap, it is easier to distinguish the outstanding (e.g. common) works than in the Doc2Vec heatmap. In the latter, it seems to be noiser. However, I believe they are relating the same outcome. In the cosine similarity, the higher the value (>0) the more similar are the works. In the Doc2Vec, the close to zero (distance between works) their comparing values are, the more similar they are. In the example above, the light areas of the cosine similarity matrix coincides to the dark areas of the Doc2Vec areas. Therefore, they are really similar."
      ]
    },
    {
      "cell_type": "markdown",
      "metadata": {
        "id": "5rxr_7ufGT-m"
      },
      "source": [
        "Question 3: \n",
        "\n",
        "\n",
        " Using the Homework 2 dataset. Use SpaCy to extract the following"
      ]
    },
    {
      "cell_type": "code",
      "metadata": {
        "id": "YnNOtzYrZUrX"
      },
      "source": [
        "# Question 3\n",
        "\n",
        "# a) create function for input: concatenated data\n",
        "merged_files = ''\n",
        "for i in allDocuments:\n",
        "  merged_files = merged_files + i\n"
      ],
      "execution_count": null,
      "outputs": []
    },
    {
      "cell_type": "code",
      "metadata": {
        "id": "Are16OAplYUE"
      },
      "source": [
        "nlp = spacy.load('en')\n",
        "documents = nlp(merged_files)\n",
        "\n",
        "for noun in list(documents.noun_chunks):\n",
        "  noun.merge(noun.root.tag_, noun.root.lemma_, noun.root.ent_type_)\n",
        " \n",
        "# [(token.text,token.pos_) for token in doc]"
      ],
      "execution_count": null,
      "outputs": []
    },
    {
      "cell_type": "code",
      "metadata": {
        "id": "Fq3OQT0MmEmd"
      },
      "source": [
        "nlp = spacy.load('en')\n",
        "nlp.max_length = 6000000"
      ],
      "execution_count": null,
      "outputs": []
    },
    {
      "cell_type": "code",
      "metadata": {
        "id": "c3fW6IOToAnP"
      },
      "source": [
        "documents = nlp(merged_files)"
      ],
      "execution_count": null,
      "outputs": []
    },
    {
      "cell_type": "markdown",
      "metadata": {
        "id": "JiwkDth2PaXX"
      },
      "source": [
        "Problem: I could not run this section due to memory issue in colab."
      ]
    },
    {
      "cell_type": "markdown",
      "metadata": {
        "id": "zM4hs5weGdgq"
      },
      "source": [
        "Question 4:\n",
        "\n",
        "Using the dataset: Ask0729, found in Exam files, write two functions to\n",
        "extract all dates found in this dataset. The input of these functions should take the dataset as\n",
        "input, and output a list of dates. You should use two different methods, one per function.\n"
      ]
    },
    {
      "cell_type": "code",
      "metadata": {
        "id": "zAzgeGsL02g_"
      },
      "source": [
        "# Question 4\n",
        "# extracting data\n",
        "import glob, os \n",
        "path_to_zip_file = \"/content/Ask0729.zip\"\n",
        "directory_to_extract_to = \"/content/ask_extracted\"\n",
        "with zipfile.ZipFile(path_to_zip_file, 'r') as zip_ref:\n",
        "    zip_ref.extractall(directory_to_extract_to)\n",
        "\n",
        "# Saving the data\n",
        "os.chdir(\"/content/ask_extracted/\")\n",
        "filesName = []\n",
        "for namefile in glob.glob(\"*.txt\"):\n",
        "    filesName.append(namefile)\n",
        "\n",
        "\n",
        "with open(\"/content/ask_extracted/\" + filesName[0]) as openfile:\n",
        "  data_Q4 = openfile.read()\n",
        "\n",
        "with open(\"/content/ask_extracted/\" + filesName[0]) as openfile:\n",
        "  data_Q4_2 = openfile.readlines()\n"
      ],
      "execution_count": 12,
      "outputs": []
    },
    {
      "cell_type": "markdown",
      "metadata": {
        "id": "XAF2852gHYhx"
      },
      "source": [
        "a) Using SpaCy & Print"
      ]
    },
    {
      "cell_type": "code",
      "metadata": {
        "id": "_iV-tDCK3uwP"
      },
      "source": [
        "# Load folder/Package\n",
        "from spacy.matcher import Matcher\n",
        "nlp = spacy.load('en')\n"
      ],
      "execution_count": 13,
      "outputs": []
    },
    {
      "cell_type": "code",
      "metadata": {
        "colab": {
          "base_uri": "https://localhost:8080/",
          "height": 0
        },
        "id": "YcFVTgh7H-1g",
        "outputId": "5dc2d883-5987-45e1-90d7-d50dc839fcb8"
      },
      "source": [
        "# Using patterns\n",
        "def spacyExctractDates(d):\n",
        "  documents = nlp(d)\n",
        "  matcher = Matcher(nlp.vocab)\n",
        "  matcher = Matcher(nlp.vocab)\n",
        "  patterns =  [[{\"LOWER\": \"monday\"},{\"IS_PUNCT\": True}, {\"IS_STOP\": False}], \n",
        "             [{\"LOWER\": \"tuesday\"},{\"IS_PUNCT\": True}, {\"IS_STOP\": False}],\n",
        "             [{\"LOWER\": \"wednesday\"},{\"IS_PUNCT\": True}, {\"IS_STOP\": False}],\n",
        "             [{\"LOWER\": \"thursday\"},{\"IS_PUNCT\": True}, {\"IS_STOP\": False}],\n",
        "             [{\"LOWER\": \"friday\"},{\"IS_PUNCT\": True}, {\"IS_STOP\": False}],\n",
        "             [{\"LOWER\": \"saturday\"},{\"IS_PUNCT\": True}, {\"IS_STOP\": False}],\n",
        "             [{\"LOWER\": \"sunday\"},{\"IS_PUNCT\": True}, {\"IS_STOP\": False}]\n",
        "             ]\n",
        "            \n",
        "  matcher.add(\"dateSpacy\", patterns)\n",
        "  matches = matcher(documents)\n",
        "  return matches,documents\n",
        "\n",
        "m,docmts =  spacyExctractDates(data_Q4)\n",
        "\n",
        "print('Results using SpaCy')\n",
        "print('----------------------------------------')\n",
        "for match_id, start, end in m: \n",
        "    span = docmts[start:end+1]\n",
        "    print(span.text)"
      ],
      "execution_count": 15,
      "outputs": [
        {
          "output_type": "stream",
          "text": [
            "Results using SpaCy\n",
            "----------------------------------------\n",
            "Monday.\n",
            "No\n",
            "Tuesday, March 20\n",
            "Wednesday .\n",
            "No\n",
            "Thursday.\n",
            "No\n",
            "Wednesday, June 27\n",
            "Thursday.\n",
            "No\n",
            "Monday, September 2nd\n",
            "Thursday.\n",
            "No\n",
            "Tuesday, October 24\n",
            "Wednesday, July 31\n",
            "Monday, January 14\n",
            "Monday, April 23rd\n",
            "Monday, January 29\n",
            "Thursday, June 14\n",
            "Monday.\n",
            "No\n",
            "Thursday.\n",
            "No\n",
            "Wednesday, October 25\n",
            "Wednesday)?\n",
            "\n",
            "Wednesday.\n",
            "No\n",
            "Saturday.\n",
            "No\n",
            "Wednesday, December 31st\n",
            "Friday:\n",
            "No\n",
            "Monday, April 16th\n",
            "Monday, August 6th\n",
            "Monday, June 4th\n",
            "Tuesday.\n",
            "No\n",
            "Friday, October 26\n",
            "Saturday (10th)\n",
            "Monday.\n",
            "No\n",
            "Tuesday, October 2\n",
            "Friday.\n",
            "No\n",
            "Tuesday, June 12\n",
            "Thursday - Tex Mex\n",
            "Monday.\n",
            "No\n",
            "Friday.\n",
            "No\n",
            "Monday!\n",
            "No\n",
            "Sunday.\n",
            "No\n",
            "Friday, April the\n",
            "Monday.\n",
            "No\n",
            "Thursday.\n",
            "No\n",
            "Monday, December 16th\n",
            "Wednesday.\n",
            "No\n",
            "Wednesday.\n",
            "No\n",
            "Wednesday, August 28th\n",
            "Sunday, July 14th\n",
            "Friday, June1st regarding\n",
            "Thursday & Friday.\n",
            "Friday.\n",
            "No\n",
            "Thursday, January 25\n",
            "Thursday, September 19th\n",
            "Wednesday.\n",
            "No\n",
            "Thursday.\n",
            "No\n",
            "Monday.\n",
            "No\n",
            "Wednesday, August 2nd\n",
            "Thursday, 31st January\n",
            "Sunday), I\n",
            "Monday, October 8\n",
            "Friday.\n",
            "Yes\n",
            "Sunday, December 8th\n",
            "Monday, November 11th\n",
            "Wednesday, September 25th\n",
            "Thursday, usual time\n",
            "Monday.\n",
            "Yes\n",
            "Tuesday.\n",
            "Yes\n",
            "Saturday?\n",
            "Yes\n",
            "Monday?\n",
            "Yes\n",
            "Thursday.\n",
            "Yes\n",
            "Tuesday.\n",
            "Yes\n",
            "Sunday.\n",
            "Yes\n",
            "Saturday, March 25\n",
            "Tuesday, January 8th\n",
            "Friday.\n",
            "Yes\n",
            "Thursday, March 22\n",
            "Friday.\n",
            "Yes\n",
            "Friday?\n",
            "Yes\n",
            "Monday?\n",
            "Yes\n",
            "Wednesday?\n",
            "Yes\n",
            "Monday:\n",
            "Yes\n",
            "Tuesday, February 20\n",
            "Sunday.\n",
            "Yes\n",
            "Friday.\n",
            "Yes\n",
            "Monday, June 4th\n",
            "Monday.\n",
            "Yes\n",
            "Thursday, November 29th\n",
            "Monday.\n",
            "Yes\n",
            "Thursday.\n",
            "Yes\n",
            "Tuesday, August 27th\n",
            "Friday \"package\"\n",
            "Monday, November 20th\n",
            "Monday, Jan. 22nd\n",
            "Wednesday, Jan. 24th\n",
            "Friday, August 17\n",
            "Wednesday, April 12th\n",
            "Monday?) so\n",
            "Friday.\n",
            "Yes\n",
            "Wednesday.\n",
            "Yes\n",
            "Tuesday.\n",
            "Yes\n",
            "Friday.\n",
            "Yes\n",
            "Sunday.\n",
            "Yes\n",
            "Thursday, 7:00 p.m.\n",
            "Friday.\n",
            "Yes\n",
            "Sunday.\n",
            "Yes\n",
            "Tuesday.\n",
            "Yes\n",
            "Friday?\n",
            "Yes\n",
            "Saturday.\n",
            "Yes\n",
            "Friday.\n",
            "Yes\n",
            "Monday.\n",
            "Yes\n",
            "Monday.\n",
            "Yes\n",
            "Monday.\n",
            "Yes\n",
            "Wednesday.\n",
            "Yes\n",
            "Monday.\n",
            "Yes\n",
            "Monday, December 18\n",
            "Wednesday, Dec. 13th\n",
            "Monday.\n",
            "Yes\n",
            "Tuesday/Wednesday.\n",
            "Wednesday.\n",
            "Yes\n",
            "Friday?\n",
            "Yes\n",
            "Friday.\n",
            "Yes\n",
            "Sunday.\n",
            "Yes\n",
            "Friday, August 4th\n",
            "Thursday.\n",
            "Yes\n",
            "Tuesday, September 30th\n",
            "Thursday.\n",
            "Yes\n",
            "Monday.\n",
            "Yes\n",
            "Monday.\n",
            "Yes\n",
            "Friday.\n",
            "Yes\n",
            "Monday, coffee in\n",
            "Monday?\n",
            "Yes\n",
            "Thursday.\n",
            "Yes\n",
            "Thursday, November 28\n",
            "Monday.\n",
            "Yes\n",
            "Sunday.\n",
            "Yes\n",
            "Monday.\n",
            "Yes\n",
            "Thursday?\n",
            "Yes\n",
            "Sunday.\n",
            "Yes\n"
          ],
          "name": "stdout"
        }
      ]
    },
    {
      "cell_type": "markdown",
      "metadata": {
        "id": "mophYYCHI5WG"
      },
      "source": [
        "b) Using RegEx & Print"
      ]
    },
    {
      "cell_type": "code",
      "metadata": {
        "id": "PQpeLGRhLnUw",
        "colab": {
          "base_uri": "https://localhost:8080/",
          "height": 0
        },
        "outputId": "26589171-d2f6-42b4-a85f-3ab65b825b75"
      },
      "source": [
        "# Using regex \n",
        "import re\n",
        "\n",
        "def findDatesRegex(d):\n",
        "  pattern = re.compile(\"(Monday|Tuesday|Wednesday|Thursday|Friday|Saturday|Sunday ?)+,\\s\") \n",
        "  dates = []\n",
        "  for k in data_Q4_2:\n",
        "    if pattern.search(k) != None:\n",
        "      p = pattern.search(str(k))\n",
        "      word = str(k)[p.start() : p.start()+ 18]\n",
        "      dates.append(word)\n",
        "  return dates\n",
        "\n",
        "rstl = findDatesRegex(data_Q4_2)\n",
        "print('Results using RegEx')\n",
        "print('----------------------------------------')\n",
        "for w in rstl: \n",
        "    print(w)"
      ],
      "execution_count": 16,
      "outputs": [
        {
          "output_type": "stream",
          "text": [
            "Results using RegEx\n",
            "----------------------------------------\n",
            "Saturday, but I do\n",
            "Tuesday, March 20,\n",
            "Friday, most of my\n",
            "Monday, my office.\n",
            "Wednesday, June 27\n",
            "Monday, September \n",
            "Tuesday, I wanted \n",
            "Tuesday, October 2\n",
            "Wednesday, July 31\n",
            "Monday, January 14\n",
            "Monday, April 23rd\n",
            "Monday, January 29\n",
            "Thursday, June 14,\n",
            "Friday, they were \n",
            "Monday, or that th\n",
            "Wednesday, October\n",
            "Wednesday, Decembe\n",
            "Monday, April 16th\n",
            "Monday, August 6th\n",
            "Monday, June 4th ည\n",
            "Monday, May 14th\n",
            "\n",
            "Friday, October 26\n",
            "Friday, May 25.\n",
            "\n",
            "Tuesday, October 2\n",
            "Tuesday, June 12, \n",
            "Friday, April the \n",
            "Monday, December 1\n",
            "Wednesday, August \n",
            "Sunday, July 14th \n",
            "Sunday, I did some\n",
            "Friday, June1st re\n",
            "Thursday, January \n",
            "Thursday, Septembe\n",
            "Wednesday, August \n",
            "Tuesday, though I \n",
            "Monday, don't hesi\n",
            "Thursday, 31st Jan\n",
            "Tuesday, you may w\n",
            "Monday, October 8,\n",
            "Sunday, December 8\n",
            "Monday, November 1\n",
            "Wednesday, Septemb\n",
            "Thursday, usual ti\n",
            "Tuesday, and in th\n",
            "Saturday, March 25\n",
            "Monday, per our co\n",
            "Tuesday, January 8\n",
            "Thursday, March 22\n",
            "Tuesday, February \n",
            "Monday, June 4th a\n",
            "Thursday, November\n",
            "Thursday, we'll ta\n",
            "Sunday, if you're \n",
            "Tuesday, August 27\n",
            "Monday, November 2\n",
            "Monday, Jan. 22nd \n",
            "Friday, August 17.\n",
            "Wednesday, April 1\n",
            "Thursday, 7:00 p.m\n",
            "Monday, December 1\n",
            "Wednesday, Dec. 13\n",
            "Monday, or do we w\n",
            "Friday, August 4th\n",
            "Tuesday, September\n",
            "Monday, coffee in \n",
            "Thursday, November\n"
          ],
          "name": "stdout"
        }
      ]
    },
    {
      "cell_type": "markdown",
      "metadata": {
        "id": "pu4IzWahJ-ZE"
      },
      "source": [
        "Question: \n",
        "\n",
        "a) Which approach is better? The Regex Approach seems to be more elegant and better in its results. Spacy can be fine-tuned to produce similar results, but it would require more patterns.\n",
        "\n",
        "Personally, I would either use the RegEx method to achieve such result. It is faster and better in my opinion. "
      ]
    },
    {
      "cell_type": "markdown",
      "metadata": {
        "id": "y6o6SSLcKmRd"
      },
      "source": [
        "Question 5:\n",
        "\n",
        "Train an LSTM model to classify the Cornell Movie Review data\n",
        "using the polarity_dataset V2.0\n"
      ]
    },
    {
      "cell_type": "code",
      "metadata": {
        "id": "Y0I985kfsVPM"
      },
      "source": [
        "# Question 5\n",
        "# Unzip tar files \n",
        "import tarfile\n",
        "path_to_file = \"/content/question_5/review_polarity.tar.gz\"\n",
        "directory_to_extract_to = \"/content/question_5/\"\n",
        "tar_file = tarfile.open(path_to_file)\n",
        "tar_file.extractall(directory_to_extract_to) \n",
        "tar_file.close()\n"
      ],
      "execution_count": 2,
      "outputs": []
    },
    {
      "cell_type": "code",
      "metadata": {
        "id": "JWwNvryA1Fbm"
      },
      "source": [
        "# Create Training data - negative dataSet\n",
        "import glob, os\n",
        "dirName_1 = \"/content/question_5/txt_sentoken/neg/\"\n",
        "dirName_2 = \"/content/question_5/txt_sentoken/pos/\"\n",
        "\n",
        "def returnDataInArray(dirName):\n",
        "  os.chdir(dirName)\n",
        "  filesName = []\n",
        "  for namefile in glob.glob(\"*.txt\"):\n",
        "    filesName.append(namefile)\n",
        "\n",
        "  reviews = []\n",
        "  for i in range(0,len(filesName)):\n",
        "    with open(dirName + filesName[i]) as openfile:\n",
        "      data = openfile.read()\n",
        "      reviews.append(data) \n",
        "  return reviews,filesName\n",
        "\n",
        "negReviews,neg_fileName = returnDataInArray(dirName_1)\n",
        "posReviews,pos_fileName = returnDataInArray(dirName_2)\n",
        "\n",
        "# Lets merge neg & pos reviews by altenating b/w the sets \n",
        "mergedReviews = []\n",
        "targetReviews = []\n",
        "for i in range(0,len(negReviews)):\n",
        "    mergedReviews.append(negReviews[i])\n",
        "    mergedReviews.append(posReviews[i])\n",
        "    targetReviews.append(0)\n",
        "    targetReviews.append(1)\n",
        "# DataFrame with merged data\n",
        "df_all = pd.DataFrame({\"polarity\": targetReviews,\"text\": mergedReviews}) # Merged reviews\n",
        "df_neg = pd.DataFrame({\"polarity\": np.zeros(len(negReviews)),\"text\": negReviews}) # Negative reviews\n",
        "df_pos = pd.DataFrame({\"polarity\": np.ones(len(posReviews)),\"text\": posReviews}) # Positive reviews"
      ],
      "execution_count": 5,
      "outputs": []
    },
    {
      "cell_type": "code",
      "metadata": {
        "colab": {
          "base_uri": "https://localhost:8080/",
          "height": 343
        },
        "id": "7ckBZrX21I_n",
        "outputId": "9917fabf-5eaa-4010-8ce4-eb44d4f6cde6"
      },
      "source": [
        "# Download packages\n",
        "!pip install numpy==1.16.2\n",
        "# All the imports!\n",
        "import tensorflow as tf \n",
        "import numpy as np\n",
        "from tensorflow.keras.preprocessing import sequence\n",
        "from numpy import array\n",
        "from sklearn.metrics import classification_report\n",
        "# Supress deprecation warnings\n",
        "import logging\n",
        "logging.getLogger('tensorflow').disabled = True\n"
      ],
      "execution_count": 6,
      "outputs": [
        {
          "output_type": "stream",
          "text": [
            "Collecting numpy==1.16.2\n",
            "\u001b[?25l  Downloading https://files.pythonhosted.org/packages/91/e7/6c780e612d245cca62bc3ba8e263038f7c144a96a54f877f3714a0e8427e/numpy-1.16.2-cp37-cp37m-manylinux1_x86_64.whl (17.3MB)\n",
            "\u001b[K     |████████████████████████████████| 17.3MB 202kB/s \n",
            "\u001b[31mERROR: tensorflow 2.4.1 has requirement numpy~=1.19.2, but you'll have numpy 1.16.2 which is incompatible.\u001b[0m\n",
            "\u001b[31mERROR: pyarrow 3.0.0 has requirement numpy>=1.16.6, but you'll have numpy 1.16.2 which is incompatible.\u001b[0m\n",
            "\u001b[31mERROR: datascience 0.10.6 has requirement folium==0.2.1, but you'll have folium 0.8.3 which is incompatible.\u001b[0m\n",
            "\u001b[31mERROR: astropy 4.2 has requirement numpy>=1.17, but you'll have numpy 1.16.2 which is incompatible.\u001b[0m\n",
            "\u001b[31mERROR: albumentations 0.1.12 has requirement imgaug<0.2.7,>=0.2.5, but you'll have imgaug 0.2.9 which is incompatible.\u001b[0m\n",
            "\u001b[?25hInstalling collected packages: numpy\n",
            "  Found existing installation: numpy 1.19.5\n",
            "    Uninstalling numpy-1.19.5:\n",
            "      Successfully uninstalled numpy-1.19.5\n",
            "Successfully installed numpy-1.16.2\n"
          ],
          "name": "stdout"
        },
        {
          "output_type": "display_data",
          "data": {
            "application/vnd.colab-display-data+json": {
              "pip_warning": {
                "packages": [
                  "numpy"
                ]
              }
            }
          },
          "metadata": {
            "tags": []
          }
        }
      ]
    },
    {
      "cell_type": "code",
      "metadata": {
        "id": "-OAI91nG4voN"
      },
      "source": [
        "# Split the data\n",
        "train, test = train_test_split(df_all, train_size= 0.85, test_size = 0.15)"
      ],
      "execution_count": 7,
      "outputs": []
    },
    {
      "cell_type": "code",
      "metadata": {
        "id": "wZiwLnjo4ZxN"
      },
      "source": [
        "# The length of reviews\n",
        "length = 450\n",
        "# Padding the training data\n",
        "tokenizer = Tokenizer(filters='!\"#$%&()*+,-./:;<=>?@[\\]^_`{|}~', lower=True)\n",
        "tokenizer.fit_on_texts(train['text'].values)\n",
        "word_index = tokenizer.word_index\n",
        "x_train = tokenizer.texts_to_sequences(train['text'].values)\n",
        "x_train = sequence.pad_sequences(x_train, maxlen= length)"
      ],
      "execution_count": 10,
      "outputs": []
    },
    {
      "cell_type": "code",
      "metadata": {
        "colab": {
          "base_uri": "https://localhost:8080/",
          "height": 0
        },
        "id": "gzW6T6425J9I",
        "outputId": "8a05f35a-d2ea-45d7-ed43-9f9afa3d164a"
      },
      "source": [
        "# Building the model\n",
        "vocab_size = len(word_index) + 1\n",
        "model = tf.keras.models.Sequential()\n",
        "\n",
        "model.add(\n",
        "    tf.keras.layers.Embedding(\n",
        "        input_dim = vocab_size, # The size of our vocabulary \n",
        "        output_dim = 32, # Dimensions to which each words shall be mapped\n",
        "        input_length = length # Length of input sequences\n",
        "    )\n",
        ")\n",
        "\n",
        "model.add(\n",
        "    tf.keras.layers.Dropout(\n",
        "        rate=0.25 # Randomly disable 25% of neurons\n",
        "    )\n",
        ")\n",
        "\n",
        "model.add(\n",
        "    tf.keras.layers.LSTM(\n",
        "        units=32 # 32 LSTM units in this layer\n",
        "    )\n",
        ")\n",
        "\n",
        "# Add a second dropout layer with the same aim as the first.\n",
        "model.add(\n",
        "    tf.keras.layers.Dropout(\n",
        "        rate=0.25 # Randomly disable 25% of neurons\n",
        "    )\n",
        ")\n",
        "\n",
        "model.add(\n",
        "    tf.keras.layers.Dense(\n",
        "        units=1, # Single unit\n",
        "        activation='sigmoid' # Sigmoid activation function (output from 0 to 1)\n",
        "    )\n",
        ")\n",
        "\n",
        "# Compile the model\n",
        "model.compile(\n",
        "    loss=tf.keras.losses.binary_crossentropy, # loss function\n",
        "    optimizer=tf.keras.optimizers.Adam(), # optimiser function\n",
        "    metrics=['accuracy']) # reporting metric\n",
        "model.summary()"
      ],
      "execution_count": 11,
      "outputs": [
        {
          "output_type": "stream",
          "text": [
            "Model: \"sequential_1\"\n",
            "_________________________________________________________________\n",
            "Layer (type)                 Output Shape              Param #   \n",
            "=================================================================\n",
            "embedding (Embedding)        (None, 450, 32)           1438048   \n",
            "_________________________________________________________________\n",
            "dropout (Dropout)            (None, 450, 32)           0         \n",
            "_________________________________________________________________\n",
            "lstm (LSTM)                  (None, 32)                8320      \n",
            "_________________________________________________________________\n",
            "dropout_1 (Dropout)          (None, 32)                0         \n",
            "_________________________________________________________________\n",
            "dense (Dense)                (None, 1)                 33        \n",
            "=================================================================\n",
            "Total params: 1,446,401\n",
            "Trainable params: 1,446,401\n",
            "Non-trainable params: 0\n",
            "_________________________________________________________________\n"
          ],
          "name": "stdout"
        }
      ]
    },
    {
      "cell_type": "code",
      "metadata": {
        "colab": {
          "base_uri": "https://localhost:8080/",
          "height": 0
        },
        "id": "LKVOPPX65WQw",
        "outputId": "b81a8b3f-5039-417c-8734-94c9db0009ae"
      },
      "source": [
        "# Create the model\n",
        "y_train = np.array(train[['polarity']].values)\n",
        "\n",
        "model.fit(x_train,y_train,batch_size=1024,epochs=5, validation_split=0.2,verbose=1) "
      ],
      "execution_count": 12,
      "outputs": [
        {
          "output_type": "stream",
          "text": [
            "Epoch 1/5\n",
            "2/2 [==============================] - 34s 693ms/step - loss: 0.6932 - accuracy: 0.5150 - val_loss: 0.6931 - val_accuracy: 0.4824\n",
            "Epoch 2/5\n",
            "2/2 [==============================] - 0s 123ms/step - loss: 0.6925 - accuracy: 0.5434 - val_loss: 0.6927 - val_accuracy: 0.5559\n",
            "Epoch 3/5\n",
            "2/2 [==============================] - 0s 120ms/step - loss: 0.6918 - accuracy: 0.5813 - val_loss: 0.6923 - val_accuracy: 0.5618\n",
            "Epoch 4/5\n",
            "2/2 [==============================] - 0s 115ms/step - loss: 0.6908 - accuracy: 0.6018 - val_loss: 0.6919 - val_accuracy: 0.5529\n",
            "Epoch 5/5\n",
            "2/2 [==============================] - 0s 117ms/step - loss: 0.6897 - accuracy: 0.5938 - val_loss: 0.6916 - val_accuracy: 0.5647\n"
          ],
          "name": "stdout"
        },
        {
          "output_type": "execute_result",
          "data": {
            "text/plain": [
              "<tensorflow.python.keras.callbacks.History at 0x7f21299fb190>"
            ]
          },
          "metadata": {
            "tags": []
          },
          "execution_count": 12
        }
      ]
    },
    {
      "cell_type": "code",
      "metadata": {
        "colab": {
          "base_uri": "https://localhost:8080/",
          "height": 0
        },
        "id": "6IW3g2075we-",
        "outputId": "066d4705-640a-431b-bf4d-75015a8ce05e"
      },
      "source": [
        "# Testing performance\n",
        "# Padding the data\n",
        "tokenizer = Tokenizer(filters='!\"#$%&()*+,-./:;<=>?@[\\]^_`{|}~', lower=True)\n",
        "tokenizer.fit_on_texts(test['text'].values)\n",
        "word_index = tokenizer.word_index\n",
        "x_test = tokenizer.texts_to_sequences(test['text'].values)\n",
        "x_test = sequence.pad_sequences(x_test, maxlen= length)\n",
        "y_test = np.array(test[['polarity']].values)\n",
        "\n",
        "# Labelling scores\n",
        "class_names = [\"Negative\", \"Positive\"]\n",
        "\n",
        "# Printing results\n",
        "predicted_classes = model.predict_classes(x_test)\n",
        "LSTM_report = classification_report(y_test, predicted_classes, target_names=class_names)\n",
        "print('Performance: LSTM')\n",
        "print(LSTM_report)"
      ],
      "execution_count": 14,
      "outputs": [
        {
          "output_type": "stream",
          "text": [
            "/usr/local/lib/python3.7/dist-packages/tensorflow/python/keras/engine/sequential.py:450: UserWarning: `model.predict_classes()` is deprecated and will be removed after 2021-01-01. Please use instead:* `np.argmax(model.predict(x), axis=-1)`,   if your model does multi-class classification   (e.g. if it uses a `softmax` last-layer activation).* `(model.predict(x) > 0.5).astype(\"int32\")`,   if your model does binary classification   (e.g. if it uses a `sigmoid` last-layer activation).\n",
            "  warnings.warn('`model.predict_classes()` is deprecated and '\n"
          ],
          "name": "stderr"
        },
        {
          "output_type": "stream",
          "text": [
            "Performance: LSTM\n",
            "              precision    recall  f1-score   support\n",
            "\n",
            "    Negative       0.64      0.09      0.15       159\n",
            "    Positive       0.48      0.94      0.63       141\n",
            "\n",
            "    accuracy                           0.49       300\n",
            "   macro avg       0.56      0.52      0.39       300\n",
            "weighted avg       0.56      0.49      0.38       300\n",
            "\n"
          ],
          "name": "stdout"
        }
      ]
    },
    {
      "cell_type": "markdown",
      "metadata": {
        "id": "wkUeMjkzK9L9"
      },
      "source": [
        "Question:\n",
        "\n",
        "What are you noticing?\n",
        "\n",
        "Comapred to the IMDB results, I notice that the performance that I have is not as good. This may be due to the training size of the data. I have used far less than what was used in the IMDB report. One way to improving my result & performance could have been further preprocessing steps before running both the training and testing data set."
      ]
    },
    {
      "cell_type": "markdown",
      "metadata": {
        "id": "L5GsdkXfMNwh"
      },
      "source": [
        "Question 6: \n",
        "\n",
        "Use the train.txt file from the PubMed 20K RCT dataset fine-tune a\n",
        "BERT transformer (class 9 code)\n"
      ]
    },
    {
      "cell_type": "code",
      "metadata": {
        "colab": {
          "base_uri": "https://localhost:8080/",
          "height": 0
        },
        "id": "nBjqVRlf6Zse",
        "outputId": "a9989916-89cb-4a52-c481-3f1916ee17c8"
      },
      "source": [
        "# Question 6\n",
        "# import tensorflow as tf\n",
        "# import torch\n",
        "# Get the GPU device name.\n",
        "device_name = tf.test.gpu_device_name()\n",
        "\n",
        "# The device name should look like the following:\n",
        "if device_name == '/device:GPU:0':\n",
        "    print('Found GPU at: {}'.format(device_name))\n",
        "else:\n",
        "    raise SystemError('GPU device not found')"
      ],
      "execution_count": 12,
      "outputs": [
        {
          "output_type": "stream",
          "text": [
            "Found GPU at: /device:GPU:0\n"
          ],
          "name": "stdout"
        }
      ]
    },
    {
      "cell_type": "code",
      "metadata": {
        "colab": {
          "base_uri": "https://localhost:8080/",
          "height": 0
        },
        "id": "tVyCB09wRqYD",
        "outputId": "e6b5133c-cf86-4357-962b-d236a657c596"
      },
      "source": [
        "# import torch\n",
        "# If there's a GPU available...\n",
        "if torch.cuda.is_available():    \n",
        "\n",
        "    # Tell PyTorch to use the GPU.    \n",
        "    device = torch.device(\"cuda\")\n",
        "\n",
        "    print('There are %d GPU(s) available.' % torch.cuda.device_count())\n",
        "\n",
        "    print('We will use the GPU:', torch.cuda.get_device_name(0))\n",
        "\n",
        "# If not...\n",
        "else:\n",
        "    print('No GPU available, using the CPU instead.')\n",
        "    device = torch.device(\"cpu\")"
      ],
      "execution_count": 14,
      "outputs": [
        {
          "output_type": "stream",
          "text": [
            "There are 1 GPU(s) available.\n",
            "We will use the GPU: Tesla P4\n"
          ],
          "name": "stdout"
        }
      ]
    },
    {
      "cell_type": "code",
      "metadata": {
        "colab": {
          "base_uri": "https://localhost:8080/",
          "height": 0
        },
        "id": "gsl-Tu8zRvcd",
        "outputId": "b72459d7-2cdb-4f81-b692-1f6f719da364"
      },
      "source": [
        "# Loading CoLA Dataset\n",
        "\n",
        "!pip install transformers\n",
        "!pip install wget\n",
        "import wget\n",
        "import os\n",
        "\n",
        "print('Downloading dataset...')\n",
        "\n",
        "# The URL for the dataset zip file.\n",
        "url = 'https://nyu-mll.github.io/CoLA/cola_public_1.1.zip'\n",
        "\n",
        "# Download the file (if we haven't already)\n",
        "if not os.path.exists('./cola_public_1.1.zip'):\n",
        "    wget.download(url, './cola_public_1.1.zip')\n",
        "# Unzip the dataset (if we haven't already)\n",
        "if not os.path.exists('./cola_public/'):\n",
        "    !unzip cola_public_1.1.zip\n",
        "\n",
        "import pandas as pd\n",
        "\n",
        "# Load the dataset into a pandas dataframe.\n",
        "df = pd.read_csv(\"./cola_public/raw/in_domain_train.tsv\", delimiter='\\t', header=None, names=['sentence_source', 'label', 'label_notes', 'sentence'])\n",
        "\n",
        "# Report the number of sentences.\n",
        "print('Number of training sentences: {:,}\\n'.format(df.shape[0]))\n",
        "\n",
        "# Display 10 random rows from the data.\n",
        "df.sample(10)\n",
        "\n",
        "# Get the lists of sentences and their labels.\n",
        "sentences = df.sentence.values\n",
        "labels = df.label.values"
      ],
      "execution_count": 4,
      "outputs": [
        {
          "output_type": "stream",
          "text": [
            "Collecting transformers\n",
            "\u001b[?25l  Downloading https://files.pythonhosted.org/packages/81/91/61d69d58a1af1bd81d9ca9d62c90a6de3ab80d77f27c5df65d9a2c1f5626/transformers-4.5.0-py3-none-any.whl (2.1MB)\n",
            "\u001b[K     |████████████████████████████████| 2.2MB 5.4MB/s \n",
            "\u001b[?25hRequirement already satisfied: filelock in /usr/local/lib/python3.7/dist-packages (from transformers) (3.0.12)\n",
            "Requirement already satisfied: tqdm>=4.27 in /usr/local/lib/python3.7/dist-packages (from transformers) (4.41.1)\n",
            "Requirement already satisfied: regex!=2019.12.17 in /usr/local/lib/python3.7/dist-packages (from transformers) (2019.12.20)\n",
            "Requirement already satisfied: numpy>=1.17 in /usr/local/lib/python3.7/dist-packages (from transformers) (1.19.5)\n",
            "Collecting sacremoses\n",
            "\u001b[?25l  Downloading https://files.pythonhosted.org/packages/08/cd/342e584ee544d044fb573ae697404ce22ede086c9e87ce5960772084cad0/sacremoses-0.0.44.tar.gz (862kB)\n",
            "\u001b[K     |████████████████████████████████| 870kB 26.1MB/s \n",
            "\u001b[?25hCollecting tokenizers<0.11,>=0.10.1\n",
            "\u001b[?25l  Downloading https://files.pythonhosted.org/packages/ae/04/5b870f26a858552025a62f1649c20d29d2672c02ff3c3fb4c688ca46467a/tokenizers-0.10.2-cp37-cp37m-manylinux2010_x86_64.whl (3.3MB)\n",
            "\u001b[K     |████████████████████████████████| 3.3MB 34.0MB/s \n",
            "\u001b[?25hRequirement already satisfied: importlib-metadata; python_version < \"3.8\" in /usr/local/lib/python3.7/dist-packages (from transformers) (3.8.1)\n",
            "Requirement already satisfied: packaging in /usr/local/lib/python3.7/dist-packages (from transformers) (20.9)\n",
            "Requirement already satisfied: requests in /usr/local/lib/python3.7/dist-packages (from transformers) (2.23.0)\n",
            "Requirement already satisfied: six in /usr/local/lib/python3.7/dist-packages (from sacremoses->transformers) (1.15.0)\n",
            "Requirement already satisfied: click in /usr/local/lib/python3.7/dist-packages (from sacremoses->transformers) (7.1.2)\n",
            "Requirement already satisfied: joblib in /usr/local/lib/python3.7/dist-packages (from sacremoses->transformers) (1.0.1)\n",
            "Requirement already satisfied: typing-extensions>=3.6.4; python_version < \"3.8\" in /usr/local/lib/python3.7/dist-packages (from importlib-metadata; python_version < \"3.8\"->transformers) (3.7.4.3)\n",
            "Requirement already satisfied: zipp>=0.5 in /usr/local/lib/python3.7/dist-packages (from importlib-metadata; python_version < \"3.8\"->transformers) (3.4.1)\n",
            "Requirement already satisfied: pyparsing>=2.0.2 in /usr/local/lib/python3.7/dist-packages (from packaging->transformers) (2.4.7)\n",
            "Requirement already satisfied: chardet<4,>=3.0.2 in /usr/local/lib/python3.7/dist-packages (from requests->transformers) (3.0.4)\n",
            "Requirement already satisfied: idna<3,>=2.5 in /usr/local/lib/python3.7/dist-packages (from requests->transformers) (2.10)\n",
            "Requirement already satisfied: certifi>=2017.4.17 in /usr/local/lib/python3.7/dist-packages (from requests->transformers) (2020.12.5)\n",
            "Requirement already satisfied: urllib3!=1.25.0,!=1.25.1,<1.26,>=1.21.1 in /usr/local/lib/python3.7/dist-packages (from requests->transformers) (1.24.3)\n",
            "Building wheels for collected packages: sacremoses\n",
            "  Building wheel for sacremoses (setup.py) ... \u001b[?25l\u001b[?25hdone\n",
            "  Created wheel for sacremoses: filename=sacremoses-0.0.44-cp37-none-any.whl size=886084 sha256=31a7381eafe5b3ce7c38a795f0e2373093fb799d127a3b0ebe587f744bdc2060\n",
            "  Stored in directory: /root/.cache/pip/wheels/3e/fb/c0/13ab4d63d537658f448366744654323077c4d90069b6512f3c\n",
            "Successfully built sacremoses\n",
            "Installing collected packages: sacremoses, tokenizers, transformers\n",
            "Successfully installed sacremoses-0.0.44 tokenizers-0.10.2 transformers-4.5.0\n",
            "Collecting wget\n",
            "  Downloading https://files.pythonhosted.org/packages/47/6a/62e288da7bcda82b935ff0c6cfe542970f04e29c756b0e147251b2fb251f/wget-3.2.zip\n",
            "Building wheels for collected packages: wget\n",
            "  Building wheel for wget (setup.py) ... \u001b[?25l\u001b[?25hdone\n",
            "  Created wheel for wget: filename=wget-3.2-cp37-none-any.whl size=9681 sha256=452cf6c07c122fc44e631e8314be3e98c7cda1e214baf14449ebeb30ad364281\n",
            "  Stored in directory: /root/.cache/pip/wheels/40/15/30/7d8f7cea2902b4db79e3fea550d7d7b85ecb27ef992b618f3f\n",
            "Successfully built wget\n",
            "Installing collected packages: wget\n",
            "Successfully installed wget-3.2\n",
            "Downloading dataset...\n",
            "Archive:  cola_public_1.1.zip\n",
            "   creating: cola_public/\n",
            "  inflating: cola_public/README      \n",
            "   creating: cola_public/tokenized/\n",
            "  inflating: cola_public/tokenized/in_domain_dev.tsv  \n",
            "  inflating: cola_public/tokenized/in_domain_train.tsv  \n",
            "  inflating: cola_public/tokenized/out_of_domain_dev.tsv  \n",
            "   creating: cola_public/raw/\n",
            "  inflating: cola_public/raw/in_domain_dev.tsv  \n",
            "  inflating: cola_public/raw/in_domain_train.tsv  \n",
            "  inflating: cola_public/raw/out_of_domain_dev.tsv  \n",
            "Number of training sentences: 8,551\n",
            "\n"
          ],
          "name": "stdout"
        }
      ]
    },
    {
      "cell_type": "code",
      "metadata": {
        "id": "WBgm-1OYfYI7"
      },
      "source": [
        ""
      ],
      "execution_count": 1,
      "outputs": []
    },
    {
      "cell_type": "code",
      "metadata": {
        "id": "ZSobeonWi8sx"
      },
      "source": [
        "import numpy as np\n",
        "# Loading train set\n",
        "# Create new dataBase with paper data \n",
        "\n",
        "with open(\"/content/train.txt\") as openfile:\n",
        "      raw_data = openfile.readlines() \n",
        "\n",
        "# separate data by class: \n",
        "c1 = [] # \"background\"\n",
        "c1_label = []\n",
        "c2 = [] # \"objective\"\n",
        "c2_label = []\n",
        "c3 = [] # \"methods\"\n",
        "c3_label = []\n",
        "c4 = [] # \"results\"\n",
        "c4_label = []\n",
        "c5 = []  # \"conclusions\"\n",
        "c5_label = []\n",
        "\n",
        "for k in raw_data:\n",
        "  if k[0] != '#':\n",
        "    if k[:10] == \"BACKGROUND\":\n",
        "      c1.append(k[10:])\n",
        "      c1_label.append(0)\n",
        "    if k[:9] == \"OBJECTIVE\":\n",
        "      c2.append(k[9:])\n",
        "      c2_label.append(1)\n",
        "    if k[:7] == \"METHODS\":\n",
        "      c3.append(k[7:])\n",
        "      c3_label.append(2)\n",
        "    if k[:7] == \"RESULTS\":\n",
        "      c4.append(k[7:])\n",
        "      c4_label.append(3)\n",
        "    if k[:11] == \"CONCLUSIONS\":\n",
        "      c5.append(k[11:])\n",
        "      c5_label.append(4)\n",
        "\n",
        "# Merging all \n",
        "sentences_new = np.array(c1 + c2 + c3 + c4 + c5)\n",
        "label_new = np.array(c1_label + c2_label + c3_label + c4_label + c5_label) "
      ],
      "execution_count": 3,
      "outputs": []
    },
    {
      "cell_type": "code",
      "metadata": {
        "id": "Gb8sTwnilwcW"
      },
      "source": [
        "# Applying changes old to new\n",
        "sentences = sentences_new\n",
        "labels = label_new"
      ],
      "execution_count": 4,
      "outputs": []
    },
    {
      "cell_type": "code",
      "metadata": {
        "id": "9xAonj9HS9XQ"
      },
      "source": [
        "# Tokenization & Input formatting\n",
        "from transformers import BertTokenizer\n",
        "\n",
        "# Load the BERT tokenizer.\n",
        "print('Loading BERT tokenizer...')\n",
        "tokenizer = BertTokenizer.from_pretrained('bert-base-uncased', do_lower_case=True)\n",
        "\n",
        "# Tokenize\n",
        "max_len = 0\n",
        "\n",
        "# For every sentence...\n",
        "for sent in sentences:\n",
        "\n",
        "    # Tokenize the text and add `[CLS]` and `[SEP]` tokens.\n",
        "    input_ids = tokenizer.encode(sent, add_special_tokens=True)\n",
        "\n",
        "    # Update the maximum sentence length.\n",
        "    max_len = max(max_len, len(input_ids))\n",
        "\n",
        "print('Max sentence length: ', max_len)\n",
        "\n",
        "# Tokenize all of the sentences and map the tokens to thier word IDs.\n",
        "input_ids = []\n",
        "attention_masks = []\n",
        "\n",
        "# For every sentence...\n",
        "for sent in sentences:\n",
        "    # `encode_plus` will:\n",
        "    #   (1) Tokenize the sentence.\n",
        "    #   (2) Prepend the `[CLS]` token to the start.\n",
        "    #   (3) Append the `[SEP]` token to the end.\n",
        "    #   (4) Map tokens to their IDs.\n",
        "    #   (5) Pad or truncate the sentence to `max_length`\n",
        "    #   (6) Create attention masks for [PAD] tokens.\n",
        "    encoded_dict = tokenizer.encode_plus(\n",
        "                        sent,                      # Sentence to encode.\n",
        "                        add_special_tokens = True, # Add '[CLS]' and '[SEP]'\n",
        "                        max_length = 64,           # Pad & truncate all sentences.\n",
        "                        pad_to_max_length = True,\n",
        "                        return_attention_mask = True,   # Construct attn. masks.\n",
        "                        return_tensors = 'pt',     # Return pytorch tensors.\n",
        "                   )\n",
        "    \n",
        "    # Add the encoded sentence to the list.    \n",
        "    input_ids.append(encoded_dict['input_ids'])\n",
        "    \n",
        "    # And its attention mask (simply differentiates padding from non-padding).\n",
        "    attention_masks.append(encoded_dict['attention_mask'])\n",
        "\n",
        "# Convert the lists into tensors.\n",
        "input_ids = torch.cat(input_ids, dim=0)\n",
        "attention_masks = torch.cat(attention_masks, dim=0)\n",
        "labels = torch.tensor(labels)\n",
        "\n",
        "# Print sentence 0, now as a list of IDs.\n",
        "print('Original: ', sentences[0])\n",
        "print('Token IDs:', input_ids[0])"
      ],
      "execution_count": null,
      "outputs": []
    },
    {
      "cell_type": "code",
      "metadata": {
        "colab": {
          "base_uri": "https://localhost:8080/",
          "height": 0
        },
        "id": "iOGOXXOatMbB",
        "outputId": "7ad06bb1-26ed-4f01-f43b-8607700d4ae3"
      },
      "source": [
        "import tensorflow as tf\n",
        "import torch\n",
        "\n",
        "# Convert the lists into tensors.\n",
        "input_ids = torch.cat(input_ids, dim=0)\n",
        "attention_masks = torch.cat(attention_masks, dim=0)\n",
        "labels = torch.tensor(labels)\n",
        "\n",
        "# Print sentence 0, now as a list of IDs.\n",
        "print('Original: ', sentences[0])\n",
        "print('Token IDs:', input_ids[0])"
      ],
      "execution_count": 6,
      "outputs": [
        {
          "output_type": "stream",
          "text": [
            "Original:  \tEmotional eating is associated with overeating and the development of obesity .\n",
            "\n",
            "Token IDs: tensor([  101,  6832,  5983,  2003,  3378,  2007,  2058,  5243,  3436,  1998,\n",
            "         1996,  2458,  1997, 24552,  1012,   102,     0,     0,     0,     0,\n",
            "            0,     0,     0,     0,     0,     0,     0,     0,     0,     0,\n",
            "            0,     0,     0,     0,     0,     0,     0,     0,     0,     0,\n",
            "            0,     0,     0,     0,     0,     0,     0,     0,     0,     0,\n",
            "            0,     0,     0,     0,     0,     0,     0,     0,     0,     0,\n",
            "            0,     0,     0,     0])\n"
          ],
          "name": "stdout"
        }
      ]
    },
    {
      "cell_type": "code",
      "metadata": {
        "id": "Urp7IP69UID-"
      },
      "source": [
        "# Training & Validation split\n",
        "from torch.utils.data import TensorDataset, random_split\n",
        "\n",
        "# Combine the training inputs into a TensorDataset.\n",
        "dataset = TensorDataset(input_ids, attention_masks, labels)\n",
        "\n",
        "# Create a 90-10 train-validation split.\n",
        "\n",
        "# Calculate the number of samples to include in each set.\n",
        "train_size = int(0.9 * len(dataset))\n",
        "val_size = len(dataset) - train_size\n",
        "\n",
        "# Divide the dataset by randomly selecting samples.\n",
        "train_dataset, val_dataset = random_split(dataset, [train_size, val_size])"
      ],
      "execution_count": 7,
      "outputs": []
    },
    {
      "cell_type": "code",
      "metadata": {
        "id": "iGdXcmyFUXEt"
      },
      "source": [
        "from torch.utils.data import DataLoader, RandomSampler, SequentialSampler\n",
        "\n",
        "# The DataLoader needs to know our batch size for training, so we specify it \n",
        "# here. For fine-tuning BERT on a specific task, the authors recommend a batch \n",
        "# size of 16 or 32.\n",
        "batch_size = 32\n",
        "\n",
        "# Create the DataLoaders for our training and validation sets.\n",
        "# We'll take training samples in random order. \n",
        "train_dataloader = DataLoader(\n",
        "            train_dataset,  # The training samples.\n",
        "            sampler = RandomSampler(train_dataset), # Select batches randomly\n",
        "            batch_size = batch_size # Trains with this batch size.\n",
        "        )\n",
        "\n",
        "# For validation the order doesn't matter, so we'll just read them sequentially.\n",
        "validation_dataloader = DataLoader(\n",
        "            val_dataset, # The validation samples.\n",
        "            sampler = SequentialSampler(val_dataset), # Pull out batches sequentially.\n",
        "            batch_size = batch_size # Evaluate with this batch size.\n",
        "        )"
      ],
      "execution_count": 8,
      "outputs": []
    },
    {
      "cell_type": "code",
      "metadata": {
        "colab": {
          "base_uri": "https://localhost:8080/",
          "height": 0
        },
        "id": "_gv6_oolUlQ9",
        "outputId": "6876e0e0-dde9-43fa-ac70-46bda25eaa63"
      },
      "source": [
        "# Train classification nodel\n",
        "from transformers import BertForSequenceClassification, AdamW, BertConfig\n",
        "\n",
        "# Load BertForSequenceClassification, the pretrained BERT model with a single \n",
        "# linear classification layer on top. \n",
        "model = BertForSequenceClassification.from_pretrained(\n",
        "    \"bert-base-uncased\", # Use the 12-layer BERT model, with an uncased vocab.\n",
        "    num_labels = 5, # The number of output labels--2 for binary classification.\n",
        "                    # You can increase this for multi-class tasks.   \n",
        "    output_attentions = False, # Whether the model returns attentions weights.\n",
        "    output_hidden_states = False, # Whether the model returns all hidden-states.\n",
        ")\n",
        "\n",
        "# Tell pytorch to run this model on the GPU.\n",
        "model.cuda()\n",
        " \n",
        "\n",
        "\n",
        "\n",
        "# Optimizer\n",
        "optimizer = AdamW(model.parameters(),\n",
        "                  lr = 2e-5, # args.learning_rate - default is 5e-5, our notebook had 2e-5\n",
        "                  eps = 1e-8 # args.adam_epsilon  - default is 1e-8.\n",
        "                )\n",
        "from transformers import get_linear_schedule_with_warmup\n",
        "epochs = 4\n",
        "\n",
        "# Total number of training steps is [number of batches] x [number of epochs]. \n",
        "# (Note that this is not the same as the number of training samples).\n",
        "total_steps = len(train_dataloader) * epochs\n",
        "\n",
        "# Create the learning rate scheduler.\n",
        "scheduler = get_linear_schedule_with_warmup(optimizer, \n",
        "                                            num_warmup_steps = 0, # Default value in run_glue.py\n",
        "                                            num_training_steps = total_steps)\n"
      ],
      "execution_count": 9,
      "outputs": [
        {
          "output_type": "stream",
          "text": [
            "Some weights of the model checkpoint at bert-base-uncased were not used when initializing BertForSequenceClassification: ['cls.predictions.bias', 'cls.predictions.transform.dense.weight', 'cls.predictions.transform.dense.bias', 'cls.predictions.decoder.weight', 'cls.seq_relationship.weight', 'cls.seq_relationship.bias', 'cls.predictions.transform.LayerNorm.weight', 'cls.predictions.transform.LayerNorm.bias']\n",
            "- This IS expected if you are initializing BertForSequenceClassification from the checkpoint of a model trained on another task or with another architecture (e.g. initializing a BertForSequenceClassification model from a BertForPreTraining model).\n",
            "- This IS NOT expected if you are initializing BertForSequenceClassification from the checkpoint of a model that you expect to be exactly identical (initializing a BertForSequenceClassification model from a BertForSequenceClassification model).\n",
            "Some weights of BertForSequenceClassification were not initialized from the model checkpoint at bert-base-uncased and are newly initialized: ['classifier.weight', 'classifier.bias']\n",
            "You should probably TRAIN this model on a down-stream task to be able to use it for predictions and inference.\n"
          ],
          "name": "stderr"
        }
      ]
    },
    {
      "cell_type": "code",
      "metadata": {
        "id": "VW0SlDZFV2o1"
      },
      "source": [
        "# Training loop\n",
        "# Function to calculate the accuracy of our predictions vs labels\n",
        "def flat_accuracy(preds, labels):\n",
        "    pred_flat = np.argmax(preds, axis=1).flatten()\n",
        "    labels_flat = labels.flatten()\n",
        "    return np.sum(pred_flat == labels_flat) / len(labels_flat)\n",
        "\n",
        "import time\n",
        "import datetime\n",
        "\n",
        "def format_time(elapsed):\n",
        "    '''\n",
        "    Takes a time in seconds and returns a string hh:mm:ss\n",
        "    '''\n",
        "    # Round to the nearest second.\n",
        "    elapsed_rounded = int(round((elapsed)))\n",
        "    \n",
        "    # Format as hh:mm:ss\n",
        "    return str(datetime.timedelta(seconds=elapsed_rounded))"
      ],
      "execution_count": 10,
      "outputs": []
    },
    {
      "cell_type": "code",
      "metadata": {
        "colab": {
          "base_uri": "https://localhost:8080/",
          "height": 0
        },
        "id": "o_ip7irEWdOq",
        "outputId": "1e40e7c0-c61f-4c41-b4d5-7b55ed96bd78"
      },
      "source": [
        "import random\n",
        "import numpy as np\n",
        "\n",
        "# Set the seed value all over the place to make this reproducible.\n",
        "seed_val = 12345\n",
        "\n",
        "random.seed(seed_val)\n",
        "np.random.seed(seed_val)\n",
        "torch.manual_seed(seed_val)\n",
        "torch.cuda.manual_seed_all(seed_val)\n",
        "\n",
        "# We'll store a number of quantities such as training and validation loss, \n",
        "# validation accuracy, and timings.\n",
        "training_stats = []\n",
        "\n",
        "# Measure the total training time for the whole run.\n",
        "total_t0 = time.time()\n",
        "\n",
        "# For each epoch...\n",
        "for epoch_i in range(0, epochs):\n",
        "    \n",
        "    # ========================================\n",
        "    #               Training\n",
        "    # ========================================\n",
        "    \n",
        "    # Perform one full pass over the training set.\n",
        "\n",
        "    print(\"\")\n",
        "    print('======== Epoch {:} / {:} ========'.format(epoch_i + 1, epochs))\n",
        "    print('Training...')\n",
        "\n",
        "    # Measure how long the training epoch takes.\n",
        "    t0 = time.time()\n",
        "\n",
        "    # Reset the total loss for this epoch.\n",
        "    total_train_loss = 0\n",
        "\n",
        "    # Put the model into training mode. Don't be mislead--the call to \n",
        "    # `train` just changes the *mode*, it doesn't *perform* the training.\n",
        "    # `dropout` and `batchnorm` layers behave differently during training\n",
        "    # vs. test (source: https://stackoverflow.com/questions/51433378/what-does-model-train-do-in-pytorch)\n",
        "    model.train()\n",
        "\n",
        "    # For each batch of training data...\n",
        "    for step, batch in enumerate(train_dataloader):\n",
        "\n",
        "        # Progress update every 40 batches.\n",
        "        if step % 40 == 0 and not step == 0:\n",
        "            # Calculate elapsed time in minutes.\n",
        "            elapsed = format_time(time.time() - t0)\n",
        "            \n",
        "            # Report progress.\n",
        "            print('  Batch {:>5,}  of  {:>5,}.    Elapsed: {:}.'.format(step, len(train_dataloader), elapsed))\n",
        "\n",
        "        # Unpack this training batch from our dataloader. \n",
        "        #\n",
        "        # As we unpack the batch, we'll also copy each tensor to the GPU using the \n",
        "        # `to` method.\n",
        "        #\n",
        "        # `batch` contains three pytorch tensors:\n",
        "        #   [0]: input ids \n",
        "        #   [1]: attention masks\n",
        "        #   [2]: labels \n",
        "        b_input_ids = batch[0].to(device)\n",
        "        b_input_mask = batch[1].to(device)\n",
        "        b_labels = batch[2].to(device)                          # changed to 5 \n",
        "\n",
        "        # Always clear any previously calculated gradients before performing a\n",
        "        # backward pass. PyTorch doesn't do this automatically because \n",
        "        # accumulating the gradients is \"convenient while training RNNs\". \n",
        "        # (source: https://stackoverflow.com/questions/48001598/why-do-we-need-to-call-zero-grad-in-pytorch)\n",
        "        model.zero_grad()        \n",
        "\n",
        "        # Perform a forward pass (evaluate the model on this training batch).\n",
        "        # In PyTorch, calling `model` will in turn call the model's `forward` \n",
        "        # function and pass down the arguments. The `forward` function is \n",
        "        # documented here: \n",
        "        # https://huggingface.co/transformers/model_doc/bert.html#bertforsequenceclassification\n",
        "        # The results are returned in a results object, documented here:\n",
        "        # https://huggingface.co/transformers/main_classes/output.html#transformers.modeling_outputs.SequenceClassifierOutput\n",
        "        # Specifically, we'll get the loss (because we provided labels) and the\n",
        "        # \"logits\"--the model outputs prior to activation.\n",
        "        result = model(b_input_ids, \n",
        "                       token_type_ids=None, \n",
        "                       attention_mask=b_input_mask, \n",
        "                       labels=b_labels,\n",
        "                       return_dict=True)\n",
        "\n",
        "        loss = result.loss\n",
        "        logits = result.logits\n",
        "\n",
        "        # Accumulate the training loss over all of the batches so that we can\n",
        "        # calculate the average loss at the end. `loss` is a Tensor containing a\n",
        "        # single value; the `.item()` function just returns the Python value \n",
        "        # from the tensor.\n",
        "        total_train_loss += loss.item()\n",
        "\n",
        "        # Perform a backward pass to calculate the gradients.\n",
        "        loss.backward()\n",
        "\n",
        "        # Clip the norm of the gradients to 1.0.\n",
        "        # This is to help prevent the \"exploding gradients\" problem.\n",
        "        torch.nn.utils.clip_grad_norm_(model.parameters(), 1.0)\n",
        "\n",
        "        # Update parameters and take a step using the computed gradient.\n",
        "        # The optimizer dictates the \"update rule\"--how the parameters are\n",
        "        # modified based on their gradients, the learning rate, etc.\n",
        "        optimizer.step()\n",
        "\n",
        "        # Update the learning rate.\n",
        "        scheduler.step()\n",
        "\n",
        "    # Calculate the average loss over all of the batches.\n",
        "    avg_train_loss = total_train_loss / len(train_dataloader)            \n",
        "    \n",
        "    # Measure how long this epoch took.\n",
        "    training_time = format_time(time.time() - t0)\n",
        "\n",
        "    print(\"\")\n",
        "    print(\"  Average training loss: {0:.2f}\".format(avg_train_loss))\n",
        "    print(\"  Training epcoh took: {:}\".format(training_time))\n",
        "        \n",
        "    # ========================================\n",
        "    #               Validation\n",
        "    # ========================================\n",
        "    # After the completion of each training epoch, measure our performance on\n",
        "    # our validation set.\n",
        "\n",
        "    print(\"\")\n",
        "    print(\"Running Validation...\")\n",
        "\n",
        "    t0 = time.time()\n",
        "\n",
        "    # Put the model in evaluation mode--the dropout layers behave differently\n",
        "    # during evaluation.\n",
        "    model.eval()\n",
        "\n",
        "    # Tracking variables \n",
        "    total_eval_accuracy = 0\n",
        "    total_eval_loss = 0\n",
        "    nb_eval_steps = 0\n",
        "\n",
        "    # Evaluate data for one epoch\n",
        "    for batch in validation_dataloader:\n",
        "        \n",
        "        # Unpack this training batch from our dataloader. \n",
        "        #\n",
        "        # As we unpack the batch, we'll also copy each tensor to the GPU using \n",
        "        # the `to` method.\n",
        "        #\n",
        "        # `batch` contains three pytorch tensors:\n",
        "        #   [0]: input ids \n",
        "        #   [1]: attention masks\n",
        "        #   [2]: labels \n",
        "        b_input_ids = batch[0].to(device)\n",
        "        b_input_mask = batch[1].to(device)\n",
        "        b_labels = batch[2].to(device)\n",
        "        \n",
        "        # Tell pytorch not to bother with constructing the compute graph during\n",
        "        # the forward pass, since this is only needed for backprop (training).\n",
        "        with torch.no_grad():        \n",
        "\n",
        "            # Forward pass, calculate logit predictions.\n",
        "            # token_type_ids is the same as the \"segment ids\", which \n",
        "            # differentiates sentence 1 and 2 in 2-sentence tasks.\n",
        "            result = model(b_input_ids, \n",
        "                           token_type_ids=None, \n",
        "                           attention_mask=b_input_mask,\n",
        "                           labels=b_labels,\n",
        "                           return_dict=True)\n",
        "\n",
        "        # Get the loss and \"logits\" output by the model. The \"logits\" are the \n",
        "        # output values prior to applying an activation function like the \n",
        "        # softmax.\n",
        "        loss = result.loss\n",
        "        logits = result.logits\n",
        "            \n",
        "        # Accumulate the validation loss.\n",
        "        total_eval_loss += loss.item()\n",
        "\n",
        "        # Move logits and labels to CPU\n",
        "        logits = logits.detach().cpu().numpy()\n",
        "        label_ids = b_labels.to('cpu').numpy()\n",
        "\n",
        "        # Calculate the accuracy for this batch of test sentences, and\n",
        "        # accumulate it over all batches.\n",
        "        total_eval_accuracy += flat_accuracy(logits, label_ids)\n",
        "        \n",
        "\n",
        "    # Report the final accuracy for this validation run.\n",
        "    avg_val_accuracy = total_eval_accuracy / len(validation_dataloader)\n",
        "    print(\"  Accuracy: {0:.2f}\".format(avg_val_accuracy))\n",
        "\n",
        "    # Calculate the average loss over all of the batches.\n",
        "    avg_val_loss = total_eval_loss / len(validation_dataloader)\n",
        "    \n",
        "    # Measure how long the validation run took.\n",
        "    validation_time = format_time(time.time() - t0)\n",
        "    \n",
        "    print(\"  Validation Loss: {0:.2f}\".format(avg_val_loss))\n",
        "    print(\"  Validation took: {:}\".format(validation_time))\n",
        "\n",
        "    # Record all statistics from this epoch.\n",
        "    training_stats.append(\n",
        "        {\n",
        "            'epoch': epoch_i + 1,\n",
        "            'Training Loss': avg_train_loss,\n",
        "            'Valid. Loss': avg_val_loss,\n",
        "            'Valid. Accur.': avg_val_accuracy,\n",
        "            'Training Time': training_time,\n",
        "            'Validation Time': validation_time\n",
        "        }\n",
        "    )\n",
        "\n",
        "print(\"\")\n",
        "print(\"Training complete!\")\n",
        "\n",
        "print(\"Total training took {:} (h:mm:ss)\".format(format_time(time.time()-total_t0)))"
      ],
      "execution_count": 15,
      "outputs": [
        {
          "output_type": "stream",
          "text": [
            "\n",
            "======== Epoch 1 / 4 ========\n",
            "Training...\n",
            "  Batch    40  of  1,908.    Elapsed: 0:00:17.\n",
            "  Batch    80  of  1,908.    Elapsed: 0:00:33.\n",
            "  Batch   120  of  1,908.    Elapsed: 0:00:50.\n",
            "  Batch   160  of  1,908.    Elapsed: 0:01:07.\n",
            "  Batch   200  of  1,908.    Elapsed: 0:01:23.\n",
            "  Batch   240  of  1,908.    Elapsed: 0:01:40.\n",
            "  Batch   280  of  1,908.    Elapsed: 0:01:57.\n",
            "  Batch   320  of  1,908.    Elapsed: 0:02:14.\n",
            "  Batch   360  of  1,908.    Elapsed: 0:02:31.\n",
            "  Batch   400  of  1,908.    Elapsed: 0:02:48.\n",
            "  Batch   440  of  1,908.    Elapsed: 0:03:05.\n",
            "  Batch   480  of  1,908.    Elapsed: 0:03:21.\n",
            "  Batch   520  of  1,908.    Elapsed: 0:03:38.\n",
            "  Batch   560  of  1,908.    Elapsed: 0:03:55.\n",
            "  Batch   600  of  1,908.    Elapsed: 0:04:12.\n",
            "  Batch   640  of  1,908.    Elapsed: 0:04:29.\n",
            "  Batch   680  of  1,908.    Elapsed: 0:04:46.\n",
            "  Batch   720  of  1,908.    Elapsed: 0:05:03.\n",
            "  Batch   760  of  1,908.    Elapsed: 0:05:20.\n",
            "  Batch   800  of  1,908.    Elapsed: 0:05:37.\n",
            "  Batch   840  of  1,908.    Elapsed: 0:05:54.\n",
            "  Batch   880  of  1,908.    Elapsed: 0:06:10.\n",
            "  Batch   920  of  1,908.    Elapsed: 0:06:27.\n",
            "  Batch   960  of  1,908.    Elapsed: 0:06:44.\n",
            "  Batch 1,000  of  1,908.    Elapsed: 0:07:01.\n",
            "  Batch 1,040  of  1,908.    Elapsed: 0:07:18.\n",
            "  Batch 1,080  of  1,908.    Elapsed: 0:07:35.\n",
            "  Batch 1,120  of  1,908.    Elapsed: 0:07:52.\n",
            "  Batch 1,160  of  1,908.    Elapsed: 0:08:09.\n",
            "  Batch 1,200  of  1,908.    Elapsed: 0:08:26.\n",
            "  Batch 1,240  of  1,908.    Elapsed: 0:08:43.\n",
            "  Batch 1,280  of  1,908.    Elapsed: 0:09:00.\n",
            "  Batch 1,320  of  1,908.    Elapsed: 0:09:16.\n",
            "  Batch 1,360  of  1,908.    Elapsed: 0:09:33.\n",
            "  Batch 1,400  of  1,908.    Elapsed: 0:09:50.\n",
            "  Batch 1,440  of  1,908.    Elapsed: 0:10:07.\n",
            "  Batch 1,480  of  1,908.    Elapsed: 0:10:24.\n",
            "  Batch 1,520  of  1,908.    Elapsed: 0:10:41.\n",
            "  Batch 1,560  of  1,908.    Elapsed: 0:10:58.\n",
            "  Batch 1,600  of  1,908.    Elapsed: 0:11:15.\n",
            "  Batch 1,640  of  1,908.    Elapsed: 0:11:32.\n",
            "  Batch 1,680  of  1,908.    Elapsed: 0:11:49.\n",
            "  Batch 1,720  of  1,908.    Elapsed: 0:12:06.\n",
            "  Batch 1,760  of  1,908.    Elapsed: 0:12:22.\n",
            "  Batch 1,800  of  1,908.    Elapsed: 0:12:39.\n",
            "  Batch 1,840  of  1,908.    Elapsed: 0:12:56.\n",
            "  Batch 1,880  of  1,908.    Elapsed: 0:13:13.\n",
            "\n",
            "  Average training loss: 0.46\n",
            "  Training epcoh took: 0:13:25\n",
            "\n",
            "Running Validation...\n",
            "  Accuracy: 0.86\n",
            "  Validation Loss: 0.40\n",
            "  Validation took: 0:00:26\n",
            "\n",
            "======== Epoch 2 / 4 ========\n",
            "Training...\n",
            "  Batch    40  of  1,908.    Elapsed: 0:00:17.\n",
            "  Batch    80  of  1,908.    Elapsed: 0:00:34.\n",
            "  Batch   120  of  1,908.    Elapsed: 0:00:51.\n",
            "  Batch   160  of  1,908.    Elapsed: 0:01:08.\n",
            "  Batch   200  of  1,908.    Elapsed: 0:01:24.\n",
            "  Batch   240  of  1,908.    Elapsed: 0:01:41.\n",
            "  Batch   280  of  1,908.    Elapsed: 0:01:58.\n",
            "  Batch   320  of  1,908.    Elapsed: 0:02:15.\n",
            "  Batch   360  of  1,908.    Elapsed: 0:02:32.\n",
            "  Batch   400  of  1,908.    Elapsed: 0:02:49.\n",
            "  Batch   440  of  1,908.    Elapsed: 0:03:06.\n",
            "  Batch   480  of  1,908.    Elapsed: 0:03:23.\n",
            "  Batch   520  of  1,908.    Elapsed: 0:03:40.\n",
            "  Batch   560  of  1,908.    Elapsed: 0:03:57.\n",
            "  Batch   600  of  1,908.    Elapsed: 0:04:14.\n",
            "  Batch   640  of  1,908.    Elapsed: 0:04:31.\n",
            "  Batch   680  of  1,908.    Elapsed: 0:04:48.\n",
            "  Batch   720  of  1,908.    Elapsed: 0:05:04.\n",
            "  Batch   760  of  1,908.    Elapsed: 0:05:21.\n",
            "  Batch   800  of  1,908.    Elapsed: 0:05:38.\n",
            "  Batch   840  of  1,908.    Elapsed: 0:05:55.\n",
            "  Batch   880  of  1,908.    Elapsed: 0:06:12.\n",
            "  Batch   920  of  1,908.    Elapsed: 0:06:29.\n",
            "  Batch   960  of  1,908.    Elapsed: 0:06:46.\n",
            "  Batch 1,000  of  1,908.    Elapsed: 0:07:03.\n",
            "  Batch 1,040  of  1,908.    Elapsed: 0:07:20.\n",
            "  Batch 1,080  of  1,908.    Elapsed: 0:07:37.\n",
            "  Batch 1,120  of  1,908.    Elapsed: 0:07:54.\n",
            "  Batch 1,160  of  1,908.    Elapsed: 0:08:11.\n",
            "  Batch 1,200  of  1,908.    Elapsed: 0:08:27.\n",
            "  Batch 1,240  of  1,908.    Elapsed: 0:08:44.\n",
            "  Batch 1,280  of  1,908.    Elapsed: 0:09:01.\n",
            "  Batch 1,320  of  1,908.    Elapsed: 0:09:18.\n",
            "  Batch 1,360  of  1,908.    Elapsed: 0:09:35.\n",
            "  Batch 1,400  of  1,908.    Elapsed: 0:09:52.\n",
            "  Batch 1,440  of  1,908.    Elapsed: 0:10:09.\n",
            "  Batch 1,480  of  1,908.    Elapsed: 0:10:26.\n",
            "  Batch 1,520  of  1,908.    Elapsed: 0:10:43.\n",
            "  Batch 1,560  of  1,908.    Elapsed: 0:11:00.\n",
            "  Batch 1,600  of  1,908.    Elapsed: 0:11:17.\n",
            "  Batch 1,640  of  1,908.    Elapsed: 0:11:34.\n",
            "  Batch 1,680  of  1,908.    Elapsed: 0:11:51.\n",
            "  Batch 1,720  of  1,908.    Elapsed: 0:12:08.\n",
            "  Batch 1,760  of  1,908.    Elapsed: 0:12:24.\n",
            "  Batch 1,800  of  1,908.    Elapsed: 0:12:41.\n",
            "  Batch 1,840  of  1,908.    Elapsed: 0:12:58.\n",
            "  Batch 1,880  of  1,908.    Elapsed: 0:13:15.\n",
            "\n",
            "  Average training loss: 0.32\n",
            "  Training epcoh took: 0:13:27\n",
            "\n",
            "Running Validation...\n",
            "  Accuracy: 0.86\n",
            "  Validation Loss: 0.39\n",
            "  Validation took: 0:00:26\n",
            "\n",
            "======== Epoch 3 / 4 ========\n",
            "Training...\n",
            "  Batch    40  of  1,908.    Elapsed: 0:00:17.\n",
            "  Batch    80  of  1,908.    Elapsed: 0:00:34.\n",
            "  Batch   120  of  1,908.    Elapsed: 0:00:51.\n",
            "  Batch   160  of  1,908.    Elapsed: 0:01:08.\n",
            "  Batch   200  of  1,908.    Elapsed: 0:01:25.\n",
            "  Batch   240  of  1,908.    Elapsed: 0:01:42.\n",
            "  Batch   280  of  1,908.    Elapsed: 0:01:58.\n",
            "  Batch   320  of  1,908.    Elapsed: 0:02:15.\n",
            "  Batch   360  of  1,908.    Elapsed: 0:02:32.\n",
            "  Batch   400  of  1,908.    Elapsed: 0:02:49.\n",
            "  Batch   440  of  1,908.    Elapsed: 0:03:06.\n",
            "  Batch   480  of  1,908.    Elapsed: 0:03:23.\n",
            "  Batch   520  of  1,908.    Elapsed: 0:03:40.\n",
            "  Batch   560  of  1,908.    Elapsed: 0:03:57.\n",
            "  Batch   600  of  1,908.    Elapsed: 0:04:14.\n",
            "  Batch   640  of  1,908.    Elapsed: 0:04:31.\n",
            "  Batch   680  of  1,908.    Elapsed: 0:04:48.\n",
            "  Batch   720  of  1,908.    Elapsed: 0:05:05.\n",
            "  Batch   760  of  1,908.    Elapsed: 0:05:22.\n",
            "  Batch   800  of  1,908.    Elapsed: 0:05:39.\n",
            "  Batch   840  of  1,908.    Elapsed: 0:05:56.\n",
            "  Batch   880  of  1,908.    Elapsed: 0:06:13.\n",
            "  Batch   920  of  1,908.    Elapsed: 0:06:30.\n",
            "  Batch   960  of  1,908.    Elapsed: 0:06:46.\n",
            "  Batch 1,000  of  1,908.    Elapsed: 0:07:03.\n",
            "  Batch 1,040  of  1,908.    Elapsed: 0:07:20.\n",
            "  Batch 1,080  of  1,908.    Elapsed: 0:07:37.\n",
            "  Batch 1,120  of  1,908.    Elapsed: 0:07:54.\n",
            "  Batch 1,160  of  1,908.    Elapsed: 0:08:11.\n",
            "  Batch 1,200  of  1,908.    Elapsed: 0:08:28.\n",
            "  Batch 1,240  of  1,908.    Elapsed: 0:08:45.\n",
            "  Batch 1,280  of  1,908.    Elapsed: 0:09:02.\n",
            "  Batch 1,320  of  1,908.    Elapsed: 0:09:19.\n",
            "  Batch 1,360  of  1,908.    Elapsed: 0:09:36.\n",
            "  Batch 1,400  of  1,908.    Elapsed: 0:09:53.\n",
            "  Batch 1,440  of  1,908.    Elapsed: 0:10:10.\n",
            "  Batch 1,480  of  1,908.    Elapsed: 0:10:27.\n",
            "  Batch 1,520  of  1,908.    Elapsed: 0:10:44.\n",
            "  Batch 1,560  of  1,908.    Elapsed: 0:11:01.\n",
            "  Batch 1,600  of  1,908.    Elapsed: 0:11:18.\n",
            "  Batch 1,640  of  1,908.    Elapsed: 0:11:35.\n",
            "  Batch 1,680  of  1,908.    Elapsed: 0:11:52.\n",
            "  Batch 1,720  of  1,908.    Elapsed: 0:12:08.\n",
            "  Batch 1,760  of  1,908.    Elapsed: 0:12:25.\n",
            "  Batch 1,800  of  1,908.    Elapsed: 0:12:42.\n",
            "  Batch 1,840  of  1,908.    Elapsed: 0:12:59.\n",
            "  Batch 1,880  of  1,908.    Elapsed: 0:13:16.\n",
            "\n",
            "  Average training loss: 0.25\n",
            "  Training epcoh took: 0:13:28\n",
            "\n",
            "Running Validation...\n",
            "  Accuracy: 0.86\n",
            "  Validation Loss: 0.42\n",
            "  Validation took: 0:00:26\n",
            "\n",
            "======== Epoch 4 / 4 ========\n",
            "Training...\n",
            "  Batch    40  of  1,908.    Elapsed: 0:00:17.\n",
            "  Batch    80  of  1,908.    Elapsed: 0:00:34.\n",
            "  Batch   120  of  1,908.    Elapsed: 0:00:51.\n",
            "  Batch   160  of  1,908.    Elapsed: 0:01:08.\n",
            "  Batch   200  of  1,908.    Elapsed: 0:01:25.\n",
            "  Batch   240  of  1,908.    Elapsed: 0:01:42.\n",
            "  Batch   280  of  1,908.    Elapsed: 0:01:59.\n",
            "  Batch   320  of  1,908.    Elapsed: 0:02:16.\n",
            "  Batch   360  of  1,908.    Elapsed: 0:02:32.\n",
            "  Batch   400  of  1,908.    Elapsed: 0:02:49.\n",
            "  Batch   440  of  1,908.    Elapsed: 0:03:06.\n",
            "  Batch   480  of  1,908.    Elapsed: 0:03:23.\n",
            "  Batch   520  of  1,908.    Elapsed: 0:03:40.\n",
            "  Batch   560  of  1,908.    Elapsed: 0:03:57.\n",
            "  Batch   600  of  1,908.    Elapsed: 0:04:14.\n",
            "  Batch   640  of  1,908.    Elapsed: 0:04:31.\n",
            "  Batch   680  of  1,908.    Elapsed: 0:04:48.\n",
            "  Batch   720  of  1,908.    Elapsed: 0:05:05.\n",
            "  Batch   760  of  1,908.    Elapsed: 0:05:22.\n",
            "  Batch   800  of  1,908.    Elapsed: 0:05:39.\n",
            "  Batch   840  of  1,908.    Elapsed: 0:05:56.\n",
            "  Batch   880  of  1,908.    Elapsed: 0:06:13.\n",
            "  Batch   920  of  1,908.    Elapsed: 0:06:30.\n",
            "  Batch   960  of  1,908.    Elapsed: 0:06:47.\n",
            "  Batch 1,000  of  1,908.    Elapsed: 0:07:04.\n",
            "  Batch 1,040  of  1,908.    Elapsed: 0:07:21.\n",
            "  Batch 1,080  of  1,908.    Elapsed: 0:07:38.\n",
            "  Batch 1,120  of  1,908.    Elapsed: 0:07:55.\n",
            "  Batch 1,160  of  1,908.    Elapsed: 0:08:12.\n",
            "  Batch 1,200  of  1,908.    Elapsed: 0:08:29.\n",
            "  Batch 1,240  of  1,908.    Elapsed: 0:08:46.\n",
            "  Batch 1,280  of  1,908.    Elapsed: 0:09:03.\n",
            "  Batch 1,320  of  1,908.    Elapsed: 0:09:19.\n",
            "  Batch 1,360  of  1,908.    Elapsed: 0:09:36.\n",
            "  Batch 1,400  of  1,908.    Elapsed: 0:09:53.\n",
            "  Batch 1,440  of  1,908.    Elapsed: 0:10:10.\n",
            "  Batch 1,480  of  1,908.    Elapsed: 0:10:27.\n",
            "  Batch 1,520  of  1,908.    Elapsed: 0:10:44.\n",
            "  Batch 1,560  of  1,908.    Elapsed: 0:11:01.\n",
            "  Batch 1,600  of  1,908.    Elapsed: 0:11:18.\n",
            "  Batch 1,640  of  1,908.    Elapsed: 0:11:35.\n",
            "  Batch 1,680  of  1,908.    Elapsed: 0:11:52.\n",
            "  Batch 1,720  of  1,908.    Elapsed: 0:12:09.\n",
            "  Batch 1,760  of  1,908.    Elapsed: 0:12:26.\n",
            "  Batch 1,800  of  1,908.    Elapsed: 0:12:43.\n",
            "  Batch 1,840  of  1,908.    Elapsed: 0:13:00.\n",
            "  Batch 1,880  of  1,908.    Elapsed: 0:13:17.\n",
            "\n",
            "  Average training loss: 0.20\n",
            "  Training epcoh took: 0:13:28\n",
            "\n",
            "Running Validation...\n",
            "  Accuracy: 0.86\n",
            "  Validation Loss: 0.45\n",
            "  Validation took: 0:00:26\n",
            "\n",
            "Training complete!\n",
            "Total training took 0:55:33 (h:mm:ss)\n"
          ],
          "name": "stdout"
        }
      ]
    },
    {
      "cell_type": "code",
      "metadata": {
        "colab": {
          "base_uri": "https://localhost:8080/",
          "height": 204
        },
        "id": "7UGDVIGnW2C4",
        "outputId": "03b60e41-58de-4d69-8892-e20ee522c587"
      },
      "source": [
        "# Summary of training\n",
        "import pandas as pd\n",
        "# Display floats with two decimal places.\n",
        "pd.set_option('precision', 2)\n",
        "# Create a DataFrame from our training statistics.\n",
        "df_stats = pd.DataFrame(data=training_stats)\n",
        "# Use the 'epoch' as the row index.\n",
        "df_stats = df_stats.set_index('epoch')\n",
        "\n",
        "# Display the table.\n",
        "df_stats"
      ],
      "execution_count": 17,
      "outputs": [
        {
          "output_type": "execute_result",
          "data": {
            "text/html": [
              "<div>\n",
              "<style scoped>\n",
              "    .dataframe tbody tr th:only-of-type {\n",
              "        vertical-align: middle;\n",
              "    }\n",
              "\n",
              "    .dataframe tbody tr th {\n",
              "        vertical-align: top;\n",
              "    }\n",
              "\n",
              "    .dataframe thead th {\n",
              "        text-align: right;\n",
              "    }\n",
              "</style>\n",
              "<table border=\"1\" class=\"dataframe\">\n",
              "  <thead>\n",
              "    <tr style=\"text-align: right;\">\n",
              "      <th></th>\n",
              "      <th>Training Loss</th>\n",
              "      <th>Valid. Loss</th>\n",
              "      <th>Valid. Accur.</th>\n",
              "      <th>Training Time</th>\n",
              "      <th>Validation Time</th>\n",
              "    </tr>\n",
              "    <tr>\n",
              "      <th>epoch</th>\n",
              "      <th></th>\n",
              "      <th></th>\n",
              "      <th></th>\n",
              "      <th></th>\n",
              "      <th></th>\n",
              "    </tr>\n",
              "  </thead>\n",
              "  <tbody>\n",
              "    <tr>\n",
              "      <th>1</th>\n",
              "      <td>0.46</td>\n",
              "      <td>0.40</td>\n",
              "      <td>0.86</td>\n",
              "      <td>0:13:25</td>\n",
              "      <td>0:00:26</td>\n",
              "    </tr>\n",
              "    <tr>\n",
              "      <th>2</th>\n",
              "      <td>0.32</td>\n",
              "      <td>0.39</td>\n",
              "      <td>0.86</td>\n",
              "      <td>0:13:27</td>\n",
              "      <td>0:00:26</td>\n",
              "    </tr>\n",
              "    <tr>\n",
              "      <th>3</th>\n",
              "      <td>0.25</td>\n",
              "      <td>0.42</td>\n",
              "      <td>0.86</td>\n",
              "      <td>0:13:28</td>\n",
              "      <td>0:00:26</td>\n",
              "    </tr>\n",
              "    <tr>\n",
              "      <th>4</th>\n",
              "      <td>0.20</td>\n",
              "      <td>0.45</td>\n",
              "      <td>0.86</td>\n",
              "      <td>0:13:28</td>\n",
              "      <td>0:00:26</td>\n",
              "    </tr>\n",
              "  </tbody>\n",
              "</table>\n",
              "</div>"
            ],
            "text/plain": [
              "       Training Loss  Valid. Loss  Valid. Accur. Training Time Validation Time\n",
              "epoch                                                                         \n",
              "1               0.46         0.40           0.86       0:13:25         0:00:26\n",
              "2               0.32         0.39           0.86       0:13:27         0:00:26\n",
              "3               0.25         0.42           0.86       0:13:28         0:00:26\n",
              "4               0.20         0.45           0.86       0:13:28         0:00:26"
            ]
          },
          "metadata": {
            "tags": []
          },
          "execution_count": 17
        }
      ]
    },
    {
      "cell_type": "code",
      "metadata": {
        "colab": {
          "base_uri": "https://localhost:8080/",
          "height": 427
        },
        "id": "fdQos1tWXDS9",
        "outputId": "5cecab6f-ee98-4f3e-ae74-7571c3fa6765"
      },
      "source": [
        "import matplotlib.pyplot as plt\n",
        "% matplotlib inline\n",
        "\n",
        "import seaborn as sns\n",
        "\n",
        "# Use plot styling from seaborn.\n",
        "sns.set(style='darkgrid')\n",
        "\n",
        "# Increase the plot size and font size.\n",
        "sns.set(font_scale=1.5)\n",
        "plt.rcParams[\"figure.figsize\"] = (12,6)\n",
        "\n",
        "# Plot the learning curve.\n",
        "plt.plot(df_stats['Training Loss'], 'b-o', label=\"Training\")\n",
        "plt.plot(df_stats['Valid. Loss'], 'g-o', label=\"Validation\")\n",
        "\n",
        "# Label the plot.\n",
        "plt.title(\"Training & Validation Loss\")\n",
        "plt.xlabel(\"Epoch\")\n",
        "plt.ylabel(\"Loss\")\n",
        "plt.legend()\n",
        "plt.xticks([1, 2, 3, 4])\n",
        "\n",
        "plt.show()"
      ],
      "execution_count": 18,
      "outputs": [
        {
          "output_type": "display_data",
          "data": {
            "image/png": "[encoded data removed]",
            "text/plain": [
              "<Figure size 864x432 with 1 Axes>"
            ]
          },
          "metadata": {
            "tags": []
          }
        }
      ]
    },
    {
      "cell_type": "code",
      "metadata": {
        "colab": {
          "base_uri": "https://localhost:8080/",
          "height": 0
        },
        "id": "ws0hYG6NXWu_",
        "outputId": "9462cddd-390b-4d04-849a-f7e558a88f17"
      },
      "source": [
        "# Performance on test set\n",
        "# Testing set\n",
        "# Create new dataBase with paper data \n",
        "\n",
        "with open(\"/content/test.txt\") as openfile:\n",
        "      raw_data = openfile.readlines() \n",
        "\n",
        "# separate data by class: \n",
        "c1 = [] # \"background\"\n",
        "c1_label = []\n",
        "c2 = [] # \"objective\"\n",
        "c2_label = []\n",
        "c3 = [] # \"methods\"\n",
        "c3_label = []\n",
        "c4 = [] # \"results\"\n",
        "c4_label = []\n",
        "c5 = []  # \"conclusions\"\n",
        "c5_label = []\n",
        "\n",
        "for k in raw_data:\n",
        "  if k[0] != '#':\n",
        "    if k[:10] == \"BACKGROUND\":\n",
        "      c1.append(k[10:])\n",
        "      c1_label.append(0)\n",
        "    if k[:9] == \"OBJECTIVE\":\n",
        "      c2.append(k[9:])\n",
        "      c2_label.append(1)\n",
        "    if k[:7] == \"METHODS\":\n",
        "      c3.append(k[7:])\n",
        "      c3_label.append(2)\n",
        "    if k[:7] == \"RESULTS\":\n",
        "      c4.append(k[7:])\n",
        "      c4_label.append(3)\n",
        "    if k[:11] == \"CONCLUSIONS\":\n",
        "      c5.append(k[11:])\n",
        "      c5_label.append(4)\n",
        "\n",
        "# Merging all \n",
        "sentences_new = np.array(c1 + c2 + c3 + c4 + c5)\n",
        "label_new = np.array(c1_label + c2_label + c3_label + c4_label + c5_label) \n",
        "\n",
        "\n",
        "# Create sentence and label lists\n",
        "sentences = sentences_new\n",
        "labels = label_new\n",
        "\n",
        "# Tokenize all of the sentences and map the tokens to thier word IDs.\n",
        "input_ids = []\n",
        "attention_masks = []\n",
        "\n",
        "# For every sentence...\n",
        "for sent in sentences:\n",
        "    # `encode_plus` will:\n",
        "    #   (1) Tokenize the sentence.\n",
        "    #   (2) Prepend the `[CLS]` token to the start.\n",
        "    #   (3) Append the `[SEP]` token to the end.\n",
        "    #   (4) Map tokens to their IDs.\n",
        "    #   (5) Pad or truncate the sentence to `max_length`\n",
        "    #   (6) Create attention masks for [PAD] tokens.\n",
        "    encoded_dict = tokenizer.encode_plus(\n",
        "                        sent,                      # Sentence to encode.\n",
        "                        add_special_tokens = True, # Add '[CLS]' and '[SEP]'\n",
        "                        max_length = 64,           # Pad & truncate all sentences.\n",
        "                        pad_to_max_length = True,\n",
        "                        return_attention_mask = True,   # Construct attn. masks.\n",
        "                        return_tensors = 'pt',     # Return pytorch tensors.\n",
        "                   )\n",
        "    \n",
        "    # Add the encoded sentence to the list.    \n",
        "    input_ids.append(encoded_dict['input_ids'])\n",
        "    \n",
        "    # And its attention mask (simply differentiates padding from non-padding).\n",
        "    attention_masks.append(encoded_dict['attention_mask'])\n",
        "\n",
        "# Convert the lists into tensors.\n",
        "input_ids = torch.cat(input_ids, dim=0)\n",
        "attention_masks = torch.cat(attention_masks, dim=0)\n",
        "labels = torch.tensor(labels)\n",
        "\n",
        "# Set the batch size.  \n",
        "batch_size = 32  \n",
        "\n",
        "# Create the DataLoader.\n",
        "prediction_data = TensorDataset(input_ids, attention_masks, labels)\n",
        "prediction_sampler = SequentialSampler(prediction_data)\n",
        "prediction_dataloader = DataLoader(prediction_data, sampler=prediction_sampler, batch_size=batch_size)"
      ],
      "execution_count": 19,
      "outputs": [
        {
          "output_type": "stream",
          "text": [
            "/usr/local/lib/python3.7/dist-packages/transformers/tokenization_utils_base.py:2079: FutureWarning: The `pad_to_max_length` argument is deprecated and will be removed in a future version, use `padding=True` or `padding='longest'` to pad to the longest sequence in the batch, or use `padding='max_length'` to pad to a max length. In this case, you can give a specific length with `max_length` (e.g. `max_length=45`) or leave max_length to None to pad to the maximal input size of the model (e.g. 512 for Bert).\n",
            "  FutureWarning,\n"
          ],
          "name": "stderr"
        }
      ]
    },
    {
      "cell_type": "code",
      "metadata": {
        "colab": {
          "base_uri": "https://localhost:8080/",
          "height": 0
        },
        "id": "Nd0_i0cgXxlR",
        "outputId": "20781a48-5b30-46c3-b058-6883b1cf1742"
      },
      "source": [
        "# Evaluation \n",
        "# Prediction on test set\n",
        "\n",
        "print('Predicting labels for {:,} test sentences...'.format(len(input_ids)))\n",
        "\n",
        "# Put model in evaluation mode\n",
        "model.eval()\n",
        "\n",
        "# Tracking variables \n",
        "predictions , true_labels = [], []\n",
        "\n",
        "# Predict \n",
        "for batch in prediction_dataloader:\n",
        "  # Add batch to GPU\n",
        "  batch = tuple(t.to(device) for t in batch)\n",
        "  \n",
        "  # Unpack the inputs from our dataloader\n",
        "  b_input_ids, b_input_mask, b_labels = batch\n",
        "  \n",
        "  # Telling the model not to compute or store gradients, saving memory and \n",
        "  # speeding up prediction\n",
        "  with torch.no_grad():\n",
        "      # Forward pass, calculate logit predictions.\n",
        "      result = model(b_input_ids, \n",
        "                     token_type_ids=None, \n",
        "                     attention_mask=b_input_mask,\n",
        "                     return_dict=True)\n",
        "\n",
        "  logits = result.logits\n",
        "\n",
        "  # Move logits and labels to CPU\n",
        "  logits = logits.detach().cpu().numpy()\n",
        "  label_ids = b_labels.to('cpu').numpy()\n",
        "  \n",
        "  # Store predictions and true labels\n",
        "  predictions.append(logits)\n",
        "  true_labels.append(label_ids)\n",
        "\n",
        "print('    DONE.')"
      ],
      "execution_count": 20,
      "outputs": [
        {
          "output_type": "stream",
          "text": [
            "Predicting labels for 30,135 test sentences...\n",
            "    DONE.\n"
          ],
          "name": "stdout"
        }
      ]
    },
    {
      "cell_type": "code",
      "metadata": {
        "colab": {
          "base_uri": "https://localhost:8080/",
          "height": 0
        },
        "id": "vQRbCLIiX8If",
        "outputId": "84b01cb0-e538-4a87-cff1-f3b54569b2f0"
      },
      "source": [
        "from sklearn.metrics import matthews_corrcoef\n",
        "\n",
        "matthews_set = []\n",
        "\n",
        "# Evaluate each test batch using Matthew's correlation coefficient\n",
        "print('Calculating Matthews Corr. Coef. for each batch...')\n",
        "\n",
        "# For each input batch...\n",
        "for i in range(len(true_labels)):\n",
        "  \n",
        "  # The predictions for this batch are a 2-column ndarray (one column for \"0\" \n",
        "  # and one column for \"1\"). Pick the label with the highest value and turn this\n",
        "  # in to a list of 0s and 1s.\n",
        "  pred_labels_i = np.argmax(predictions[i], axis=1).flatten()\n",
        "  \n",
        "  # Calculate and store the coef for this batch.  \n",
        "  matthews = matthews_corrcoef(true_labels[i], pred_labels_i)                \n",
        "  matthews_set.append(matthews)"
      ],
      "execution_count": 24,
      "outputs": [
        {
          "output_type": "stream",
          "text": [
            "Calculating Matthews Corr. Coef. for each batch...\n"
          ],
          "name": "stdout"
        },
        {
          "output_type": "stream",
          "text": [
            "/usr/local/lib/python3.7/dist-packages/sklearn/metrics/_classification.py:900: RuntimeWarning: invalid value encountered in double_scalars\n",
            "  mcc = cov_ytyp / np.sqrt(cov_ytyt * cov_ypyp)\n"
          ],
          "name": "stderr"
        }
      ]
    },
    {
      "cell_type": "code",
      "metadata": {
        "colab": {
          "base_uri": "https://localhost:8080/",
          "height": 427
        },
        "id": "OPOwpgo_YCJr",
        "outputId": "a9f73b95-fe7a-4a5f-c336-9a08dbc782fc"
      },
      "source": [
        "# Create a barplot showing the MCC score for each batch of test samples.\n",
        "ax = sns.barplot(x=list(range(len(matthews_set))), y=matthews_set, ci=None)\n",
        "\n",
        "plt.title('MCC Score per Batch')\n",
        "plt.ylabel('MCC Score (-1 to +1)')\n",
        "plt.xlabel('Batch #')\n",
        "\n",
        "plt.show()"
      ],
      "execution_count": 25,
      "outputs": [
        {
          "output_type": "display_data",
          "data": {
            "image/png": "[encoded data removed]",
            "text/plain": [
              "<Figure size 864x432 with 1 Axes>"
            ]
          },
          "metadata": {
            "tags": []
          }
        }
      ]
    },
    {
      "cell_type": "code",
      "metadata": {
        "colab": {
          "base_uri": "https://localhost:8080/",
          "height": 0
        },
        "id": "BAKi3yoEYIRh",
        "outputId": "ae0c0bea-0291-4ebe-eab6-0442b8346e96"
      },
      "source": [
        "# Combine the results across all batches. \n",
        "flat_predictions = np.concatenate(predictions, axis=0)\n",
        "\n",
        "# For each sample, pick the label (0 or 1) with the higher score.\n",
        "flat_predictions = np.argmax(flat_predictions, axis=1).flatten()\n",
        "\n",
        "# Combine the correct labels for each batch into a single list.\n",
        "flat_true_labels = np.concatenate(true_labels, axis=0)\n",
        "\n",
        "# Calculate the MCC\n",
        "mcc = matthews_corrcoef(flat_true_labels, flat_predictions)\n",
        "\n",
        "print('Total MCC: %.3f' % mcc)"
      ],
      "execution_count": 26,
      "outputs": [
        {
          "output_type": "stream",
          "text": [
            "Total MCC: 0.812\n"
          ],
          "name": "stdout"
        }
      ]
    },
    {
      "cell_type": "markdown",
      "metadata": {
        "id": "03k6hBvjNxpm"
      },
      "source": [
        "Did you model beat baseline? How to improve?\n",
        "\n",
        "Unfortunately, I left collab running all night last night but I forgot to add the section to print the overall and per-class performance. I cannot re-run everythig since it takes a really long time to process. However, judging by the MCC score and the fact that I have no error in my code. I believe that my process was good. Looking at the final MCC score, I want to say that my model did not beat the baseline results. An efficient way to improve it could be by improving the pre-processing steps and more computing power."
      ]
    }
  ]
}