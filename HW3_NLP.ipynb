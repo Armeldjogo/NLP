{
  "nbformat": 4,
  "nbformat_minor": 0,
  "metadata": {
    "colab": {
      "name": "HW3_NLP.ipynb",
      "provenance": [],
      "authorship_tag": "ABX9TyMntLDsGPQ+q6hUGuFI44vl",
      "include_colab_link": true
    },
    "kernelspec": {
      "name": "python3",
      "display_name": "Python 3"
    }
  },
  "cells": [
    {
      "cell_type": "markdown",
      "metadata": {
        "id": "view-in-github",
        "colab_type": "text"
      },
      "source": [
        "<a href=\"https://colab.research.google.com/github/Armeldjogo/NLP/blob/main/HW3_NLP.ipynb\" target=\"_parent\"><img src=\"https://colab.research.google.com/assets/colab-badge.svg\" alt=\"Open In Colab\"/></a>"
      ]
    },
    {
      "cell_type": "markdown",
      "metadata": {
        "id": "6YAlvhtOYSwy"
      },
      "source": [
        "Name: Armel Nsiangani\r\n",
        "\r\n",
        "Student ID#: 001-99-1988\r\n",
        "\r\n",
        "NLP - HW3"
      ]
    },
    {
      "cell_type": "markdown",
      "metadata": {
        "id": "rzBv6C8QYg-v"
      },
      "source": [
        "Q1: \r\n",
        "\r\n",
        "Using NLTK tokenize all documents, separated by polarity, remove stop words, and list\r\n",
        "the top 20 most frequent tokens (and their counts) for the positive reviews, and the top\r\n",
        "20 most frequent tokens (and their counts). What kind of things do you notice are\r\n",
        "different between the two sets?"
      ]
    },
    {
      "cell_type": "code",
      "metadata": {
        "colab": {
          "base_uri": "https://localhost:8080/",
          "height": 0
        },
        "id": "NcaTfd-RYE5c",
        "outputId": "78e61072-9aff-41bd-9b97-69f697779f0c"
      },
      "source": [
        "# Downloading packages\r\n",
        "%matplotlib inline\r\n",
        "import tarfile\r\n",
        "import numpy as np\r\n",
        "import pandas as pd\r\n",
        "import matplotlib.pyplot as plt\r\n",
        "import seaborn as sns; sns.set() \r\n",
        "from sklearn.feature_extraction.text import CountVectorizer # Bag of words\r\n",
        "from sklearn.feature_extraction.text import TfidfVectorizer # TF-IDF\r\n",
        "from sklearn.naive_bayes import MultinomialNB # Bayes\r\n",
        "from sklearn.ensemble import RandomForestClassifier # RF\r\n",
        "from sklearn.svm import SVC # SVC\r\n",
        "from sklearn.svm import LinearSVC\r\n",
        "from sklearn.pipeline import make_pipeline\r\n",
        "from sklearn.model_selection import train_test_split\r\n",
        "import sklearn.metrics \r\n",
        "from sklearn.metrics import confusion_matrix\r\n",
        "import sklearn.metrics \r\n",
        "from sklearn.feature_extraction.text import CountVectorizer\r\n",
        "from sklearn.feature_extraction.text import TfidfTransformer\r\n",
        "from sklearn.feature_extraction.text import TfidfVectorizer\r\n",
        "from collections import Counter\r\n",
        "from nltk.corpus import stopwords\r\n",
        "from nltk.sentiment.vader import SentimentIntensityAnalyzer as SIA\r\n",
        "import nltk\r\n",
        "nltk.download('stopwords')\r\n",
        "nltk.download('punkt')\r\n",
        "nltk.download('vader_lexicon')\r\n",
        "nltk.download('movie_reviews')\r\n",
        "nltk.download('punkt')"
      ],
      "execution_count": 1,
      "outputs": [
        {
          "output_type": "stream",
          "text": [
            "/usr/local/lib/python3.7/dist-packages/nltk/twitter/__init__.py:20: UserWarning: The twython library has not been installed. Some functionality from the twitter package will not be available.\n",
            "  warnings.warn(\"The twython library has not been installed. \"\n"
          ],
          "name": "stderr"
        },
        {
          "output_type": "stream",
          "text": [
            "[nltk_data] Downloading package stopwords to /root/nltk_data...\n",
            "[nltk_data]   Unzipping corpora/stopwords.zip.\n",
            "[nltk_data] Downloading package punkt to /root/nltk_data...\n",
            "[nltk_data]   Unzipping tokenizers/punkt.zip.\n",
            "[nltk_data] Downloading package vader_lexicon to /root/nltk_data...\n",
            "[nltk_data] Downloading package movie_reviews to /root/nltk_data...\n",
            "[nltk_data]   Unzipping corpora/movie_reviews.zip.\n",
            "[nltk_data] Downloading package punkt to /root/nltk_data...\n",
            "[nltk_data]   Package punkt is already up-to-date!\n"
          ],
          "name": "stdout"
        },
        {
          "output_type": "execute_result",
          "data": {
            "text/plain": [
              "True"
            ]
          },
          "metadata": {
            "tags": []
          },
          "execution_count": 1
        }
      ]
    },
    {
      "cell_type": "code",
      "metadata": {
        "id": "GRYVXxG7ZKV_"
      },
      "source": [
        "# Unzip tar files \r\n",
        "path_to_file = \"/content/review_polarity.tar.gz\"\r\n",
        "directory_to_extract_to = \"/content/\"\r\n",
        "tar_file = tarfile.open(path_to_file)\r\n",
        "tar_file.extractall(directory_to_extract_to) \r\n",
        "tar_file.close()\r\n",
        "\r\n",
        "# Extracting data\r\n",
        "import glob, os\r\n",
        "dirName_1 = \"/content/txt_sentoken/neg/\"\r\n",
        "dirName_2 = \"/content/txt_sentoken/pos/\"\r\n",
        "\r\n",
        "def returnDataInArray(dirName):\r\n",
        "  os.chdir(dirName)\r\n",
        "  filesName = []\r\n",
        "  for namefile in glob.glob(\"*.txt\"):\r\n",
        "    filesName.append(namefile)\r\n",
        "\r\n",
        "  reviews = []\r\n",
        "  for i in range(0,len(filesName)):\r\n",
        "    with open(dirName + filesName[i]) as openfile:\r\n",
        "      data = openfile.read()\r\n",
        "      reviews.append(data) \r\n",
        "  return reviews,filesName\r\n",
        "\r\n",
        "negReviews,neg_fileName = returnDataInArray(dirName_1)\r\n",
        "posReviews,pos_fileName = returnDataInArray(dirName_2)\r\n",
        "\r\n",
        "# Lets merge neg & pos reviews by altenating b/w the sets \r\n",
        "mergedReviews = []\r\n",
        "targetReviews = []\r\n",
        "for i in range(0,len(negReviews)):\r\n",
        "    mergedReviews.append(negReviews[i])\r\n",
        "    mergedReviews.append(posReviews[i])\r\n",
        "    targetReviews.append(0)\r\n",
        "    targetReviews.append(1)\r\n",
        "\r\n",
        "# Create pandas dataframe\r\n",
        "df_all = pd.DataFrame({\"polarity\": targetReviews,\"text\": mergedReviews}) # Merged reviews\r\n",
        "df_neg = pd.DataFrame({\"polarity\": np.zeros(len(negReviews)),\"text\": negReviews}) # Negative reviews\r\n",
        "df_pos = pd.DataFrame({\"polarity\": np.ones(len(posReviews)),\"text\": posReviews}) # Positive reviews"
      ],
      "execution_count": 2,
      "outputs": []
    },
    {
      "cell_type": "code",
      "metadata": {
        "colab": {
          "base_uri": "https://localhost:8080/",
          "height": 204
        },
        "id": "pfx0ZvxcZkcW",
        "outputId": "15a90a3c-79e9-414b-9ce5-3c0f81bba07a"
      },
      "source": [
        "df_pos.head()"
      ],
      "execution_count": null,
      "outputs": [
        {
          "output_type": "execute_result",
          "data": {
            "text/html": [
              "<div>\n",
              "<style scoped>\n",
              "    .dataframe tbody tr th:only-of-type {\n",
              "        vertical-align: middle;\n",
              "    }\n",
              "\n",
              "    .dataframe tbody tr th {\n",
              "        vertical-align: top;\n",
              "    }\n",
              "\n",
              "    .dataframe thead th {\n",
              "        text-align: right;\n",
              "    }\n",
              "</style>\n",
              "<table border=\"1\" class=\"dataframe\">\n",
              "  <thead>\n",
              "    <tr style=\"text-align: right;\">\n",
              "      <th></th>\n",
              "      <th>polarity</th>\n",
              "      <th>text</th>\n",
              "    </tr>\n",
              "  </thead>\n",
              "  <tbody>\n",
              "    <tr>\n",
              "      <th>0</th>\n",
              "      <td>1.0</td>\n",
              "      <td>there seem to be two reactions to dark city . ...</td>\n",
              "    </tr>\n",
              "    <tr>\n",
              "      <th>1</th>\n",
              "      <td>1.0</td>\n",
              "      <td>the relaxed dude rides a roller coaster \\nthe ...</td>\n",
              "    </tr>\n",
              "    <tr>\n",
              "      <th>2</th>\n",
              "      <td>1.0</td>\n",
              "      <td>weir is well-respected in hollywood for turnin...</td>\n",
              "    </tr>\n",
              "    <tr>\n",
              "      <th>3</th>\n",
              "      <td>1.0</td>\n",
              "      <td>call me crazy , but i don't see saving private...</td>\n",
              "    </tr>\n",
              "    <tr>\n",
              "      <th>4</th>\n",
              "      <td>1.0</td>\n",
              "      <td>is it just me , or have disney films gradually...</td>\n",
              "    </tr>\n",
              "  </tbody>\n",
              "</table>\n",
              "</div>"
            ],
            "text/plain": [
              "   polarity                                               text\n",
              "0       1.0  there seem to be two reactions to dark city . ...\n",
              "1       1.0  the relaxed dude rides a roller coaster \\nthe ...\n",
              "2       1.0  weir is well-respected in hollywood for turnin...\n",
              "3       1.0  call me crazy , but i don't see saving private...\n",
              "4       1.0  is it just me , or have disney films gradually..."
            ]
          },
          "metadata": {
            "tags": []
          },
          "execution_count": 3
        }
      ]
    },
    {
      "cell_type": "code",
      "metadata": {
        "colab": {
          "base_uri": "https://localhost:8080/",
          "height": 204
        },
        "id": "EBuas61iZp5R",
        "outputId": "da8e322b-43c7-4d14-a7c3-abaed93a07e5"
      },
      "source": [
        "df_neg.head()"
      ],
      "execution_count": null,
      "outputs": [
        {
          "output_type": "execute_result",
          "data": {
            "text/html": [
              "<div>\n",
              "<style scoped>\n",
              "    .dataframe tbody tr th:only-of-type {\n",
              "        vertical-align: middle;\n",
              "    }\n",
              "\n",
              "    .dataframe tbody tr th {\n",
              "        vertical-align: top;\n",
              "    }\n",
              "\n",
              "    .dataframe thead th {\n",
              "        text-align: right;\n",
              "    }\n",
              "</style>\n",
              "<table border=\"1\" class=\"dataframe\">\n",
              "  <thead>\n",
              "    <tr style=\"text-align: right;\">\n",
              "      <th></th>\n",
              "      <th>polarity</th>\n",
              "      <th>text</th>\n",
              "    </tr>\n",
              "  </thead>\n",
              "  <tbody>\n",
              "    <tr>\n",
              "      <th>0</th>\n",
              "      <td>0.0</td>\n",
              "      <td>an attempt at florida film noir , palmetto fai...</td>\n",
              "    </tr>\n",
              "    <tr>\n",
              "      <th>1</th>\n",
              "      <td>0.0</td>\n",
              "      <td>a hotshot lawyer gets an obviously guilty chil...</td>\n",
              "    </tr>\n",
              "    <tr>\n",
              "      <th>2</th>\n",
              "      <td>0.0</td>\n",
              "      <td>chill factor is a carbon copy of speed with on...</td>\n",
              "    </tr>\n",
              "    <tr>\n",
              "      <th>3</th>\n",
              "      <td>0.0</td>\n",
              "      <td>mugshot ( director/writer/cinematographer/edit...</td>\n",
              "    </tr>\n",
              "    <tr>\n",
              "      <th>4</th>\n",
              "      <td>0.0</td>\n",
              "      <td>i never understood what the clich ? \" hell on ...</td>\n",
              "    </tr>\n",
              "  </tbody>\n",
              "</table>\n",
              "</div>"
            ],
            "text/plain": [
              "   polarity                                               text\n",
              "0       0.0  an attempt at florida film noir , palmetto fai...\n",
              "1       0.0  a hotshot lawyer gets an obviously guilty chil...\n",
              "2       0.0  chill factor is a carbon copy of speed with on...\n",
              "3       0.0  mugshot ( director/writer/cinematographer/edit...\n",
              "4       0.0  i never understood what the clich ? \" hell on ..."
            ]
          },
          "metadata": {
            "tags": []
          },
          "execution_count": 4
        }
      ]
    },
    {
      "cell_type": "code",
      "metadata": {
        "colab": {
          "base_uri": "https://localhost:8080/",
          "height": 0
        },
        "id": "hlB-_3ySZ6ln",
        "outputId": "64a4e5fd-d401-4edd-b377-469eb9da3436"
      },
      "source": [
        "# Question 1\r\n",
        "from nltk.tokenize import word_tokenize\r\n",
        "\r\n",
        "# function to tokenize revies\r\n",
        "def returnFilteredToken(reviews):\r\n",
        "  stop_words = set(stopwords.words('english')) \r\n",
        "  filter_rev = []\r\n",
        "  for word in reviews:\r\n",
        "    word_t = word_tokenize(word)\r\n",
        "    filtered_word = [w for w in word_t if not w in stop_words]\r\n",
        "    filter_rev.append(filtered_word)  \r\n",
        "  return filter_rev\r\n",
        "\r\n",
        "# Let's tokenize negative, positive & merged reviews\r\n",
        "negRev_filtered = returnFilteredToken(negReviews)\r\n",
        "posRev_filtered = returnFilteredToken(posReviews)\r\n",
        "mergedRev_filtered = returnFilteredToken(mergedReviews)\r\n",
        "\r\n",
        "\r\n",
        "# Find top 20 most tokens\r\n",
        "negRev_filt_all = []\r\n",
        "for w in negRev_filtered:\r\n",
        "  negRev_filt_all = negRev_filt_all + w\r\n",
        "\r\n",
        "posRev_filt_all = []\r\n",
        "for w in posRev_filtered:\r\n",
        "  posRev_filt_all = posRev_filt_all + w\r\n",
        "\r\n",
        "counter_neg = Counter(negRev_filt_all).most_common(20) \r\n",
        "counter_pos = Counter(posRev_filt_all).most_common(20) \r\n",
        "\r\n",
        "neg_word = []\r\n",
        "neg_count = []\r\n",
        "pos_word = []\r\n",
        "pos_count = []\r\n",
        "\r\n",
        "for i in range(0,len(counter_neg)):\r\n",
        "  neg_word.append(counter_neg[i][0])\r\n",
        "  neg_count.append(counter_neg[i][1])\r\n",
        "  pos_word.append(counter_pos[i][0])\r\n",
        "  pos_count.append(counter_pos[i][1])\r\n",
        "\r\n",
        "data_20 = pd.DataFrame({\"Neg. words\": neg_word,\"Count - Neg\": neg_count,\"Pos. words\": pos_word,\"Count - Pos\": pos_count})\r\n",
        "print(data_20)"
      ],
      "execution_count": 3,
      "outputs": [
        {
          "output_type": "stream",
          "text": [
            "   Neg. words  Count - Neg Pos. words  Count - Pos\n",
            "0           ,        35269          ,        42448\n",
            "1           .        32162          .        33714\n",
            "2          ``         9123         's         9473\n",
            "3          's         8655         ``         8494\n",
            "4           )         5742          )         6039\n",
            "5           (         5650          (         6014\n",
            "6        film         4257       film         5186\n",
            "7         n't         3442        one         2943\n",
            "8       movie         3174        n't         2775\n",
            "9         one         2637      movie         2497\n",
            "10          ?         2201       like         1713\n",
            "11       like         1832          ?         1570\n",
            "12          :         1540          :         1502\n",
            "13       even         1381      story         1231\n",
            "14      would         1185       also         1200\n",
            "15       good         1126       good         1190\n",
            "16       time         1111       even         1175\n",
            "17          !         1056       time         1171\n",
            "18        get         1039      would         1079\n",
            "19        bad         1019  character         1067\n"
          ],
          "name": "stdout"
        }
      ]
    },
    {
      "cell_type": "markdown",
      "metadata": {
        "id": "zJf9yn60bN3g"
      },
      "source": [
        "What did you notice:\r\n",
        "I notice that many of the 20 most common tokens are similar among negative and positive reviews. In fact, only 3/20 (Negative reviews: !,get,bad and Positive reviews: character,also,story) tokens are different in both groups. "
      ]
    },
    {
      "cell_type": "markdown",
      "metadata": {
        "id": "hjrxZ1NAbgJq"
      },
      "source": [
        "Q2:\r\n",
        "\r\n",
        "Using the code from previous lectures, build 3 polarity classifiers using the following parameters. Note: just train the models."
      ]
    },
    {
      "cell_type": "code",
      "metadata": {
        "colab": {
          "base_uri": "https://localhost:8080/"
        },
        "id": "S5jKHy0DbUvU",
        "outputId": "514ae13b-b1c2-4ea9-e995-1685f2974e78"
      },
      "source": [
        "# Question 2\r\n",
        "from numpy.random import seed\r\n",
        "seed(12345)\r\n",
        "\r\n",
        "# Function to return models\r\n",
        "def createModels(classAlgName,vectorMethod,trainingSet):\r\n",
        "  # create model\r\n",
        "  model = make_pipeline(vectorMethod, classAlgName)\r\n",
        "  # fit model\r\n",
        "  model.fit(trainingSet['text'], trainingSet[['polarity']].values)\r\n",
        "  return model\r\n",
        "\r\n",
        "\r\n",
        "# 1-  50 - positive & 70 - negative \r\n",
        "XNB1p_train, XNB1p_test = train_test_split(df_pos, train_size= 0.5, test_size = 0.5)\r\n",
        "XNB1n_train, XNB1n_test = train_test_split(df_neg, train_size= 0.7, test_size = 0.3)\r\n",
        "\r\n",
        "NB_TF1_train = pd.concat([XNB1p_train,XNB1n_train])\r\n",
        "model_1 = createModels(MultinomialNB(),TfidfVectorizer(),NB_TF1_train)\r\n",
        "\r\n",
        "\r\n",
        "# 2-  70 - positive & 50 - negative\r\n",
        "XNB2p_train, XNB2p_test = train_test_split(df_pos, train_size= 0.7, test_size = 0.3)\r\n",
        "XNB2n_train, XNB2n_test = train_test_split(df_neg, train_size= 0.5, test_size = 0.5)\r\n",
        "\r\n",
        "NB_TF2_train = pd.concat([XNB2p_train,XNB2n_train])\r\n",
        "model_2 = createModels(MultinomialNB(),TfidfVectorizer(),NB_TF2_train)\r\n",
        "\r\n",
        "\r\n",
        "# 3-  25 - positive & 25 - negative\r\n",
        "XSVMp_train, XSVMp_test = train_test_split(df_pos, train_size= 0.25, test_size = 0.75)\r\n",
        "XSVMn_train, XSVMn_test = train_test_split(df_neg, train_size= 0.25, test_size = 0.75)\r\n",
        "\r\n",
        "SVM_train = pd.concat([XSVMp_train,XSVMn_train])\r\n",
        "model_3 = createModels(MultinomialNB(),TfidfVectorizer(),SVM_train)"
      ],
      "execution_count": null,
      "outputs": [
        {
          "output_type": "stream",
          "text": [
            "/usr/local/lib/python3.7/dist-packages/sklearn/utils/validation.py:760: DataConversionWarning: A column-vector y was passed when a 1d array was expected. Please change the shape of y to (n_samples, ), for example using ravel().\n",
            "  y = column_or_1d(y, warn=True)\n",
            "/usr/local/lib/python3.7/dist-packages/sklearn/utils/validation.py:760: DataConversionWarning: A column-vector y was passed when a 1d array was expected. Please change the shape of y to (n_samples, ), for example using ravel().\n",
            "  y = column_or_1d(y, warn=True)\n",
            "/usr/local/lib/python3.7/dist-packages/sklearn/utils/validation.py:760: DataConversionWarning: A column-vector y was passed when a 1d array was expected. Please change the shape of y to (n_samples, ), for example using ravel().\n",
            "  y = column_or_1d(y, warn=True)\n"
          ],
          "name": "stderr"
        }
      ]
    },
    {
      "cell_type": "markdown",
      "metadata": {
        "id": "Qgu9QXeKch4M"
      },
      "source": [
        "Q3:\r\n",
        "\r\n",
        "Using the models from question 2, evaluate them on their individual rest of the dataset. \r\n"
      ]
    },
    {
      "cell_type": "code",
      "metadata": {
        "colab": {
          "base_uri": "https://localhost:8080/"
        },
        "id": "C1wNU2vacmMb",
        "outputId": "a8b6e3c1-f6fd-4a58-af5c-f679cd8395a8"
      },
      "source": [
        "# Question 3\r\n",
        "\r\n",
        "# 1 - 50 - positive & 30 - negative\r\n",
        "NB_TF1_test = pd.concat([XNB1p_test,XNB1n_test])\r\n",
        "labels_1 = model_1.predict(NB_TF1_test['text'])\r\n",
        "\r\n",
        "print('Results Bayes & TD-IDF [50 Pos - 30 Neg]')\r\n",
        "print('Accuracy:', sklearn.metrics.accuracy_score(NB_TF1_test[['polarity']],labels_1))\r\n",
        "print('Precision:', sklearn.metrics.precision_score(NB_TF1_test[['polarity']],labels_1))\r\n",
        "print('Recall:', sklearn.metrics.recall_score(NB_TF1_test[['polarity']],labels_1))\r\n",
        "print('F1 Score:', sklearn.metrics.f1_score(labels_1, NB_TF1_test[['polarity']], average='macro'))"
      ],
      "execution_count": null,
      "outputs": [
        {
          "output_type": "stream",
          "text": [
            "Results Bayes & TD-IDF [50 Pos - 30 Neg]\n",
            "Accuracy: 0.3775\n",
            "Precision: 1.0\n",
            "Recall: 0.004\n",
            "F1 Score: 0.2772081074608669\n"
          ],
          "name": "stdout"
        }
      ]
    },
    {
      "cell_type": "code",
      "metadata": {
        "colab": {
          "base_uri": "https://localhost:8080/"
        },
        "id": "W-lzutb8c3to",
        "outputId": "5376c875-127d-4f08-ed2f-2a7dede58603"
      },
      "source": [
        "# 2-  70 - positive & 50 - negative\r\n",
        "NB_TF2_test = pd.concat([XNB2p_test,XNB2n_test])\r\n",
        "labels_2 = model_2.predict(NB_TF2_test['text'])\r\n",
        "\r\n",
        "print('Results Bayes & TD-IDF [70 Pos - 50 Neg]')\r\n",
        "print('Accuracy:', sklearn.metrics.accuracy_score(NB_TF2_test[['polarity']],labels_2))\r\n",
        "print('Precision:', sklearn.metrics.precision_score(NB_TF2_test[['polarity']],labels_2))\r\n",
        "print('Recall:', sklearn.metrics.recall_score(NB_TF2_test[['polarity']],labels_2))\r\n",
        "print('F1 Score:', sklearn.metrics.f1_score(labels_2, NB_TF2_test[['polarity']], average='macro'))"
      ],
      "execution_count": null,
      "outputs": [
        {
          "output_type": "stream",
          "text": [
            "Results Bayes & TD-IDF [70 Pos - 50 Neg]\n",
            "Accuracy: 0.375\n",
            "Precision: 0.375\n",
            "Recall: 1.0\n",
            "F1 Score: 0.2727272727272727\n"
          ],
          "name": "stdout"
        }
      ]
    },
    {
      "cell_type": "code",
      "metadata": {
        "colab": {
          "base_uri": "https://localhost:8080/"
        },
        "id": "vRvz0wcJdLYD",
        "outputId": "861f8e95-4b3d-430e-e254-e4b3d3a1c435"
      },
      "source": [
        "# 3-  75 - positive & 75 - negative\r\n",
        "SVM_test = pd.concat([XSVMp_test,XSVMn_test])\r\n",
        "labels_3 = model_3.predict(SVM_test['text'])\r\n",
        "\r\n",
        "print('Results SVM & TD-IDF [75 Pos - 75 Neg]')\r\n",
        "print('Accuracy:', sklearn.metrics.accuracy_score(SVM_test[['polarity']],labels_3))\r\n",
        "print('Precision:', sklearn.metrics.precision_score(SVM_test[['polarity']],labels_3))\r\n",
        "print('Recall:', sklearn.metrics.recall_score(SVM_test[['polarity']],labels_3))\r\n",
        "print('F1 Score:', sklearn.metrics.f1_score(labels_3, SVM_test[['polarity']], average='macro'))"
      ],
      "execution_count": null,
      "outputs": [
        {
          "output_type": "stream",
          "text": [
            "Results SVM & TD-IDF [75 Pos - 75 Neg]\n",
            "Accuracy: 0.786\n",
            "Precision: 0.8225563909774436\n",
            "Recall: 0.7293333333333333\n",
            "F1 Score: 0.7853106085095474\n"
          ],
          "name": "stdout"
        }
      ]
    },
    {
      "cell_type": "markdown",
      "metadata": {
        "id": "mZn-6xN7d1C1"
      },
      "source": [
        "Q4:\r\n",
        "\r\n",
        "\r\n",
        "**a)** What is the best performing model?\r\n",
        "\r\n",
        "The best performing model is SVM + TD-IDF.\r\n",
        "\r\n",
        "**b)** Why do you think this is the best performing model?\r\n",
        "\r\n",
        "The reason why SVM is the best performing model is because it has the highest accuracy and f1 score, which are two of the most important metrics. Accuracy is defined as the number of correct points classified over all points in set. F1 score is the weighted average of Recall and Precision.  \r\n",
        "\r\n",
        "**c)** How does class imbalance play in determining polarity?\r\n",
        "\r\n",
        "In the case of class imbalance, we have a majority class (M) and minority class (m), where size(M) >> size(m). For example, size(M) = 10000 and size(m) = 50. Thus, when M and m are used by a ML model to make prediction, the classifier will tend to classify points belonging to m into M. \r\n",
        "\r\n",
        "\r\n",
        "**d)** Do you think either more data or a better model is a better approach for this kind of task?\r\n",
        "\r\n",
        "Some ML models are less affected by class imbalance than others, this is for example the case for probabilistic models (Logistic regression, decision tree, etc.), unlike non-probabilistic models such as SVM where a hyperplane must separate the data. Thus, one can initially opt to use different models when faced with imbalance data. However, I believe that increasing the amount data in the minority class will be a better approach since it will allow us to better represent that class. \r\n",
        "\r\n",
        "Unfortunately, it is not always possible to acquire more data. In that case choosing a better models is more suitable. Other strategies include oversampling the minority class, or undersampling the majority class."
      ]
    },
    {
      "cell_type": "markdown",
      "metadata": {
        "id": "zHJb5PC8d9Ed"
      },
      "source": [
        "Q5:\r\n",
        "\r\n",
        "Using NLTK and VADER, calculate the sentiment score for all documents."
      ]
    },
    {
      "cell_type": "code",
      "metadata": {
        "id": "gkr5R2AZeEWo"
      },
      "source": [
        "# Question 5\r\n",
        "\r\n",
        "# Get sentiment score - Positive documents\r\n",
        "sentiment_score_pos = []\r\n",
        "for word in posReviews:\r\n",
        "  sia = SIA()\r\n",
        "  scores = sia.polarity_scores(word)\r\n",
        "  sentiment_score_pos.append(scores)\r\n",
        "\r\n",
        "# Get setiment score - Negative documents\r\n",
        "sentiment_score_neg = []\r\n",
        "for word in negReviews:\r\n",
        "  sia = SIA()\r\n",
        "  scores = sia.polarity_scores(word)\r\n",
        "  sentiment_score_neg.append(scores)"
      ],
      "execution_count": 5,
      "outputs": []
    },
    {
      "cell_type": "code",
      "metadata": {
        "colab": {
          "base_uri": "https://localhost:8080/",
          "height": 238
        },
        "id": "N7zK96XWZWwy",
        "outputId": "3b711ce3-738e-44e5-aaaf-f2503fe79297"
      },
      "source": [
        "# Display sentiment\r\n",
        "# Positive\r\n",
        "df_pos['neg'] = [d['neg'] for d in sentiment_score_pos]\r\n",
        "df_pos['neu'] = [d['neu'] for d in sentiment_score_pos]\r\n",
        "df_pos['pos'] = [d['pos'] for d in sentiment_score_pos]\r\n",
        "df_pos['compound'] = [d['compound'] for d in sentiment_score_pos]\r\n",
        "print('Sentiment score - Positive')\r\n",
        "print('---------------------------')\r\n",
        "df_pos.head()"
      ],
      "execution_count": 10,
      "outputs": [
        {
          "output_type": "stream",
          "text": [
            "Sentiment score - Positive\n",
            "---------------------------\n"
          ],
          "name": "stdout"
        },
        {
          "output_type": "execute_result",
          "data": {
            "text/html": [
              "<div>\n",
              "<style scoped>\n",
              "    .dataframe tbody tr th:only-of-type {\n",
              "        vertical-align: middle;\n",
              "    }\n",
              "\n",
              "    .dataframe tbody tr th {\n",
              "        vertical-align: top;\n",
              "    }\n",
              "\n",
              "    .dataframe thead th {\n",
              "        text-align: right;\n",
              "    }\n",
              "</style>\n",
              "<table border=\"1\" class=\"dataframe\">\n",
              "  <thead>\n",
              "    <tr style=\"text-align: right;\">\n",
              "      <th></th>\n",
              "      <th>polarity</th>\n",
              "      <th>text</th>\n",
              "      <th>neg</th>\n",
              "      <th>neu</th>\n",
              "      <th>pos</th>\n",
              "      <th>compound</th>\n",
              "    </tr>\n",
              "  </thead>\n",
              "  <tbody>\n",
              "    <tr>\n",
              "      <th>0</th>\n",
              "      <td>1.0</td>\n",
              "      <td>there seem to be two reactions to dark city . ...</td>\n",
              "      <td>0.078</td>\n",
              "      <td>0.761</td>\n",
              "      <td>0.162</td>\n",
              "      <td>0.9956</td>\n",
              "    </tr>\n",
              "    <tr>\n",
              "      <th>1</th>\n",
              "      <td>1.0</td>\n",
              "      <td>the relaxed dude rides a roller coaster \\nthe ...</td>\n",
              "      <td>0.064</td>\n",
              "      <td>0.827</td>\n",
              "      <td>0.109</td>\n",
              "      <td>0.9955</td>\n",
              "    </tr>\n",
              "    <tr>\n",
              "      <th>2</th>\n",
              "      <td>1.0</td>\n",
              "      <td>weir is well-respected in hollywood for turnin...</td>\n",
              "      <td>0.062</td>\n",
              "      <td>0.764</td>\n",
              "      <td>0.174</td>\n",
              "      <td>0.9957</td>\n",
              "    </tr>\n",
              "    <tr>\n",
              "      <th>3</th>\n",
              "      <td>1.0</td>\n",
              "      <td>call me crazy , but i don't see saving private...</td>\n",
              "      <td>0.119</td>\n",
              "      <td>0.749</td>\n",
              "      <td>0.132</td>\n",
              "      <td>0.8974</td>\n",
              "    </tr>\n",
              "    <tr>\n",
              "      <th>4</th>\n",
              "      <td>1.0</td>\n",
              "      <td>is it just me , or have disney films gradually...</td>\n",
              "      <td>0.059</td>\n",
              "      <td>0.734</td>\n",
              "      <td>0.207</td>\n",
              "      <td>0.9997</td>\n",
              "    </tr>\n",
              "  </tbody>\n",
              "</table>\n",
              "</div>"
            ],
            "text/plain": [
              "   polarity                                               text  ...    pos  compound\n",
              "0       1.0  there seem to be two reactions to dark city . ...  ...  0.162    0.9956\n",
              "1       1.0  the relaxed dude rides a roller coaster \\nthe ...  ...  0.109    0.9955\n",
              "2       1.0  weir is well-respected in hollywood for turnin...  ...  0.174    0.9957\n",
              "3       1.0  call me crazy , but i don't see saving private...  ...  0.132    0.8974\n",
              "4       1.0  is it just me , or have disney films gradually...  ...  0.207    0.9997\n",
              "\n",
              "[5 rows x 6 columns]"
            ]
          },
          "metadata": {
            "tags": []
          },
          "execution_count": 10
        }
      ]
    },
    {
      "cell_type": "code",
      "metadata": {
        "colab": {
          "base_uri": "https://localhost:8080/",
          "height": 238
        },
        "id": "kC9eg8xDZfmj",
        "outputId": "15524506-4099-44f5-9d91-747b04cf5851"
      },
      "source": [
        "# Negative\r\n",
        "df_neg['neg'] = [d['neg'] for d in sentiment_score_neg]\r\n",
        "df_neg['neu'] = [d['neu'] for d in sentiment_score_neg]\r\n",
        "df_neg['pos'] = [d['pos'] for d in sentiment_score_neg]\r\n",
        "df_neg['compound'] = [d['compound'] for d in sentiment_score_neg]\r\n",
        "print('Sentiment score - Negative')\r\n",
        "print('---------------------------')\r\n",
        "df_neg.head()"
      ],
      "execution_count": 11,
      "outputs": [
        {
          "output_type": "stream",
          "text": [
            "Sentiment score - Negative\n",
            "---------------------------\n"
          ],
          "name": "stdout"
        },
        {
          "output_type": "execute_result",
          "data": {
            "text/html": [
              "<div>\n",
              "<style scoped>\n",
              "    .dataframe tbody tr th:only-of-type {\n",
              "        vertical-align: middle;\n",
              "    }\n",
              "\n",
              "    .dataframe tbody tr th {\n",
              "        vertical-align: top;\n",
              "    }\n",
              "\n",
              "    .dataframe thead th {\n",
              "        text-align: right;\n",
              "    }\n",
              "</style>\n",
              "<table border=\"1\" class=\"dataframe\">\n",
              "  <thead>\n",
              "    <tr style=\"text-align: right;\">\n",
              "      <th></th>\n",
              "      <th>polarity</th>\n",
              "      <th>text</th>\n",
              "      <th>neg</th>\n",
              "      <th>neu</th>\n",
              "      <th>pos</th>\n",
              "      <th>compound</th>\n",
              "    </tr>\n",
              "  </thead>\n",
              "  <tbody>\n",
              "    <tr>\n",
              "      <th>0</th>\n",
              "      <td>0.0</td>\n",
              "      <td>an attempt at florida film noir , palmetto fai...</td>\n",
              "      <td>0.102</td>\n",
              "      <td>0.806</td>\n",
              "      <td>0.092</td>\n",
              "      <td>-0.5308</td>\n",
              "    </tr>\n",
              "    <tr>\n",
              "      <th>1</th>\n",
              "      <td>0.0</td>\n",
              "      <td>a hotshot lawyer gets an obviously guilty chil...</td>\n",
              "      <td>0.153</td>\n",
              "      <td>0.730</td>\n",
              "      <td>0.116</td>\n",
              "      <td>-0.9941</td>\n",
              "    </tr>\n",
              "    <tr>\n",
              "      <th>2</th>\n",
              "      <td>0.0</td>\n",
              "      <td>chill factor is a carbon copy of speed with on...</td>\n",
              "      <td>0.096</td>\n",
              "      <td>0.820</td>\n",
              "      <td>0.084</td>\n",
              "      <td>-0.7614</td>\n",
              "    </tr>\n",
              "    <tr>\n",
              "      <th>3</th>\n",
              "      <td>0.0</td>\n",
              "      <td>mugshot ( director/writer/cinematographer/edit...</td>\n",
              "      <td>0.119</td>\n",
              "      <td>0.794</td>\n",
              "      <td>0.087</td>\n",
              "      <td>-0.9300</td>\n",
              "    </tr>\n",
              "    <tr>\n",
              "      <th>4</th>\n",
              "      <td>0.0</td>\n",
              "      <td>i never understood what the clich ? \" hell on ...</td>\n",
              "      <td>0.184</td>\n",
              "      <td>0.726</td>\n",
              "      <td>0.089</td>\n",
              "      <td>-0.9926</td>\n",
              "    </tr>\n",
              "  </tbody>\n",
              "</table>\n",
              "</div>"
            ],
            "text/plain": [
              "   polarity                                               text  ...    pos  compound\n",
              "0       0.0  an attempt at florida film noir , palmetto fai...  ...  0.092   -0.5308\n",
              "1       0.0  a hotshot lawyer gets an obviously guilty chil...  ...  0.116   -0.9941\n",
              "2       0.0  chill factor is a carbon copy of speed with on...  ...  0.084   -0.7614\n",
              "3       0.0  mugshot ( director/writer/cinematographer/edit...  ...  0.087   -0.9300\n",
              "4       0.0  i never understood what the clich ? \" hell on ...  ...  0.089   -0.9926\n",
              "\n",
              "[5 rows x 6 columns]"
            ]
          },
          "metadata": {
            "tags": []
          },
          "execution_count": 11
        }
      ]
    },
    {
      "cell_type": "code",
      "metadata": {
        "colab": {
          "base_uri": "https://localhost:8080/",
          "height": 318
        },
        "id": "9SlIh-AofcEu",
        "outputId": "e1c94182-e66a-4fe4-fbb7-cde4ab903f6e"
      },
      "source": [
        "# Plot distribution of compound score for Positive reviews\r\n",
        "y = [d['compound'] for d in sentiment_score_pos]\r\n",
        "plt.hist(y) \r\n",
        "plt.title('Compound score distribution for positive reviews')\r\n",
        "plt.xlabel('Compound score')\r\n",
        "plt.ylabel('# of reviews')\r\n",
        "plt.show()\r\n",
        "print('Figure 1')"
      ],
      "execution_count": null,
      "outputs": [
        {
          "output_type": "display_data",
          "data": {
            "image/png": "[encoded data removed]",
            "text/plain": [
              "<Figure size 432x288 with 1 Axes>"
            ]
          },
          "metadata": {
            "tags": []
          }
        },
        {
          "output_type": "stream",
          "text": [
            "Figure 1\n"
          ],
          "name": "stdout"
        }
      ]
    },
    {
      "cell_type": "code",
      "metadata": {
        "colab": {
          "base_uri": "https://localhost:8080/",
          "height": 318
        },
        "id": "T99WnnXvgBos",
        "outputId": "4223bb14-71bc-4f12-d9aa-211fb27d62dd"
      },
      "source": [
        "# Plot distribution of compound score for Negative reviews\r\n",
        "x = [d['compound'] for d in sentiment_score_neg]\r\n",
        "plt.hist(x) \r\n",
        "plt.title('Compound score distribution for negative reviews')\r\n",
        "plt.xlabel('Compound score')\r\n",
        "plt.ylabel('# of reviews')\r\n",
        "plt.show()\r\n",
        "print('Figure 2')"
      ],
      "execution_count": null,
      "outputs": [
        {
          "output_type": "display_data",
          "data": {
            "image/png": "[encoded data removed]",
            "text/plain": [
              "<Figure size 432x288 with 1 Axes>"
            ]
          },
          "metadata": {
            "tags": []
          }
        },
        {
          "output_type": "stream",
          "text": [
            "Figure 2\n"
          ],
          "name": "stdout"
        }
      ]
    },
    {
      "cell_type": "code",
      "metadata": {
        "colab": {
          "base_uri": "https://localhost:8080/",
          "height": 145
        },
        "id": "ZsHNH_twh37l",
        "outputId": "1a6005e6-ff2f-4868-92f5-902be7cb48cb"
      },
      "source": [
        "# Let's calculate thersholds\r\n",
        "# Statistic for positive reviews\r\n",
        "print('Statistics for positive reviews')\r\n",
        "print('--------------------------------')\r\n",
        "df_pos.groupby('polarity')['compound'].describe(percentiles = [.1,.15,.175,.2,.3,.5,.75,.85])"
      ],
      "execution_count": null,
      "outputs": [
        {
          "output_type": "stream",
          "text": [
            "Statistics for positive reviews\n",
            "--------------------------------\n"
          ],
          "name": "stdout"
        },
        {
          "output_type": "execute_result",
          "data": {
            "text/html": [
              "<div>\n",
              "<style scoped>\n",
              "    .dataframe tbody tr th:only-of-type {\n",
              "        vertical-align: middle;\n",
              "    }\n",
              "\n",
              "    .dataframe tbody tr th {\n",
              "        vertical-align: top;\n",
              "    }\n",
              "\n",
              "    .dataframe thead th {\n",
              "        text-align: right;\n",
              "    }\n",
              "</style>\n",
              "<table border=\"1\" class=\"dataframe\">\n",
              "  <thead>\n",
              "    <tr style=\"text-align: right;\">\n",
              "      <th></th>\n",
              "      <th>count</th>\n",
              "      <th>mean</th>\n",
              "      <th>std</th>\n",
              "      <th>min</th>\n",
              "      <th>10%</th>\n",
              "      <th>15%</th>\n",
              "      <th>17.5%</th>\n",
              "      <th>20%</th>\n",
              "      <th>30%</th>\n",
              "      <th>50%</th>\n",
              "      <th>75%</th>\n",
              "      <th>85%</th>\n",
              "      <th>max</th>\n",
              "    </tr>\n",
              "    <tr>\n",
              "      <th>polarity</th>\n",
              "      <th></th>\n",
              "      <th></th>\n",
              "      <th></th>\n",
              "      <th></th>\n",
              "      <th></th>\n",
              "      <th></th>\n",
              "      <th></th>\n",
              "      <th></th>\n",
              "      <th></th>\n",
              "      <th></th>\n",
              "      <th></th>\n",
              "      <th></th>\n",
              "      <th></th>\n",
              "    </tr>\n",
              "  </thead>\n",
              "  <tbody>\n",
              "    <tr>\n",
              "      <th>1.0</th>\n",
              "      <td>1000.0</td>\n",
              "      <td>0.647903</td>\n",
              "      <td>0.700739</td>\n",
              "      <td>-0.9996</td>\n",
              "      <td>-0.94259</td>\n",
              "      <td>-0.589675</td>\n",
              "      <td>0.078137</td>\n",
              "      <td>0.72936</td>\n",
              "      <td>0.95479</td>\n",
              "      <td>0.99065</td>\n",
              "      <td>0.9972</td>\n",
              "      <td>0.9985</td>\n",
              "      <td>0.9999</td>\n",
              "    </tr>\n",
              "  </tbody>\n",
              "</table>\n",
              "</div>"
            ],
            "text/plain": [
              "           count      mean       std     min  ...      50%     75%     85%     max\n",
              "polarity                                      ...                                 \n",
              "1.0       1000.0  0.647903  0.700739 -0.9996  ...  0.99065  0.9972  0.9985  0.9999\n",
              "\n",
              "[1 rows x 13 columns]"
            ]
          },
          "metadata": {
            "tags": []
          },
          "execution_count": 24
        }
      ]
    },
    {
      "cell_type": "code",
      "metadata": {
        "colab": {
          "base_uri": "https://localhost:8080/",
          "height": 145
        },
        "id": "rbNaCJlZiO0O",
        "outputId": "6717574c-ccb9-4838-d538-52ab58c58e23"
      },
      "source": [
        "# Statistic for positive reviews\r\n",
        "print('Statistics for negative reviews')\r\n",
        "print('--------------------------------')\r\n",
        "df_neg.groupby('polarity')['compound'].describe(percentiles = [.1,.15,.175,.2,.3,.5,.75,.85])"
      ],
      "execution_count": null,
      "outputs": [
        {
          "output_type": "stream",
          "text": [
            "Statistics for negative reviews\n",
            "--------------------------------\n"
          ],
          "name": "stdout"
        },
        {
          "output_type": "execute_result",
          "data": {
            "text/html": [
              "<div>\n",
              "<style scoped>\n",
              "    .dataframe tbody tr th:only-of-type {\n",
              "        vertical-align: middle;\n",
              "    }\n",
              "\n",
              "    .dataframe tbody tr th {\n",
              "        vertical-align: top;\n",
              "    }\n",
              "\n",
              "    .dataframe thead th {\n",
              "        text-align: right;\n",
              "    }\n",
              "</style>\n",
              "<table border=\"1\" class=\"dataframe\">\n",
              "  <thead>\n",
              "    <tr style=\"text-align: right;\">\n",
              "      <th></th>\n",
              "      <th>count</th>\n",
              "      <th>mean</th>\n",
              "      <th>std</th>\n",
              "      <th>min</th>\n",
              "      <th>10%</th>\n",
              "      <th>15%</th>\n",
              "      <th>17.5%</th>\n",
              "      <th>20%</th>\n",
              "      <th>30%</th>\n",
              "      <th>50%</th>\n",
              "      <th>75%</th>\n",
              "      <th>85%</th>\n",
              "      <th>max</th>\n",
              "    </tr>\n",
              "    <tr>\n",
              "      <th>polarity</th>\n",
              "      <th></th>\n",
              "      <th></th>\n",
              "      <th></th>\n",
              "      <th></th>\n",
              "      <th></th>\n",
              "      <th></th>\n",
              "      <th></th>\n",
              "      <th></th>\n",
              "      <th></th>\n",
              "      <th></th>\n",
              "      <th></th>\n",
              "      <th></th>\n",
              "      <th></th>\n",
              "    </tr>\n",
              "  </thead>\n",
              "  <tbody>\n",
              "    <tr>\n",
              "      <th>0.0</th>\n",
              "      <td>1000.0</td>\n",
              "      <td>0.105364</td>\n",
              "      <td>0.902338</td>\n",
              "      <td>-0.9997</td>\n",
              "      <td>-0.99091</td>\n",
              "      <td>-0.98263</td>\n",
              "      <td>-0.976653</td>\n",
              "      <td>-0.97114</td>\n",
              "      <td>-0.91919</td>\n",
              "      <td>0.6637</td>\n",
              "      <td>0.9821</td>\n",
              "      <td>0.9918</td>\n",
              "      <td>0.9996</td>\n",
              "    </tr>\n",
              "  </tbody>\n",
              "</table>\n",
              "</div>"
            ],
            "text/plain": [
              "           count      mean       std     min  ...     50%     75%     85%     max\n",
              "polarity                                      ...                                \n",
              "0.0       1000.0  0.105364  0.902338 -0.9997  ...  0.6637  0.9821  0.9918  0.9996\n",
              "\n",
              "[1 rows x 13 columns]"
            ]
          },
          "metadata": {
            "tags": []
          },
          "execution_count": 20
        }
      ]
    },
    {
      "cell_type": "code",
      "metadata": {
        "colab": {
          "base_uri": "https://localhost:8080/"
        },
        "id": "JRUJCfDDmmGM",
        "outputId": "5d15f21d-24d0-430c-a8dd-13871a01a5e0"
      },
      "source": [
        "# Accuracy Percentage - Positive reviews\r\n",
        "num_pos_1 = 0\r\n",
        "num_neg_1 = 0\r\n",
        "for i in range(0,len(sentiment_score_pos)):\r\n",
        "  if sentiment_score_pos[i]['compound']> -0.589675:\r\n",
        "    num_pos_1 += 1\r\n",
        "  else:\r\n",
        "    num_neg_1 += 1\r\n",
        "print('Positive reviews | Thersholds: -0.589675')\r\n",
        "print('----------------------------------------')\r\n",
        "print('Number of documents correctly labeled: ',num_pos_1)\r\n",
        "print('Accuracy Percent:', num_pos_1/len(sentiment_score_pos)*100, '%')"
      ],
      "execution_count": null,
      "outputs": [
        {
          "output_type": "stream",
          "text": [
            "Positive reviews | Thersholds: -0.589675\n",
            "----------------------------------------\n",
            "Number of documents correctly labeled:  850\n",
            "Accuracy Percent: 85.0 %\n"
          ],
          "name": "stdout"
        }
      ]
    },
    {
      "cell_type": "code",
      "metadata": {
        "colab": {
          "base_uri": "https://localhost:8080/"
        },
        "id": "WWIo6A0onYAx",
        "outputId": "e05dc3ad-80c1-4a40-b17c-2df1cbd9c9eb"
      },
      "source": [
        "# Accuracy Percentage - Negative reviews\r\n",
        "num_pos_2 = 0\r\n",
        "num_neg_2 = 0\r\n",
        "for i in range(0,len(sentiment_score_neg)):\r\n",
        "  if sentiment_score_neg[i]['compound']< 0.9918:\r\n",
        "    num_pos_2 += 1\r\n",
        "  else:\r\n",
        "    num_neg_2 += 1\r\n",
        "print('Negative reviews | Thersholds: 0.9918')\r\n",
        "print('----------------------------------------')\r\n",
        "print('Number of documents correctly labeled: ',num_pos_2)\r\n",
        "print('Accuracy Percent:', num_pos_2/len(sentiment_score_pos)*100, '%')"
      ],
      "execution_count": null,
      "outputs": [
        {
          "output_type": "stream",
          "text": [
            "Negative reviews | Thersholds: 0.9918\n",
            "----------------------------------------\n",
            "Number of documents correctly labeled:  849\n",
            "Accuracy Percent: 84.89999999999999 %\n"
          ],
          "name": "stdout"
        }
      ]
    },
    {
      "cell_type": "code",
      "metadata": {
        "id": "QLIFWg0onJzx"
      },
      "source": [
        ""
      ],
      "execution_count": null,
      "outputs": []
    },
    {
      "cell_type": "markdown",
      "metadata": {
        "id": "OEeAabE2iwxW"
      },
      "source": [
        "Calculation for thresholds:\r\n",
        "\r\n",
        "Assumption: We consider a threshold is appropriate when it allows us to properly match at least 85% of documents to the correct labels.\r\n",
        "\r\n",
        "a) Positive reviews:\r\n",
        "As shown in Figure 1, most of compund scores from VADER are >0.05 (confidence level of 0.95). However, in order to get the few documents that were mislabelled in order to get ~85% properly labeled, the threshold has to be slightly below 0.05. As shown on the statistics table above, for positive reviews, a threshold of ~-0.6 (15th percentile) will allow us to properly label about 85% of documents. \r\n",
        "\r\n",
        "\r\n",
        "b) Negative reviews:\r\n",
        "As shown in Figure 2, compound scores of negative reviews quite equally spread above and below 0.05. This is means that in order to properly label most documents the threshold should be shifted further to the right in order to get at least ~85% of data. As shown on the statistics table for negative reviews, a threshold of ~0.99 (85th percentile) will allow us to properly label about 85% of documents. "
      ]
    },
    {
      "cell_type": "markdown",
      "metadata": {
        "id": "cjoyBIV_q0x5"
      },
      "source": [
        "Bonus: Repeat questions 2,3 and 4 removing all stopwords. "
      ]
    },
    {
      "cell_type": "code",
      "metadata": {
        "colab": {
          "base_uri": "https://localhost:8080/"
        },
        "id": "Cr38Mb-Kqrnq",
        "outputId": "d9e706db-b554-4e4b-f8d3-2a796eb4e03d"
      },
      "source": [
        "# Bonus \r\n",
        "\r\n",
        "# Data Frame after removing stopwords\r\n",
        "def returnListOfString(s):\r\n",
        "  s_new = []\r\n",
        "  for i in s:\r\n",
        "    l_2_str = ' '.join([str(elem) for elem in i]) \r\n",
        "    s_new.append(l_2_str)\r\n",
        "  return s_new\r\n",
        "\r\n",
        "negRev_filtered_n = returnListOfString(negRev_filtered)\r\n",
        "posRev_filtered_n = returnListOfString(posRev_filtered)\r\n",
        "df_neg_new = pd.DataFrame({\"polarity\": np.zeros(len(negRev_filtered_n)),\"text\": negRev_filtered_n}) # Negative reviews\r\n",
        "df_pos_new = pd.DataFrame({\"polarity\": np.ones(len(posRev_filtered_n)),\"text\": posRev_filtered_n}) # Positive reviews\r\n",
        "\r\n",
        "\r\n",
        "\r\n",
        "# 1-  50 - positive & 70 - negative\r\n",
        "XNB1p_train, XNB1p_test = train_test_split(df_pos_new, train_size= 0.5, test_size = 0.5)\r\n",
        "XNB1n_train, XNB1n_test = train_test_split(df_neg_new, train_size= 0.7, test_size = 0.3)\r\n",
        "\r\n",
        "# Train\r\n",
        "NB_TF1_train = pd.concat([XNB1p_train,XNB1n_train])\r\n",
        "model_1 = createModels(MultinomialNB(),TfidfVectorizer(),NB_TF1_train)\r\n",
        "\r\n",
        "# Test\r\n",
        "NB_TF1_test = pd.concat([XNB1p_test,XNB1n_test])\r\n",
        "labels_1 = model_1.predict(NB_TF1_test['text'])\r\n",
        "\r\n",
        "print('Results Bayes & TD-IDF [50% Pos - 30% Neg]')\r\n",
        "print('Accuracy:', sklearn.metrics.accuracy_score(NB_TF1_test[['polarity']],labels_1))\r\n",
        "print('Precision:', sklearn.metrics.precision_score(NB_TF1_test[['polarity']],labels_1))\r\n",
        "print('Recall:', sklearn.metrics.recall_score(NB_TF1_test[['polarity']],labels_1))\r\n",
        "print('F1 Score:', sklearn.metrics.f1_score(labels_1, NB_TF1_test[['polarity']], average='macro'))"
      ],
      "execution_count": null,
      "outputs": [
        {
          "output_type": "stream",
          "text": [
            "/usr/local/lib/python3.7/dist-packages/sklearn/utils/validation.py:760: DataConversionWarning: A column-vector y was passed when a 1d array was expected. Please change the shape of y to (n_samples, ), for example using ravel().\n",
            "  y = column_or_1d(y, warn=True)\n"
          ],
          "name": "stderr"
        },
        {
          "output_type": "stream",
          "text": [
            "Results Bayes & TD-IDF [50% Pos - 30% Neg]\n",
            "Accuracy: 0.39125\n",
            "Precision: 1.0\n",
            "Recall: 0.026\n",
            "F1 Score: 0.30133009104587083\n"
          ],
          "name": "stdout"
        }
      ]
    },
    {
      "cell_type": "code",
      "metadata": {
        "colab": {
          "base_uri": "https://localhost:8080/"
        },
        "id": "k6Rso9i8rWsw",
        "outputId": "53841ae4-40c1-4185-a92a-0446c8949e6d"
      },
      "source": [
        "# 2-  70 - positive & 50 - negative\r\n",
        "XNB2p_train, XNB2p_test = train_test_split(df_pos_new, train_size= 0.7, test_size = 0.3)\r\n",
        "XNB2n_train, XNB2n_test = train_test_split(df_neg_new, train_size= 0.5, test_size = 0.5)\r\n",
        "\r\n",
        "# Train\r\n",
        "NB_TF2_train = pd.concat([XNB2p_train,XNB2n_train])\r\n",
        "model_2 = createModels(MultinomialNB(),TfidfVectorizer(),NB_TF2_train)\r\n",
        "\r\n",
        "# Test\r\n",
        "NB_TF2_test = pd.concat([XNB2p_test,XNB2n_test])\r\n",
        "labels_2 = model_2.predict(NB_TF2_test['text'])\r\n",
        "\r\n",
        "print('Results Bayes & TD-IDF [30% Pos - 50% Neg]')\r\n",
        "print('Accuracy:', sklearn.metrics.accuracy_score(NB_TF2_test[['polarity']],labels_2))\r\n",
        "print('Precision:', sklearn.metrics.precision_score(NB_TF2_test[['polarity']],labels_2))\r\n",
        "print('Recall:', sklearn.metrics.recall_score(NB_TF2_test[['polarity']],labels_2))\r\n",
        "print('F1 Score:', sklearn.metrics.f1_score(labels_2, NB_TF2_test[['polarity']], average='macro'))"
      ],
      "execution_count": null,
      "outputs": [
        {
          "output_type": "stream",
          "text": [
            "/usr/local/lib/python3.7/dist-packages/sklearn/utils/validation.py:760: DataConversionWarning: A column-vector y was passed when a 1d array was expected. Please change the shape of y to (n_samples, ), for example using ravel().\n",
            "  y = column_or_1d(y, warn=True)\n"
          ],
          "name": "stderr"
        },
        {
          "output_type": "stream",
          "text": [
            "Results Bayes & TD-IDF [30% Pos - 50% Neg]\n",
            "Accuracy: 0.3825\n",
            "Precision: 0.3778337531486146\n",
            "Recall: 1.0\n",
            "F1 Score: 0.2860807422447991\n"
          ],
          "name": "stdout"
        }
      ]
    },
    {
      "cell_type": "code",
      "metadata": {
        "colab": {
          "base_uri": "https://localhost:8080/"
        },
        "id": "rgdYoc9hrgDt",
        "outputId": "38802ff8-a775-4ae8-bd37-2829c04e010e"
      },
      "source": [
        "# 3-  25 - positive & 25 - negative\r\n",
        "XSVMp_train, XSVMp_test = train_test_split(df_pos_new, train_size= 0.25, test_size = 0.75)\r\n",
        "XSVMn_train, XSVMn_test = train_test_split(df_neg_new, train_size= 0.25, test_size = 0.75)\r\n",
        "\r\n",
        "# Train\r\n",
        "SVM_train = pd.concat([XSVMp_train,XSVMn_train])\r\n",
        "model_3 = createModels(MultinomialNB(),TfidfVectorizer(),SVM_train)\r\n",
        "\r\n",
        "# Test\r\n",
        "SVM_test = pd.concat([XSVMp_test,XSVMn_test])\r\n",
        "labels_3 = model_3.predict(SVM_test['text'])\r\n",
        "\r\n",
        "print('Results SVM & TD-IDF [75% Pos - 75% Neg]')\r\n",
        "print('Accuracy:', sklearn.metrics.accuracy_score(SVM_test[['polarity']],labels_3))\r\n",
        "print('Precision:', sklearn.metrics.precision_score(SVM_test[['polarity']],labels_3))\r\n",
        "print('Recall:', sklearn.metrics.recall_score(SVM_test[['polarity']],labels_3))\r\n",
        "print('F1 Score:', sklearn.metrics.f1_score(labels_3, SVM_test[['polarity']], average='macro'))"
      ],
      "execution_count": null,
      "outputs": [
        {
          "output_type": "stream",
          "text": [
            "/usr/local/lib/python3.7/dist-packages/sklearn/utils/validation.py:760: DataConversionWarning: A column-vector y was passed when a 1d array was expected. Please change the shape of y to (n_samples, ), for example using ravel().\n",
            "  y = column_or_1d(y, warn=True)\n"
          ],
          "name": "stderr"
        },
        {
          "output_type": "stream",
          "text": [
            "Results SVM & TD-IDF [75% Pos - 75% Neg]\n",
            "Accuracy: 0.786\n",
            "Precision: 0.8225563909774436\n",
            "Recall: 0.7293333333333333\n",
            "F1 Score: 0.7853106085095474\n"
          ],
          "name": "stdout"
        }
      ]
    },
    {
      "cell_type": "markdown",
      "metadata": {
        "id": "jOIfCCTUvw2s"
      },
      "source": [
        "**a)** What is the best performing model?\r\n",
        "\r\n",
        "The best performing model is SVM + TD-IDF.\r\n",
        "\r\n",
        "**b)** Why do you think this is the best performing model?\r\n",
        "\r\n",
        "SVM is the best performing model because it has the highest accuracy and F1 score.\r\n"
      ]
    },
    {
      "cell_type": "markdown",
      "metadata": {
        "id": "wk31CiLOq_Ib"
      },
      "source": [
        "Questions: Did this change the results in any way? Why do you think so?\r\n",
        "\r\n",
        "Overall, the results did not dramatically change. A slight increase in metrics was observed, but this increase was not important enough (<10%). "
      ]
    }
  ]
}