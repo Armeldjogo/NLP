{
  "nbformat": 4,
  "nbformat_minor": 0,
  "metadata": {
    "colab": {
      "name": "NLP_HW4.ipynb",
      "provenance": [],
      "mount_file_id": "1rgAxwDFzWhB22S4fqA65Xg8hg1OzNcOQ",
      "authorship_tag": "ABX9TyM5orVa6bQqvek0VJB9G+2x",
      "include_colab_link": true
    },
    "kernelspec": {
      "name": "python3",
      "display_name": "Python 3"
    },
    "language_info": {
      "name": "python"
    },
    "accelerator": "GPU"
  },
  "cells": [
    {
      "cell_type": "markdown",
      "metadata": {
        "id": "view-in-github",
        "colab_type": "text"
      },
      "source": [
        "<a href=\"https://colab.research.google.com/github/Armeldjogo/NLP/blob/main/NLP_HW4.ipynb\" target=\"_parent\"><img src=\"https://colab.research.google.com/assets/colab-badge.svg\" alt=\"Open In Colab\"/></a>"
      ]
    },
    {
      "cell_type": "markdown",
      "metadata": {
        "id": "lLGBhRnGO-dG"
      },
      "source": [
        "Name: Armel Nsiangani\n",
        "\n",
        "Student ID#: 001-99-1988\n",
        "\n",
        "NLP - HW4"
      ]
    },
    {
      "cell_type": "code",
      "metadata": {
        "colab": {
          "base_uri": "https://localhost:8080/",
          "height": 530
        },
        "id": "6nE_dlWIOvdz",
        "outputId": "e27b969c-413b-44c3-acf0-33d2605b2a4b"
      },
      "source": [
        "# Downloading packages\n",
        "%matplotlib inline\n",
        "from sklearn.metrics import classification_report\n",
        "from nltk.tokenize import word_tokenize\n",
        "from keras.preprocessing.text import Tokenizer\n",
        "import tensorflow_hub as hub\n",
        "import zipfile\n",
        "import numpy as np\n",
        "import pandas as pd\n",
        "import matplotlib.pyplot as plt\n",
        "import seaborn as sns; sns.set() \n",
        "from sklearn.feature_extraction.text import CountVectorizer # Bag of words\n",
        "from sklearn.feature_extraction.text import TfidfVectorizer # TF-IDF\n",
        "from sklearn.naive_bayes import MultinomialNB # Bayes\n",
        "from sklearn.ensemble import RandomForestClassifier # RF\n",
        "from sklearn.svm import SVC # SVC\n",
        "from sklearn.svm import LinearSVC\n",
        "from sklearn.pipeline import make_pipeline\n",
        "from sklearn.model_selection import train_test_split\n",
        "import sklearn.metrics \n",
        "from sklearn.metrics import confusion_matrix\n",
        "import sklearn.metrics \n",
        "from sklearn.feature_extraction.text import CountVectorizer\n",
        "from sklearn.feature_extraction.text import TfidfTransformer\n",
        "from sklearn.feature_extraction.text import TfidfVectorizer\n",
        "from collections import Counter\n",
        "from nltk.corpus import stopwords\n",
        "from nltk.sentiment.vader import SentimentIntensityAnalyzer as SIA\n",
        "import nltk\n",
        "nltk.download('stopwords')\n",
        "nltk.download('punkt')\n",
        "nltk.download('vader_lexicon')\n",
        "nltk.download('movie_reviews')\n",
        "nltk.download('punkt')\n",
        "# Random seed\n",
        "from numpy.random import seed\n",
        "seed(2361)\n",
        "# For LSTM \n",
        "!pip install numpy==1.16.2\n",
        "# All the imports!\n",
        "import tensorflow as tf \n",
        "import numpy as np\n",
        "from tensorflow.keras.preprocessing import sequence\n",
        "from numpy import array\n",
        "from sklearn.metrics import classification_report\n",
        "# Supress deprecation warnings\n",
        "import logging\n",
        "logging.getLogger('tensorflow').disabled = True"
      ],
      "execution_count": null,
      "outputs": [
        {
          "output_type": "stream",
          "text": [
            "/usr/local/lib/python3.7/dist-packages/nltk/twitter/__init__.py:20: UserWarning: The twython library has not been installed. Some functionality from the twitter package will not be available.\n",
            "  warnings.warn(\"The twython library has not been installed. \"\n"
          ],
          "name": "stderr"
        },
        {
          "output_type": "stream",
          "text": [
            "[nltk_data] Downloading package stopwords to /root/nltk_data...\n",
            "[nltk_data]   Unzipping corpora/stopwords.zip.\n",
            "[nltk_data] Downloading package punkt to /root/nltk_data...\n",
            "[nltk_data]   Unzipping tokenizers/punkt.zip.\n",
            "[nltk_data] Downloading package vader_lexicon to /root/nltk_data...\n",
            "[nltk_data] Downloading package movie_reviews to /root/nltk_data...\n",
            "[nltk_data]   Unzipping corpora/movie_reviews.zip.\n",
            "[nltk_data] Downloading package punkt to /root/nltk_data...\n",
            "[nltk_data]   Package punkt is already up-to-date!\n",
            "Collecting numpy==1.16.2\n",
            "\u001b[?25l  Downloading https://files.pythonhosted.org/packages/91/e7/6c780e612d245cca62bc3ba8e263038f7c144a96a54f877f3714a0e8427e/numpy-1.16.2-cp37-cp37m-manylinux1_x86_64.whl (17.3MB)\n",
            "\u001b[K     |████████████████████████████████| 17.3MB 191kB/s \n",
            "\u001b[31mERROR: tensorflow 2.4.1 has requirement numpy~=1.19.2, but you'll have numpy 1.16.2 which is incompatible.\u001b[0m\n",
            "\u001b[31mERROR: pyarrow 3.0.0 has requirement numpy>=1.16.6, but you'll have numpy 1.16.2 which is incompatible.\u001b[0m\n",
            "\u001b[31mERROR: datascience 0.10.6 has requirement folium==0.2.1, but you'll have folium 0.8.3 which is incompatible.\u001b[0m\n",
            "\u001b[31mERROR: astropy 4.2 has requirement numpy>=1.17, but you'll have numpy 1.16.2 which is incompatible.\u001b[0m\n",
            "\u001b[31mERROR: albumentations 0.1.12 has requirement imgaug<0.2.7,>=0.2.5, but you'll have imgaug 0.2.9 which is incompatible.\u001b[0m\n",
            "\u001b[?25hInstalling collected packages: numpy\n",
            "  Found existing installation: numpy 1.19.5\n",
            "    Uninstalling numpy-1.19.5:\n",
            "      Successfully uninstalled numpy-1.19.5\n",
            "Successfully installed numpy-1.16.2\n"
          ],
          "name": "stdout"
        },
        {
          "output_type": "display_data",
          "data": {
            "application/vnd.colab-display-data+json": {
              "pip_warning": {
                "packages": [
                  "numpy"
                ]
              }
            }
          },
          "metadata": {
            "tags": []
          }
        }
      ]
    },
    {
      "cell_type": "code",
      "metadata": {
        "id": "9ppzJQF5PpBY"
      },
      "source": [
        "# Preprocessing data\n",
        "# Unzip files\n",
        "import zipfile\n",
        "path_to_zip_file = \"/content/trainingandtestdata.zip\"\n",
        "directory_to_extract_to = \"/content/\"\n",
        "with zipfile.ZipFile(path_to_zip_file, 'r') as zip_ref:\n",
        "    zip_ref.extractall(directory_to_extract_to)\n",
        "\n",
        "# Renaming the file\n",
        "import os\n",
        "os.rename(r'/content/training.1600000.processed.noemoticon.csv',r'/content/training.csv')\n",
        "os.rename(r'/content/testdata.manual.2009.06.14.csv',r'/content/testing.csv')\n",
        "\n",
        "# Downloading data \n",
        "all_data_training = pd.read_csv(r\"/content/training.csv\", encoding = \"ISO-8859-1\")\n",
        "all_data_training.columns=['Polarity','ID','Date','Query','User Name','Tweet text']\n",
        "\n",
        "# Retrieve pos. & neg. tweets only\n",
        "pd.set_option('display.max_columns', None)\n",
        "data_N = all_data_training[all_data_training['Polarity'] == 0] # Negative tweets\n",
        "data_P = all_data_training[all_data_training['Polarity'] == 4] # Positive tweets\n",
        "neg_pos_data = all_data_training[(all_data_training['Polarity'] == 0) | (all_data_training['Polarity'] == 4)]"
      ],
      "execution_count": null,
      "outputs": []
    },
    {
      "cell_type": "markdown",
      "metadata": {
        "id": "OHHdSVwcPCNx"
      },
      "source": [
        "Q1. Take the positive and the negative tweets only. Use Sklearn to split the dataset in 80% training, 20% testing splits."
      ]
    },
    {
      "cell_type": "code",
      "metadata": {
        "colab": {
          "base_uri": "https://localhost:8080/"
        },
        "id": "sLbx6uAwQAdR",
        "outputId": "e3fd5b74-9162-4150-8e61-99ae295a1dcd"
      },
      "source": [
        "# Question 1\n",
        "# Splitting data 80% - training & 20% - testing\n",
        "train, test = train_test_split(neg_pos_data, train_size= 0.8, test_size = 0.2)\n",
        "\n",
        "# Displaying the data\n",
        "print('Training set: ', )\n",
        "print('Size of set: ', train.shape)\n",
        "print(train.head())\n",
        "\n",
        "print()\n",
        "print('------------------------------------------------------------------------')\n",
        "print()\n",
        "\n",
        "print('Testing set: ', )\n",
        "print('Size of set: ', test.shape)\n",
        "print(test.head())"
      ],
      "execution_count": null,
      "outputs": [
        {
          "output_type": "stream",
          "text": [
            "Training set: \n",
            "Size of set:  (1279999, 6)\n",
            "         Polarity          ID                          Date     Query  \\\n",
            "1327068         4  2015337727  Wed Jun 03 04:23:32 PDT 2009  NO_QUERY   \n",
            "867725          4  1677825654  Sat May 02 04:11:28 PDT 2009  NO_QUERY   \n",
            "191053          0  1969494674  Sat May 30 00:12:53 PDT 2009  NO_QUERY   \n",
            "266955          0  1989094615  Mon Jun 01 00:19:41 PDT 2009  NO_QUERY   \n",
            "1472944         4  2065462631  Sun Jun 07 08:38:46 PDT 2009  NO_QUERY   \n",
            "\n",
            "             User Name                                         Tweet text  \n",
            "1327068        DCBrent  @MarkDC Okay, no probs if you can't.  Just pla...  \n",
            "867725     PRMurphy147  @nobodysnews LOL, it was more like the sound o...  \n",
            "191053   rockerchick99  @gregstrong Emery is amazing! Sadly I have yet...  \n",
            "266955          Tripzy  @soBOMB my phone died on u  sorry lol and i ca...  \n",
            "1472944          kulit  loves that there's so much Federer love going ...  \n",
            "\n",
            "------------------------------------------------------------------------\n",
            "\n",
            "Testing set: \n",
            "Size of set:  (320000, 6)\n",
            "         Polarity          ID                          Date     Query  \\\n",
            "402563          0  2057966189  Sat Jun 06 14:00:20 PDT 2009  NO_QUERY   \n",
            "1558128         4  2185758509  Mon Jun 15 17:51:41 PDT 2009  NO_QUERY   \n",
            "1415200         4  2057173199  Sat Jun 06 12:30:33 PDT 2009  NO_QUERY   \n",
            "1112565         4  1972437668  Sat May 30 09:13:25 PDT 2009  NO_QUERY   \n",
            "706645          0  2256751496  Sat Jun 20 13:14:59 PDT 2009  NO_QUERY   \n",
            "\n",
            "           User Name                                         Tweet text  \n",
            "402563        kachen                Sorry for not saying goodbye  Kathy  \n",
            "1558128      vibanez  @lilxicanita aww mecheee you can be my friend....  \n",
            "1415200  ginotheoken  having my big brother open for me is a dream c...  \n",
            "1112565        WOnet  @TinkFan Can you tell @DancerDaniK that she is...  \n",
            "706645        adeeee  @thewitchbaby   Not really  I'm looking for an...  \n"
          ],
          "name": "stdout"
        }
      ]
    },
    {
      "cell_type": "markdown",
      "metadata": {
        "id": "FbDg7XQdT14s"
      },
      "source": [
        " Q2. Use the code from the previous classes to build the following models (15 points):"
      ]
    },
    {
      "cell_type": "code",
      "metadata": {
        "colab": {
          "base_uri": "https://localhost:8080/"
        },
        "id": "jvlnl6u2SmId",
        "outputId": "96eb90b2-7b84-44e4-ff8c-03fbf83a230e"
      },
      "source": [
        "# Question 2\n",
        "# Function to return models\n",
        "def createModels(classAlgName,vectorMethod,trainingSet):\n",
        "  # create model\n",
        "  model = make_pipeline(vectorMethod, classAlgName)\n",
        "  # fit model\n",
        "  model.fit(trainingSet['Tweet text'], trainingSet[['Polarity']].values)\n",
        "  return model\n",
        "\n",
        "# Model : SVM using TF-IDF, Naive Bayes using TF-IDF, Random Forest using TF-IDF\n",
        "model_1 = createModels(LinearSVC(),TfidfVectorizer(),train) # SVM using TF-IDF\n",
        "model_2 = createModels(MultinomialNB(),TfidfVectorizer(),train) # Naive Bayes using TF-IDF\n",
        "#model_3 = createModels(RandomForestClassifier(),TfidfVectorizer(),train) #Random Forest using TF-IDF"
      ],
      "execution_count": null,
      "outputs": [
        {
          "output_type": "stream",
          "text": [
            "/usr/local/lib/python3.7/dist-packages/sklearn/utils/validation.py:760: DataConversionWarning: A column-vector y was passed when a 1d array was expected. Please change the shape of y to (n_samples, ), for example using ravel().\n",
            "  y = column_or_1d(y, warn=True)\n",
            "/usr/local/lib/python3.7/dist-packages/sklearn/utils/validation.py:760: DataConversionWarning: A column-vector y was passed when a 1d array was expected. Please change the shape of y to (n_samples, ), for example using ravel().\n",
            "  y = column_or_1d(y, warn=True)\n"
          ],
          "name": "stderr"
        }
      ]
    },
    {
      "cell_type": "code",
      "metadata": {
        "colab": {
          "base_uri": "https://localhost:8080/"
        },
        "id": "IJPXfCCKZLDU",
        "outputId": "d9f57d27-595f-4465-c0f7-d66334cd074b"
      },
      "source": [
        "# Tesing the models performance\n",
        "\n",
        "# SVM using TF-IDF\n",
        "test_vals = test[['Polarity']].values\n",
        "labels_1 = model_1.predict(test['Tweet text'])\n",
        "\n",
        "print('Results SVM using TF-IDF')\n",
        "print('-------------------------------')\n",
        "print('Precision:', sklearn.metrics.precision_score(test_vals,labels_1,average=\"binary\", pos_label= 4))\n",
        "print('Recall:', sklearn.metrics.recall_score(test_vals,labels_1,average=\"binary\", pos_label= 4))\n",
        "print('F1 Score:', sklearn.metrics.f1_score(labels_1, test_vals, average='macro'))\n"
      ],
      "execution_count": null,
      "outputs": [
        {
          "output_type": "stream",
          "text": [
            "Results SVM using TF-IDF\n",
            "-------------------------------\n",
            "Precision: 0.79442089124214\n",
            "Recall: 0.7998725023905802\n",
            "F1 Score: 0.7964350770685049\n"
          ],
          "name": "stdout"
        }
      ]
    },
    {
      "cell_type": "code",
      "metadata": {
        "colab": {
          "base_uri": "https://localhost:8080/"
        },
        "id": "lEY5vdcxZi3R",
        "outputId": "54a3185b-7988-46de-97fc-a457ee3c9912"
      },
      "source": [
        "# Naive Bayes using TF-IDF\n",
        "labels_2 = model_2.predict(test['Tweet text'])\n",
        "\n",
        "print('Results Naive Bayes using TF-IDF')\n",
        "print('---------------------------------')\n",
        "print('Precision:', sklearn.metrics.precision_score(test_vals,labels_2,average=\"binary\", pos_label= 4))\n",
        "print('Recall:', sklearn.metrics.recall_score(test_vals,labels_2,average=\"binary\", pos_label= 4))\n",
        "print('F1 Score:', sklearn.metrics.f1_score(labels_2, test_vals, average='macro'))"
      ],
      "execution_count": null,
      "outputs": [
        {
          "output_type": "stream",
          "text": [
            "Results Naive Bayes using TF-IDF\n",
            "---------------------------------\n",
            "Precision: 0.8012933649550493\n",
            "Recall: 0.7263988800209996\n",
            "F1 Score: 0.7726319283754856\n"
          ],
          "name": "stdout"
        }
      ]
    },
    {
      "cell_type": "markdown",
      "metadata": {
        "id": "h17xX-yqUBBa"
      },
      "source": [
        "Q3. Use the code from the LSTM class to build a classifier for negative and positive\n",
        "sentiment tweets. Train the model with the training data split. "
      ]
    },
    {
      "cell_type": "code",
      "metadata": {
        "colab": {
          "base_uri": "https://localhost:8080/"
        },
        "id": "O6pHT0LXUJFi",
        "outputId": "9fcfad86-cec4-487f-89ba-a27193fdba74"
      },
      "source": [
        "# Padding the DataFrames\n",
        "# The length of reviews\n",
        "tweet_length = 500\n",
        "# Padding the training data\n",
        "tokenizer = Tokenizer(filters='!\"#$%&()*+,-./:;<=>?@[\\]^_`{|}~', lower=True)\n",
        "tokenizer.fit_on_texts(train['Tweet text'].values)\n",
        "word_index = tokenizer.word_index\n",
        "x_train = tokenizer.texts_to_sequences(train['Tweet text'].values)\n",
        "x_train = sequence.pad_sequences(x_train, maxlen= tweet_length)\n",
        "\n",
        "# Building the model\n",
        "vocab_size = len(word_index) + 1\n",
        "model = tf.keras.models.Sequential()\n",
        "\n",
        "model.add(\n",
        "    tf.keras.layers.Embedding(\n",
        "        input_dim = vocab_size, # The size of our vocabulary \n",
        "        output_dim = 32, # Dimensions to which each words shall be mapped\n",
        "        input_length = tweet_length # Length of input sequences\n",
        "    )\n",
        ")\n",
        "\n",
        "model.add(\n",
        "    tf.keras.layers.Dropout(\n",
        "        rate=0.25 # Randomly disable 25% of neurons\n",
        "    )\n",
        ")\n",
        "\n",
        "model.add(\n",
        "    tf.keras.layers.LSTM(\n",
        "        units=32 # 32 LSTM units in this layer\n",
        "    )\n",
        ")\n",
        "\n",
        "# Add a second dropout layer with the same aim as the first.\n",
        "model.add(\n",
        "    tf.keras.layers.Dropout(\n",
        "        rate=0.25 # Randomly disable 25% of neurons\n",
        "    )\n",
        ")\n",
        "\n",
        "model.add(\n",
        "    tf.keras.layers.Dense(\n",
        "        units=1, # Single unit\n",
        "        activation='sigmoid' # Sigmoid activation function (output from 0 to 1)\n",
        "    )\n",
        ")\n",
        "\n",
        "# Compile the model\n",
        "model.compile(\n",
        "    loss=tf.keras.losses.binary_crossentropy, # loss function\n",
        "    optimizer=tf.keras.optimizers.Adam(), # optimiser function\n",
        "    metrics=['accuracy']) # reporting metric\n",
        "\n",
        "print('LSTM class summary')\n",
        "model.summary()"
      ],
      "execution_count": null,
      "outputs": [
        {
          "output_type": "stream",
          "text": [
            "LSTM class summary\n",
            "Model: \"sequential\"\n",
            "_________________________________________________________________\n",
            "Layer (type)                 Output Shape              Param #   \n",
            "=================================================================\n",
            "embedding (Embedding)        (None, 500, 32)           19045152  \n",
            "_________________________________________________________________\n",
            "dropout (Dropout)            (None, 500, 32)           0         \n",
            "_________________________________________________________________\n",
            "lstm (LSTM)                  (None, 32)                8320      \n",
            "_________________________________________________________________\n",
            "dropout_1 (Dropout)          (None, 32)                0         \n",
            "_________________________________________________________________\n",
            "dense (Dense)                (None, 1)                 33        \n",
            "=================================================================\n",
            "Total params: 19,053,505\n",
            "Trainable params: 19,053,505\n",
            "Non-trainable params: 0\n",
            "_________________________________________________________________\n"
          ],
          "name": "stdout"
        }
      ]
    },
    {
      "cell_type": "code",
      "metadata": {
        "colab": {
          "base_uri": "https://localhost:8080/"
        },
        "id": "w-mtsEyZVBQl",
        "outputId": "bb60fbbd-c63f-4baa-f991-08c6d71d8ead"
      },
      "source": [
        "# Create the model\n",
        "y_train = np.array(train[['Polarity']].values)\n",
        "y_train[ y_train== 4] = 1\n",
        "\n",
        "model.fit(x_train,y_train,batch_size=1024,epochs=3, validation_split=0.2,verbose=1)"
      ],
      "execution_count": null,
      "outputs": [
        {
          "output_type": "stream",
          "text": [
            "Epoch 1/3\n",
            "1000/1000 [==============================] - 382s 351ms/step - loss: 0.5136 - accuracy: 0.7425 - val_loss: 0.4101 - val_accuracy: 0.8129\n",
            "Epoch 2/3\n",
            "1000/1000 [==============================] - 348s 348ms/step - loss: 0.3687 - accuracy: 0.8363 - val_loss: 0.4128 - val_accuracy: 0.8125\n",
            "Epoch 3/3\n",
            "1000/1000 [==============================] - 350s 350ms/step - loss: 0.2971 - accuracy: 0.8739 - val_loss: 0.4382 - val_accuracy: 0.8046\n"
          ],
          "name": "stdout"
        },
        {
          "output_type": "execute_result",
          "data": {
            "text/plain": [
              "<tensorflow.python.keras.callbacks.History at 0x7fb61a308390>"
            ]
          },
          "metadata": {
            "tags": []
          },
          "execution_count": 35
        }
      ]
    },
    {
      "cell_type": "code",
      "metadata": {
        "colab": {
          "base_uri": "https://localhost:8080/"
        },
        "id": "xW5gwg7BVVjJ",
        "outputId": "36cdefb9-fc3f-4e03-ffa2-3ecca39fbf6c"
      },
      "source": [
        "# Display performance\n",
        "# Padding the data\n",
        "tokenizer = Tokenizer(filters='!\"#$%&()*+,-./:;<=>?@[\\]^_`{|}~', lower=True)\n",
        "tokenizer.fit_on_texts(test['Tweet text'].values)\n",
        "word_index = tokenizer.word_index\n",
        "x_test = tokenizer.texts_to_sequences(test['Tweet text'].values)\n",
        "x_test = sequence.pad_sequences(x_test, maxlen= tweet_length)\n",
        "y_test = np.array(test[['Polarity']].values)\n",
        "y_test[ y_test == 4] = 1\n",
        "\n",
        "# Labelling scores\n",
        "class_names = [\"Negative\", \"Positive\"]\n",
        "\n",
        "# Printing results\n",
        "predicted_classes = model.predict_classes(x_test)\n",
        "LSTM_report = classification_report(y_test, predicted_classes, target_names=class_names)\n",
        "print('Performance: LSTM')\n",
        "print(LSTM_report)"
      ],
      "execution_count": null,
      "outputs": [
        {
          "output_type": "stream",
          "text": [
            "/usr/local/lib/python3.7/dist-packages/tensorflow/python/keras/engine/sequential.py:450: UserWarning: `model.predict_classes()` is deprecated and will be removed after 2021-01-01. Please use instead:* `np.argmax(model.predict(x), axis=-1)`,   if your model does multi-class classification   (e.g. if it uses a `softmax` last-layer activation).* `(model.predict(x) > 0.5).astype(\"int32\")`,   if your model does binary classification   (e.g. if it uses a `sigmoid` last-layer activation).\n",
            "  warnings.warn('`model.predict_classes()` is deprecated and '\n"
          ],
          "name": "stderr"
        },
        {
          "output_type": "stream",
          "text": [
            "Performance: LSTM\n",
            "              precision    recall  f1-score   support\n",
            "\n",
            "    Negative       0.54      0.58      0.56    159997\n",
            "    Positive       0.55      0.51      0.53    160003\n",
            "\n",
            "    accuracy                           0.55    320000\n",
            "   macro avg       0.55      0.55      0.55    320000\n",
            "weighted avg       0.55      0.55      0.55    320000\n",
            "\n"
          ],
          "name": "stdout"
        }
      ]
    },
    {
      "cell_type": "markdown",
      "metadata": {
        "id": "WutlK8mAVbcK"
      },
      "source": [
        "Question: What can you say about the performance of this model?\n",
        "\n",
        "Surprisingly, the performance of the LSTM appears to be lower than the other models. Additionally, the scores for precision, recall, and f1 appear to be very similar. "
      ]
    },
    {
      "cell_type": "markdown",
      "metadata": {
        "id": "u2jYLEouVif9"
      },
      "source": [
        "Q4. Compare all models together in terms of Precision, Recall and F1 score. Put all of these numbers in a nicely formatted dataframe. "
      ]
    },
    {
      "cell_type": "code",
      "metadata": {
        "colab": {
          "base_uri": "https://localhost:8080/"
        },
        "id": "dgXt_lCQVqHO",
        "outputId": "974b1b64-ffe5-4209-f699-1a43542dab7b"
      },
      "source": [
        "# Question 4\n",
        "# Precision \n",
        "P_1 = sklearn.metrics.precision_score(test_vals,labels_1,average=\"binary\", pos_label= 4) # SVM\n",
        "P_2 = sklearn.metrics.precision_score(test_vals,labels_2,average=\"binary\", pos_label= 4) # NB\n",
        "P_3 = LSTM_report[0:][291:296]\n",
        "\n",
        "prec = [P_1, P_2, P_3]\n",
        "\n",
        "# Recall\n",
        "R_1 = sklearn.metrics.recall_score(test_vals,labels_1,average=\"binary\", pos_label= 4)\n",
        "R_2 = sklearn.metrics.recall_score(test_vals,labels_2,average=\"binary\", pos_label= 4)\n",
        "R_3 = LSTM_report[0:][301:305]\n",
        "\n",
        "rec = [R_1, R_2, R_3]\n",
        "\n",
        "# F-1 score \n",
        "F_1 = sklearn.metrics.f1_score(labels_1, test_vals, average='macro')\n",
        "F_2 = sklearn.metrics.f1_score(labels_2, test_vals, average='macro')\n",
        "F_3 = LSTM_report[0:][311:315]\n",
        "\n",
        "f1_score = [F_1, F_2, F_3]\n",
        "\n",
        "model_name = ['SVM', 'Naive Bayes', 'LSTM']\n",
        "\n",
        "# Create a DataFrame \n",
        "print('Review of Models')\n",
        "dataFrame_with_scores = pd.DataFrame({\"model name\": model_name, \"precision\": prec, \"recall\":rec, \"f1_score\":f1_score})\n",
        "\n",
        "print(dataFrame_with_scores)"
      ],
      "execution_count": null,
      "outputs": [
        {
          "output_type": "stream",
          "text": [
            "Review of Models\n",
            "    model name precision    recall  f1_score\n",
            "0          SVM  0.794421  0.799873  0.796435\n",
            "1  Naive Bayes  0.801293  0.726399  0.772632\n",
            "2         LSTM     0.55       0.55      0.55\n"
          ],
          "name": "stdout"
        }
      ]
    },
    {
      "cell_type": "markdown",
      "metadata": {
        "id": "MRtoU0pxVuNO"
      },
      "source": [
        "Which model performs the best? \n",
        "\n",
        "According to the results above, SVM using TF-IDF\n",
        "\n",
        "Why do you think this is? \n",
        "\n",
        "The reason why I am choosing SVM is because it's overall score for precision, recall, and f1 is about 0.8, which is higher than any other models.\n",
        "\n",
        "What do you think you can do to improve performance?\n",
        "\n",
        "Here, the analysis was done without adequate pre-processing steps. I believe the performance can be improved by processing the data (e.g. removing stopwords) before creating the models, and prediting the model results."
      ]
    },
    {
      "cell_type": "markdown",
      "metadata": {
        "id": "sMvR6Ae1V7Ji"
      },
      "source": [
        "Q5. Add to the comparison of #4 a the manually calculated precision, recall and F1 score using VADER and their suggested defaults to categorize the test split tweets in positive or negative."
      ]
    },
    {
      "cell_type": "code",
      "metadata": {
        "id": "Zf1hyjx2WEJY"
      },
      "source": [
        "# Question 5\n",
        "# Get sentiment score - Using VADER\n",
        "sentiment_score = []\n",
        "tweets = neg_pos_data['Tweet text'].values\n",
        "\n",
        "for word in tweets:\n",
        "  sia = SIA()\n",
        "  scores = sia.polarity_scores(word)\n",
        "  sentiment_score.append(scores)\n",
        "\n",
        "x = sentiment_score"
      ],
      "execution_count": null,
      "outputs": []
    },
    {
      "cell_type": "code",
      "metadata": {
        "id": "L5ESYD-QCIUo"
      },
      "source": [
        "# Labeled Positive vs Negative\n",
        "match_neg = 0\n",
        "mismatch_neg = 0\n",
        "match_pos = 0\n",
        "mismatch_pos = 0\n",
        "comp_score_pos = []\n",
        "comp_score_neg = []\n",
        "# Negative section\n",
        "for i in range(0,len(data_N)):\n",
        "  comp_score_neg.append(x[i]['compound'])\n",
        "  if comp_score_neg[i] <= -0.05:\n",
        "    match_neg += 1\n",
        "  else:\n",
        "    mismatch_neg += 1\n",
        "# Positive section\n",
        "k = 0\n",
        "for i in range(len(data_N),len(neg_pos_data)):\n",
        "  comp_score_pos.append(x[i]['compound'])\n",
        "  if comp_score_pos[k] >= 0.05:\n",
        "    match_pos += 1\n",
        "  else:\n",
        "    mismatch_pos += 1\n",
        "  k += 1"
      ],
      "execution_count": null,
      "outputs": []
    },
    {
      "cell_type": "code",
      "metadata": {
        "colab": {
          "base_uri": "https://localhost:8080/",
          "height": 318
        },
        "id": "1ISCY7mxOU-3",
        "outputId": "96df5f6c-07eb-4f92-ebc1-4e22b006f791"
      },
      "source": [
        "# Printing results\n",
        "# Negative results\n",
        "y = comp_score_neg\n",
        "x = range(0,len(comp_score_neg))\n",
        "plt.hist(y) \n",
        "plt.title('Compound score distribution for negative tweets')\n",
        "plt.xlabel('Compound score')\n",
        "plt.ylabel('# of reviews')\n",
        "plt.show()\n",
        "print('Figure 1')"
      ],
      "execution_count": null,
      "outputs": [
        {
          "output_type": "display_data",
          "data": {
            "image/png": "[encoded data removed]",
            "text/plain": [
              "<Figure size 432x288 with 1 Axes>"
            ]
          },
          "metadata": {
            "tags": [],
            "needs_background": "light"
          }
        },
        {
          "output_type": "stream",
          "text": [
            "Figure 1\n"
          ],
          "name": "stdout"
        }
      ]
    },
    {
      "cell_type": "code",
      "metadata": {
        "colab": {
          "base_uri": "https://localhost:8080/",
          "height": 318
        },
        "id": "oNi9CH7kP-ph",
        "outputId": "8a0a2e20-4ad5-4cae-ae5f-22973f7524dd"
      },
      "source": [
        "# Positive results\n",
        "y = comp_score_pos\n",
        "x = range(0,len(comp_score_pos))\n",
        "plt.hist(y) \n",
        "plt.title('Compound score distribution for positive tweets')\n",
        "plt.xlabel('Compound score')\n",
        "plt.ylabel('# of reviews')\n",
        "plt.show()\n",
        "print('Figure 2')"
      ],
      "execution_count": null,
      "outputs": [
        {
          "output_type": "display_data",
          "data": {
            "image/png": "[encoded data removed]",
            "text/plain": [
              "<Figure size 432x288 with 1 Axes>"
            ]
          },
          "metadata": {
            "tags": [],
            "needs_background": "light"
          }
        },
        {
          "output_type": "stream",
          "text": [
            "Figure 2\n"
          ],
          "name": "stdout"
        }
      ]
    },
    {
      "cell_type": "code",
      "metadata": {
        "id": "yIVLypixR6oi"
      },
      "source": [
        "# Computing Precision, Recall and F1 score\n",
        "# Precision TP/(TP + FP):\n",
        "prec_VADER = match_pos/ (match_pos + mismatch_neg)\n",
        "\n",
        "# recall TP/(TP + FN)\n",
        "rec_VADER = match_pos/ (match_pos + mismatch_pos)\n",
        "\n",
        "# F1 score 2*Prec*Recall/(Prec + Recall)\n",
        "f1_VADER = 2*prec_VADER*rec_VADER/(prec_VADER + rec_VADER)"
      ],
      "execution_count": null,
      "outputs": []
    },
    {
      "cell_type": "code",
      "metadata": {
        "colab": {
          "base_uri": "https://localhost:8080/"
        },
        "id": "nYRIaZioUV6I",
        "outputId": "559df4c8-ccd2-43b3-cc71-2d03088c31e5"
      },
      "source": [
        "# Updated Q4 Table \n",
        "prec.append(prec_VADER)\n",
        "rec.append(rec_VADER)\n",
        "f1_score.append(f1_VADER)\n",
        "model_name.append('VADER')\n",
        "\n",
        "# Create a DataFrame \n",
        "print('Review of Models')\n",
        "dataFrame_with_scores = pd.DataFrame({\"model name\": model_name, \"precision\": prec, \"recall\":rec, \"f1_score\":f1_score})\n",
        "\n",
        "print(dataFrame_with_scores)"
      ],
      "execution_count": null,
      "outputs": [
        {
          "output_type": "stream",
          "text": [
            "Review of Models\n",
            "    model name precision    recall  f1_score\n",
            "0          SVM  0.794421  0.799873  0.796435\n",
            "1  Naive Bayes  0.801293  0.726399  0.772632\n",
            "2         LSTM     0.55       0.55      0.55\n",
            "3        VADER  0.514112  0.615003   0.56005\n"
          ],
          "name": "stdout"
        }
      ]
    },
    {
      "cell_type": "markdown",
      "metadata": {
        "id": "ju-2bdhJWGdb"
      },
      "source": [
        "Question:\n",
        "Is this approach as good as the previous\n",
        "ones? Why do you think this is?\n",
        "\n",
        "Looking at the performance results, i do not think that VADER is as good as the other methods. In fact, its scores are one of the lowest on the performance table. This is probably due to its intrinsic methodological steps."
      ]
    },
    {
      "cell_type": "markdown",
      "metadata": {
        "id": "vS5eV7bYWMj6"
      },
      "source": [
        "Bonus: \n",
        "\n",
        "Try the following things to improve the LSTM model:\n",
        "\n",
        "\n",
        "1) Use 90% training data, 10% testing\n",
        "\n",
        "\n",
        "2) Remove stopwords from the tweets.\n",
        "\n",
        "\n",
        "3) Remove all user mentions for the tweets (@something)"
      ]
    },
    {
      "cell_type": "code",
      "metadata": {
        "colab": {
          "base_uri": "https://localhost:8080/"
        },
        "id": "iQQZxy2xWZqH",
        "outputId": "642dcff3-9985-44e4-c773-3f8579366ce8"
      },
      "source": [
        "# Bonus\n",
        "# 1 - 90% training | 10% testing\n",
        "\n",
        "train_1, test_1 = train_test_split(neg_pos_data, train_size= 0.9, test_size = 0.1)\n",
        "tweet_length = 500\n",
        "\n",
        "\n",
        "# Padding the training data\n",
        "tokenizer = Tokenizer(filters='!\"#$%&()*+,-./:;<=>?@[\\]^_`{|}~', lower=True)\n",
        "tokenizer.fit_on_texts(train_1['Tweet text'].values)\n",
        "word_index = tokenizer.word_index\n",
        "x_train_1 = tokenizer.texts_to_sequences(train_1['Tweet text'].values)\n",
        "x_train_1 = sequence.pad_sequences(x_train_1, maxlen= tweet_length) \n",
        "\n",
        "\n",
        "y_train_1 = np.array(train_1[['Polarity']].values)\n",
        "y_train_1[ y_train_1== 4] = 1\n",
        "\n",
        "model.fit(x_train_1,y_train_1,batch_size=256,epochs=3, validation_split=0.2,verbose=1) # batch size original = 256\n",
        "\n",
        "# Display performance\n",
        "tokenizer = Tokenizer(filters='!\"#$%&()*+,-./:;<=>?@[\\]^_`{|}~', lower=True)\n",
        "tokenizer.fit_on_texts(test_1['Tweet text'].values)\n",
        "word_index = tokenizer.word_index\n",
        "x_test_1 = tokenizer.texts_to_sequences(test_1['Tweet text'].values)\n",
        "x_test_1 = sequence.pad_sequences(x_test_1, maxlen= tweet_length)\n",
        "\n",
        "y_test_1 = np.array(test_1[['Polarity']].values)\n",
        "y_test_1[ y_test_1 == 4] = 1\n",
        "\n",
        "# Labelling scores\n",
        "class_names = [\"Negative\", \"Positive\"]\n",
        "\n",
        "# Printing results\n",
        "predicted_classes_1 = model.predict_classes(x_test_1)\n",
        "LSTM_report = classification_report(y_test_1, predicted_classes_1, target_names=class_names)\n",
        "print('Performance: LSTM - 90/10 splitting data')\n",
        "print(LSTM_report)\n"
      ],
      "execution_count": null,
      "outputs": [
        {
          "output_type": "stream",
          "text": [
            "Epoch 1/3\n",
            "4500/4500 [==============================] - 1008s 217ms/step - loss: 0.4686 - accuracy: 0.7746 - val_loss: 0.3955 - val_accuracy: 0.8205\n",
            "Epoch 2/3\n",
            "4500/4500 [==============================] - 983s 218ms/step - loss: 0.3456 - accuracy: 0.8489 - val_loss: 0.4092 - val_accuracy: 0.8150\n",
            "Epoch 3/3\n",
            "4500/4500 [==============================] - 978s 217ms/step - loss: 0.2745 - accuracy: 0.8860 - val_loss: 0.4312 - val_accuracy: 0.8096\n"
          ],
          "name": "stdout"
        },
        {
          "output_type": "stream",
          "text": [
            "/usr/local/lib/python3.7/dist-packages/tensorflow/python/keras/engine/sequential.py:450: UserWarning: `model.predict_classes()` is deprecated and will be removed after 2021-01-01. Please use instead:* `np.argmax(model.predict(x), axis=-1)`,   if your model does multi-class classification   (e.g. if it uses a `softmax` last-layer activation).* `(model.predict(x) > 0.5).astype(\"int32\")`,   if your model does binary classification   (e.g. if it uses a `sigmoid` last-layer activation).\n",
            "  warnings.warn('`model.predict_classes()` is deprecated and '\n"
          ],
          "name": "stderr"
        },
        {
          "output_type": "stream",
          "text": [
            "Performance: LSTM - 90/10 splitting data\n",
            "              precision    recall  f1-score   support\n",
            "\n",
            "    Negative       0.56      0.56      0.56     80156\n",
            "    Positive       0.56      0.56      0.56     79844\n",
            "\n",
            "    accuracy                           0.56    160000\n",
            "   macro avg       0.56      0.56      0.56    160000\n",
            "weighted avg       0.56      0.56      0.56    160000\n",
            "\n"
          ],
          "name": "stdout"
        }
      ]
    },
    {
      "cell_type": "code",
      "metadata": {
        "colab": {
          "base_uri": "https://localhost:8080/"
        },
        "id": "QI9MANgHyUww",
        "outputId": "94a5352e-03a4-4b1c-9d97-38071f104829"
      },
      "source": [
        "# 2 - Remove stopwords from the tweets\n",
        "\n",
        "def returnFilteredToken(reviews):\n",
        "  stop_words = set(stopwords.words('english')) \n",
        "  filter_rev = []\n",
        "  for word in reviews:\n",
        "    word_t = word_tokenize(word)\n",
        "    filtered_word = [w for w in word_t if not w in stop_words]\n",
        "    filter_rev.append(filtered_word)  \n",
        "  return filter_rev\n",
        "\n",
        "data_filtered = returnFilteredToken(neg_pos_data['Tweet text'])\n",
        "\n",
        "# Data Frame after removing stopwords\n",
        "def returnListOfString(s):\n",
        "  s_new = []\n",
        "  for i in s:\n",
        "    l_2_str = ' '.join([str(elem) for elem in i]) \n",
        "    s_new.append(l_2_str)\n",
        "  return s_new\n",
        "\n",
        "# Array for polarity\n",
        "pol = np.array(neg_pos_data[['Polarity']].values)\n",
        "array_pol = []\n",
        "for i in range(0,len(pol)):\n",
        "  array_pol.append(pol[i][0])\n",
        "\n",
        "data_filtered_n = returnListOfString(data_filtered)\n",
        "all_data_filt = pd.DataFrame({\"Polarity\": array_pol,\"Tweet text\": data_filtered_n}) \n",
        "\n",
        "# Model & Performance\n",
        "\n",
        "train_2, test_2 = train_test_split(all_data_filt, train_size= 0.9, test_size = 0.1)\n",
        "tweet_length = 500\n",
        "\n",
        "\n",
        "# Padding the training data\n",
        "tokenizer = Tokenizer(filters='!\"#$%&()*+,-./:;<=>?@[\\]^_`{|}~', lower=True)\n",
        "tokenizer.fit_on_texts(train_2['Tweet text'].values)\n",
        "word_index = tokenizer.word_index\n",
        "x_train_2 = tokenizer.texts_to_sequences(train_2['Tweet text'].values)\n",
        "x_train_2 = sequence.pad_sequences(x_train_2, maxlen= tweet_length) \n",
        "\n",
        "\n",
        "y_train_2 = np.array(train_2[['Polarity']].values)\n",
        "y_train_2[ y_train_2== 4] = 1\n",
        "\n",
        "model.fit(x_train_2,y_train_2,batch_size=256,epochs=3, validation_split=0.2,verbose=1) \n",
        "\n",
        "# Display performance\n",
        "tokenizer = Tokenizer(filters='!\"#$%&()*+,-./:;<=>?@[\\]^_`{|}~', lower=True)\n",
        "tokenizer.fit_on_texts(test_2['Tweet text'].values)\n",
        "word_index = tokenizer.word_index\n",
        "x_test_2 = tokenizer.texts_to_sequences(test_2['Tweet text'].values)\n",
        "x_test_2 = sequence.pad_sequences(x_test_2, maxlen= tweet_length)\n",
        "\n",
        "y_test_2 = np.array(test_2[['Polarity']].values)\n",
        "y_test_2[ y_test_2 == 4] = 1\n",
        "\n",
        "# Labelling scores\n",
        "class_names = [\"Negative\", \"Positive\"]\n",
        "\n",
        "# Printing results\n",
        "predicted_classes_2 = model.predict_classes(x_test_2)\n",
        "LSTM_report = classification_report(y_test_2, predicted_classes_2, target_names=class_names)\n",
        "print('Performance: LSTM - Stopword removed')\n",
        "print(LSTM_report)"
      ],
      "execution_count": null,
      "outputs": [
        {
          "output_type": "stream",
          "text": [
            "/usr/local/lib/python3.7/dist-packages/tensorflow/python/keras/engine/sequential.py:450: UserWarning: `model.predict_classes()` is deprecated and will be removed after 2021-01-01. Please use instead:* `np.argmax(model.predict(x), axis=-1)`,   if your model does multi-class classification   (e.g. if it uses a `softmax` last-layer activation).* `(model.predict(x) > 0.5).astype(\"int32\")`,   if your model does binary classification   (e.g. if it uses a `sigmoid` last-layer activation).\n",
            "  warnings.warn('`model.predict_classes()` is deprecated and '\n"
          ],
          "name": "stderr"
        },
        {
          "output_type": "stream",
          "text": [
            "Performance: LSTM - Stopword removed\n",
            "              precision    recall  f1-score   support\n",
            "\n",
            "    Negative       0.54      0.56      0.55     80143\n",
            "    Positive       0.54      0.52      0.53     79857\n",
            "\n",
            "    accuracy                           0.54    160000\n",
            "   macro avg       0.54      0.54      0.54    160000\n",
            "weighted avg       0.54      0.54      0.54    160000\n",
            "\n"
          ],
          "name": "stdout"
        }
      ]
    },
    {
      "cell_type": "code",
      "metadata": {
        "colab": {
          "base_uri": "https://localhost:8080/"
        },
        "id": "DxJqD11t0WY2",
        "outputId": "1185abf2-3bf3-422d-b3db-071d1f1cbf7a"
      },
      "source": [
        "# 3 - Remove user mention\n",
        "def returnFilteredToken(reviews):\n",
        "  stop_words = set(stopwords.words('english')) \n",
        "  filter_rev = []\n",
        "  for word in reviews:\n",
        "    word_t = word_tokenize(word)\n",
        "    filtered_word = [w for w in word_t if not w in stop_words]\n",
        "    filter_rev.append(filtered_word)  \n",
        "  return filter_rev\n",
        "\n",
        "data_filtered = returnFilteredToken(neg_pos_data['Tweet text']) \n",
        "\n",
        "number_of_empty = 0\n",
        "# Removing all user metion (@ something)\n",
        "for i in range(0,len(data_filtered)):\n",
        "  if not data_filtered[i]:\n",
        "    number_of_empty += 1\n",
        "  else:\n",
        "    if data_filtered[i][0] == '@':\n",
        "      del data_filtered[i][0]\n",
        "      del data_filtered[i][0]\n",
        "\n",
        "# Data Frame after removing stopwords\n",
        "def returnListOfString(s):\n",
        "  s_new = []\n",
        "  for i in s:\n",
        "    l_2_str = ' '.join([str(elem) for elem in i]) \n",
        "    s_new.append(l_2_str)\n",
        "  return s_new\n",
        "\n",
        "# Array for polarity\n",
        "pol = np.array(neg_pos_data[['Polarity']].values)\n",
        "array_pol = []\n",
        "for i in range(0,len(pol)):\n",
        "  array_pol.append(pol[i][0])\n",
        "\n",
        "data_filtered_n = returnListOfString(data_filtered)\n",
        "all_data_filt = pd.DataFrame({\"Polarity\": array_pol,\"Tweet text\": data_filtered_n}) \n",
        "\n",
        "# Model & Performance\n",
        "\n",
        "train_2, test_2 = train_test_split(all_data_filt, train_size= 0.9, test_size = 0.1)\n",
        "tweet_length = 500\n",
        "\n",
        "\n",
        "# Padding the training data\n",
        "tokenizer = Tokenizer(filters='!\"#$%&()*+,-./:;<=>?@[\\]^_`{|}~', lower=True)\n",
        "tokenizer.fit_on_texts(train_2['Tweet text'].values)\n",
        "word_index = tokenizer.word_index\n",
        "x_train_2 = tokenizer.texts_to_sequences(train_2['Tweet text'].values)\n",
        "x_train_2 = sequence.pad_sequences(x_train_2, maxlen= tweet_length)\n",
        "\n",
        "\n",
        "y_train_2 = np.array(train_2[['Polarity']].values)\n",
        "y_train_2[ y_train_2== 4] = 1 \n",
        "\n",
        "model.fit(x_train_2,y_train_2,batch_size=256,epochs=3, validation_split=0.2,verbose=1)\n",
        "\n",
        "# Display performance\n",
        "tokenizer = Tokenizer(filters='!\"#$%&()*+,-./:;<=>?@[\\]^_`{|}~', lower=True)\n",
        "tokenizer.fit_on_texts(test_2['Tweet text'].values)\n",
        "word_index = tokenizer.word_index\n",
        "x_test_2 = tokenizer.texts_to_sequences(test_2['Tweet text'].values)\n",
        "x_test_2 = sequence.pad_sequences(x_test_2, maxlen= tweet_length)\n",
        "\n",
        "y_test_2 = np.array(test_2[['Polarity']].values)\n",
        "y_test_2[ y_test_2 == 4] = 1\n",
        "\n",
        "# Labelling scores\n",
        "class_names = [\"Negative\", \"Positive\"]\n",
        "\n",
        "# Printing results\n",
        "predicted_classes_2 = model.predict_classes(x_test_2)\n",
        "LSTM_report = classification_report(y_test_2, predicted_classes_2, target_names=class_names)\n",
        "print('Performance: LSTM - User mentioned removed')\n",
        "print(LSTM_report)"
      ],
      "execution_count": null,
      "outputs": [
        {
          "output_type": "stream",
          "text": [
            "Epoch 1/3\n",
            "4500/4500 [==============================] - 710s 151ms/step - loss: 0.4910 - accuracy: 0.7604 - val_loss: 0.4334 - val_accuracy: 0.7975\n",
            "Epoch 2/3\n",
            "4500/4500 [==============================] - 673s 149ms/step - loss: 0.4040 - accuracy: 0.8148 - val_loss: 0.4325 - val_accuracy: 0.7997\n",
            "Epoch 3/3\n",
            "4500/4500 [==============================] - 673s 150ms/step - loss: 0.3675 - accuracy: 0.8349 - val_loss: 0.4421 - val_accuracy: 0.7970\n"
          ],
          "name": "stdout"
        },
        {
          "output_type": "stream",
          "text": [
            "/usr/local/lib/python3.7/dist-packages/tensorflow/python/keras/engine/sequential.py:450: UserWarning: `model.predict_classes()` is deprecated and will be removed after 2021-01-01. Please use instead:* `np.argmax(model.predict(x), axis=-1)`,   if your model does multi-class classification   (e.g. if it uses a `softmax` last-layer activation).* `(model.predict(x) > 0.5).astype(\"int32\")`,   if your model does binary classification   (e.g. if it uses a `sigmoid` last-layer activation).\n",
            "  warnings.warn('`model.predict_classes()` is deprecated and '\n"
          ],
          "name": "stderr"
        },
        {
          "output_type": "stream",
          "text": [
            "Performance: LSTM - User mentioned removed\n",
            "              precision    recall  f1-score   support\n",
            "\n",
            "    Negative       0.54      0.55      0.55     80143\n",
            "    Positive       0.54      0.54      0.54     79857\n",
            "\n",
            "    accuracy                           0.54    160000\n",
            "   macro avg       0.54      0.54      0.54    160000\n",
            "weighted avg       0.54      0.54      0.54    160000\n",
            "\n"
          ],
          "name": "stdout"
        }
      ]
    },
    {
      "cell_type": "markdown",
      "metadata": {
        "id": "FWmB-bSUvavz"
      },
      "source": [
        " Did this change the results in any way? \n",
        " No, the LSTM performance did not significantly improved for 90-10 dataset, without stopwords, or after removing the tweets mention.\n",
        "\n",
        "\n",
        " Why do you think so?\n",
        " Becuase LSTM uses a recurrent neural method, that repeatedly process the data. So, the results is the most accurate results, regardless of additional pre-processing steps."
      ]
    }
  ]
}