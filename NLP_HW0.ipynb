{
  "nbformat": 4,
  "nbformat_minor": 0,
  "metadata": {
    "colab": {
      "name": "NLP_HW0.ipynb",
      "provenance": []
    },
    "kernelspec": {
      "name": "python3",
      "display_name": "Python 3"
    }
  },
  "cells": [
    {
      "cell_type": "markdown",
      "metadata": {
        "id": "PcRLmW7jgj-J"
      },
      "source": [
        "Name: Armel Nsiangani |  \r\n",
        "Student ID#: 001-99-1988\r\n",
        "\r\n"
      ]
    },
    {
      "cell_type": "markdown",
      "metadata": {
        "id": "2aA4tYqVki8c"
      },
      "source": [
        "Question 1:\r\n",
        "Write a function that finds the factorial of a number. Test the function finding the factorial of the number 10."
      ]
    },
    {
      "cell_type": "code",
      "metadata": {
        "id": "gIL7pOX9g68k"
      },
      "source": [
        "def findFactor(a):\r\n",
        "  fact = 1\r\n",
        "  for i in range(1,a):\r\n",
        "    fact = fact*i\r\n",
        "  fact = fact*a\r\n",
        "  print('The factorial of',a,'is ',fact)"
      ],
      "execution_count": null,
      "outputs": []
    },
    {
      "cell_type": "code",
      "metadata": {
        "colab": {
          "base_uri": "https://localhost:8080/"
        },
        "id": "SyhNFd_xkaUI",
        "outputId": "38765e56-f17f-4ea9-be6a-638b0a380a03"
      },
      "source": [
        "# Testing function 1\r\n",
        "findFactor(10)"
      ],
      "execution_count": null,
      "outputs": [
        {
          "output_type": "stream",
          "text": [
            "The factorial of 10 is  3628800\n"
          ],
          "name": "stdout"
        }
      ]
    },
    {
      "cell_type": "markdown",
      "metadata": {
        "id": "2QGO7mhMkJeH"
      },
      "source": [
        "Question 2: Write a function that determines if a number is a prime number. Test the function with the following numbers: 3 and 1251."
      ]
    },
    {
      "cell_type": "code",
      "metadata": {
        "id": "EboilklmkVPG"
      },
      "source": [
        "def isNumberPrime(n):\r\n",
        "  ans = True\r\n",
        "  for i in range(2,n):\r\n",
        "    check = n%i\r\n",
        "    if check == 0:\r\n",
        "      ans = False\r\n",
        "  if ans:\r\n",
        "    print('Number',n, 'is a prime number')\r\n",
        "  else:\r\n",
        "    print('Number',n, 'is NOT a prime number')"
      ],
      "execution_count": null,
      "outputs": []
    },
    {
      "cell_type": "code",
      "metadata": {
        "colab": {
          "base_uri": "https://localhost:8080/"
        },
        "id": "9ligXwBFEMsA",
        "outputId": "94a65893-9cab-4072-9bc0-346af9cad124"
      },
      "source": [
        "# Testing the function 2\r\n",
        "isNumberPrime(3)\r\n",
        "isNumberPrime(1251)"
      ],
      "execution_count": null,
      "outputs": [
        {
          "output_type": "stream",
          "text": [
            "Number 3 is a prime number\n",
            "Number 1251 is NOT a prime number\n"
          ],
          "name": "stdout"
        }
      ]
    },
    {
      "cell_type": "markdown",
      "metadata": {
        "id": "ql8W-mmsKm-V"
      },
      "source": [
        "Question 3: Write a function that transposes a matrix. Test with a 3 x 3 identity matrix."
      ]
    },
    {
      "cell_type": "code",
      "metadata": {
        "id": "0xVfF4mZKysn"
      },
      "source": [
        "# Question doesn't ask to use Numpy so matrix are entered as nested list\r\n",
        "def findTrans(m):\r\n",
        "  trans_m = []\r\n",
        "  for k in range(0,len(m[0])):\r\n",
        "    c = []\r\n",
        "    for r in m: \r\n",
        "      c.append(r[k])\r\n",
        "    trans_m.append(c)\r\n",
        "  print('The transpose matrix is:')\r\n",
        "  print(trans_m)"
      ],
      "execution_count": null,
      "outputs": []
    },
    {
      "cell_type": "code",
      "metadata": {
        "colab": {
          "base_uri": "https://localhost:8080/"
        },
        "id": "HHor7QMXPODe",
        "outputId": "777fead2-e07a-4d3b-ca7d-f1198aad9390"
      },
      "source": [
        "# Testing function 3\r\n",
        "m = [[1,0,0],[0,1,0],[0,0,1]]\r\n",
        "findTrans(m)"
      ],
      "execution_count": null,
      "outputs": [
        {
          "output_type": "stream",
          "text": [
            "The transpose matrix is:\n",
            "[[1, 0, 0], [0, 1, 0], [0, 0, 1]]\n"
          ],
          "name": "stdout"
        }
      ]
    },
    {
      "cell_type": "markdown",
      "metadata": {
        "id": "nAT1Ey9RP2-T"
      },
      "source": [
        "Question 4: Using Pandas and Numpy, write a piece of code to combine two series into one."
      ]
    },
    {
      "cell_type": "code",
      "metadata": {
        "id": "UjfX0TeMQA-D"
      },
      "source": [
        "import pandas as pd\r\n",
        "def combineSeries(s1,s2):\r\n",
        "  s3 = s1.append(s2)\r\n",
        "  print('The combined series is')\r\n",
        "  print(s3)"
      ],
      "execution_count": null,
      "outputs": []
    },
    {
      "cell_type": "code",
      "metadata": {
        "colab": {
          "base_uri": "https://localhost:8080/"
        },
        "id": "r8M7tPbWT1Bl",
        "outputId": "aef0f09b-706b-4c24-8151-f304c2bcbda4"
      },
      "source": [
        "import numpy as np\r\n",
        "import pandas as pd\r\n",
        "# Testing function 4\r\n",
        "np.random.seed(0)\r\n",
        "s1 = pd.Series(np.arange(10))\r\n",
        "s2 = pd.Series(np.arange(26))\r\n",
        "combineSeries(s1,s2)"
      ],
      "execution_count": null,
      "outputs": [
        {
          "output_type": "stream",
          "text": [
            "The combined series is\n",
            "0      0\n",
            "1      1\n",
            "2      2\n",
            "3      3\n",
            "4      4\n",
            "5      5\n",
            "6      6\n",
            "7      7\n",
            "8      8\n",
            "9      9\n",
            "0      0\n",
            "1      1\n",
            "2      2\n",
            "3      3\n",
            "4      4\n",
            "5      5\n",
            "6      6\n",
            "7      7\n",
            "8      8\n",
            "9      9\n",
            "10    10\n",
            "11    11\n",
            "12    12\n",
            "13    13\n",
            "14    14\n",
            "15    15\n",
            "16    16\n",
            "17    17\n",
            "18    18\n",
            "19    19\n",
            "20    20\n",
            "21    21\n",
            "22    22\n",
            "23    23\n",
            "24    24\n",
            "25    25\n",
            "dtype: int64\n"
          ],
          "name": "stdout"
        }
      ]
    },
    {
      "cell_type": "markdown",
      "metadata": {
        "id": "EQ0qxebZU6Mx"
      },
      "source": [
        "Question 5: Using pandas, write a piece of code to convert the first character of each element in a series to uppercase."
      ]
    },
    {
      "cell_type": "code",
      "metadata": {
        "id": "0Zm9SB0EVD3I"
      },
      "source": [
        "import pandas as pd\r\n",
        "# Solution 1\r\n",
        "# This uses the built-in function \".str.title()\"\r\n",
        "def convUpperF_1(s):\r\n",
        "  return s.str.title()\r\n",
        "  \r\n",
        "# Solution 2\r\n",
        "# Covertion to uppercase is done manually \r\n",
        "def convUpperF_2(s):\r\n",
        "  lst = []\r\n",
        "  for i in range(0,len(s)):\r\n",
        "    lst.append(s[i].capitalize())\r\n",
        "  new_s = pd.Series(lst)\r\n",
        "  return new_s"
      ],
      "execution_count": 2,
      "outputs": []
    },
    {
      "cell_type": "code",
      "metadata": {
        "colab": {
          "base_uri": "https://localhost:8080/",
          "height": 0
        },
        "id": "ourHtYs7UMeX",
        "outputId": "5d23289c-3d5e-4e8a-8860-6c9a53cd541b"
      },
      "source": [
        "# Testing function 5\r\n",
        "s = pd.Series(['nlp', 'will', 'be', 'easy?'])\r\n",
        "print('Using Method 1')\r\n",
        "print(convUpperF_1(s))\r\n",
        "print()\r\n",
        "print('Using Method 2')\r\n",
        "print(convUpperF_2(s))"
      ],
      "execution_count": 3,
      "outputs": [
        {
          "output_type": "stream",
          "text": [
            "Using Method 1\n",
            "0      Nlp\n",
            "1     Will\n",
            "2       Be\n",
            "3    Easy?\n",
            "dtype: object\n",
            "\n",
            "Using Method 2\n",
            "0      Nlp\n",
            "1     Will\n",
            "2       Be\n",
            "3    Easy?\n",
            "dtype: object\n"
          ],
          "name": "stdout"
        }
      ]
    },
    {
      "cell_type": "markdown",
      "metadata": {
        "id": "fjvsEqhMX_OT"
      },
      "source": [
        "Bonus: Using pandas, write a piece of code to get the frequency of unique values in the entire dataframe (not using built in functions)."
      ]
    },
    {
      "cell_type": "code",
      "metadata": {
        "id": "Fvn0dBUhYqyA"
      },
      "source": [
        "import pandas as pd\r\n",
        "import numpy as np\r\n",
        "def getFreq(dataFrame):\r\n",
        "  vals = []\r\n",
        "  # store all vals in 1 list\r\n",
        "  for col in dataFrame.columns: \r\n",
        "      vals.append(dataFrame[col].values.tolist())\r\n",
        "  list_of_vals = [ i for e in vals for i in e]\r\n",
        "  # Get unique values in list\r\n",
        "  uniq_vals = []\r\n",
        "  for k in list_of_vals:\r\n",
        "    if k not in uniq_vals: \r\n",
        "      uniq_vals.append(k) \r\n",
        "  # Get frequency of unique values \r\n",
        "  freq_vals = []\r\n",
        "  for k in uniq_vals:\r\n",
        "    freq_vals.append(list_of_vals.count(k)/len(list_of_vals))\r\n",
        "  # display results\r\n",
        "  print('Original DataFrame')\r\n",
        "  print(dataFrame)\r\n",
        "  print()\r\n",
        "  print('Uniq. vals are:',uniq_vals)\r\n",
        "  print('% Freq. are:',freq_vals)"
      ],
      "execution_count": null,
      "outputs": []
    },
    {
      "cell_type": "code",
      "metadata": {
        "colab": {
          "base_uri": "https://localhost:8080/"
        },
        "id": "TxZfvBEui0to",
        "outputId": "4c664d30-5aaf-4f89-c9c4-d7acf701307c"
      },
      "source": [
        "# Test Bonus:\r\n",
        "import pandas as pd\r\n",
        "import numpy as np\r\n",
        "dataFrame = pd.DataFrame(np.random.randint(5, 10, 20).reshape(-1, 4), columns = list('abcd'))\r\n",
        "getFreq(dataFrame)"
      ],
      "execution_count": null,
      "outputs": [
        {
          "output_type": "stream",
          "text": [
            "Original DataFrame\n",
            "   a  b  c  d\n",
            "0  8  8  8  6\n",
            "1  8  5  7  6\n",
            "2  5  9  9  6\n",
            "3  5  6  9  7\n",
            "4  9  9  7  8\n",
            "\n",
            "Uniq. vals are: [8, 5, 9, 6, 7]\n",
            "% Freq. are: [0.25, 0.15, 0.25, 0.2, 0.15]\n"
          ],
          "name": "stdout"
        }
      ]
    }
  ]
}